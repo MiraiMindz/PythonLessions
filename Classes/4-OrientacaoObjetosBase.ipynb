{
 "cells": [
  {
   "cell_type": "markdown",
   "metadata": {},
   "source": [
    "# Programação Orientada a Objetos Básica\n",
    "\n",
    "A [programação orientada a objetos](https://pt.wikipedia.org/wiki/Programação_orientada_a_objetos) (POO em português e OOP em ingles) é um paradigma de programação que consiste na divisão do código em blocos independentes entre si.\n",
    "\n",
    "Esses blocos são chamados de ***objetos*** e esses objetos contém *propriedades* (Atributos) e *metodos*, as propriedades consistem em valores (variaveis) pertinentes ao objeto principal, já os metodos consistem em funções que performam ações no objeto principal. *Os metodos podem ou não usar as propriedades em sua execução*.\n",
    "\n",
    "Por exemplo, se fossemos representar uma pessoa, ela teria propriedades como:\n",
    "- nome\n",
    "- idade\n",
    "- residencia\n",
    "\n",
    "e teria metodos como:\n",
    "- andar\n",
    "- correr\n",
    "- falar\n",
    "\n",
    "para facilitar o entendimento, iremos fazer um simples estudante.\n",
    "\n",
    "pense no seguinte exemplo:\n",
    "\n",
    "nós temos um estudante com um nome, uma profissão (estudante) e que contem 5 notas e queremos calcular a média delas.\n",
    "\n",
    "nós poderiamos representar este estudante como um dicionário, e usar `sum() / len()`.\n",
    "\n",
    "> Nota: A Orientação a Objetos é um tópico muito complexo e confuso por si só, até mesmo as diferenciações de vocabulos basicos costumam confundir, tentarei simplificar o máximo sem perder conteudo."
   ]
  },
  {
   "cell_type": "code",
   "execution_count": 21,
   "metadata": {},
   "outputs": [
    {
     "name": "stdout",
     "output_type": "stream",
     "text": [
      "O Estudante Mirai tem média 8.24\n"
     ]
    }
   ],
   "source": [
    "estudante = {\n",
    "    \"Nome\": \"Mirai\",\n",
    "    \"Notas\": [8.6, 9.3, 7.5, 8.8, 7],\n",
    "    \"Profissao\": \"Estudante\",\n",
    "}\n",
    "\n",
    "media = sum(estudante[\"Notas\"]) / len(estudante[\"Notas\"])\n",
    "print(f\"O {estudante['Profissao']} {estudante['Nome']} tem média {media:.2f}\")"
   ]
  },
  {
   "cell_type": "markdown",
   "metadata": {},
   "source": [
    "nós poderiamos representar este mesmo estudante usando uma classe.\n",
    "\n",
    "A sintaxe básica de uma classe é a seguinte:\n",
    "\n",
    "```python\n",
    "class {Nome}:\n",
    "    def __init__(self):\n",
    "        {codigo}\n",
    "```\n",
    "\n",
    "`class` -> é a keword de declaração de uma classe \n",
    "\n",
    "`{Nome}` -> o nome da classe\n",
    "\n",
    "`def __init__(self):` -> um método especial, essencialmente, é executado toda vez que a classe é instanciada, é usado para guardar as propriedades dessa instancia.\n",
    "\n",
    "`self` -> um parametro especial, se refere a classe em si\n",
    "\n",
    "`{codigo}` -> o codigo para ser executado\n",
    "\n",
    "uma classe pode ter `n` funções, basta declara-las normalmente.\n",
    "\n",
    "vamos representar o nosso estudante como uma classe:"
   ]
  },
  {
   "cell_type": "code",
   "execution_count": 22,
   "metadata": {},
   "outputs": [
    {
     "name": "stdout",
     "output_type": "stream",
     "text": [
      "O Estudante Mirai tem a media 8.24\n"
     ]
    }
   ],
   "source": [
    "class Estudante:\n",
    "    profissao = \"Estudante\"  # esse é um Atributo de classe\n",
    "\n",
    "    def __init__(self, nome, notas):\n",
    "        self.notas = notas  # esse é um Atributo de Instancia\n",
    "        self.nome = nome  # esse é um Atributo de Instancia\n",
    "\n",
    "    def calcular_media(self):  # esse é um metodo\n",
    "        self.media = sum(self.notas) / len(self.notas)\n",
    "\n",
    "\n",
    "estudante_mirai = Estudante(\n",
    "    \"Mirai\", [8.6, 9.3, 7.5, 8.8, 7]\n",
    ")  # estudante_mirai é um objeto instanciado da classe Estudante\n",
    "estudante_joaquim = Estudante(\n",
    "    \"Joaquim\", [5.5, 3.8, 7.3, 4.5, 2.5]\n",
    ")  # estudante_joaquim é um objeto instanciado da classe Estudante\n",
    "\n",
    "estudante_mirai.calcular_media()\n",
    "print(\n",
    "    f\"O {estudante_mirai.profissao} {estudante_mirai.nome} tem a media {estudante_mirai.media}\"\n",
    ")"
   ]
  },
  {
   "cell_type": "markdown",
   "metadata": {},
   "source": [
    "## Classe, Objetos e Instancias\n",
    "\n",
    "em palavras simples: *Um Objeto é uma Instancia de uma Classe*.\n",
    "\n",
    "agora vamos as explicações.\n",
    "\n",
    "### Classes\n",
    "\n",
    "*De acordo com a Wikipédia:*\n",
    "> *Em programação e na orientação a objetos, uma **classe** é um Tipo abstrato de Dados (TAD); ou seja, uma descrição que abstrai um conjunto de objetos com características similares (um projeto do objeto), é um código da linguagem de programação orientada a objetos que define e implementa um novo tipo de objeto, que terão características (atributos) que guardaram valores e, também funções específicas para manipular estes.*\n",
    "\n",
    "Essencialmente, uma classe é um \"Template\" de objeto, definindo os atributos e metodos.\n",
    "\n",
    "### Objetos\n",
    "\n",
    "*De acordo com a Wikipédia:*\n",
    "> *Em programação orientada a objetos, a palavra **objeto** refere-se a um \"molde\"/classe, que passa a existir a partir de uma instância da classe. A classe define o comportamento do objeto, usando atributos (propriedades) e métodos (ações).*\n",
    "\n",
    "Essencialmente, um objeto é uma manifestação independente de uma classe, tendo seus proprios valores para os atributos das classes.\n",
    "\n",
    "### Instancias\n",
    "\n",
    "*De acordo com a Wikipédia:*\n",
    "> *Em programação orientada a objetos, chama-se instância de uma classe, um objeto cujo comportamento e estado são definidos pela classe.*\n",
    "\n",
    "Essencialmente, As instancias são um conjunto de objetos com metodos e definições de atributos em comum.\n",
    "\n",
    "Um resumo de tudo *de acordo com a Wikipédia:*\n",
    "> *As instâncias de uma classe compartilham o mesmo conjunto de atributos, embora sejam diferentes quanto ao conteúdo desses atributos. Por exemplo, a classe \"Empregado\" descreve os atributos comuns a todas as instâncias da classe \"Empregado\". Os objetos dessa classe podem ser semelhantes, mas variam em atributos tais como \"nome\" e \"salário\".*\n",
    "\n",
    "## Nomeação de parametros\n",
    "\n",
    "no seguinte bloco de código:\n",
    "\n",
    "```python\n",
    "class Estudante:\n",
    "    def __init__(self, nome, notas):\n",
    "        self.notas = notas\n",
    "        self.nome = nome\n",
    "```\n",
    "\n",
    "eu irei explicar a diferença entre o `self.notas` e o `notas` e consequentemente a diferença entre `self.nome` e `nome`.\n",
    "\n",
    "o `self` se refere a classe `Estudante` em si, ou seja, quando fazemos `self.notas`, nós estamos criando um *atributo* chamado `notas` dentro da classe `Estudante`, e nós o associamos ao parametro `notas` da função especial `__init__()`\n",
    "\n",
    "## Metodos Mágicos (Magic Methods/Dunder Methods)\n",
    "\n",
    "![MeetTheDunders](./images/MeetTheDunders2.jpeg)\n",
    "\n",
    "Esses metodos também são chamados de \"Metodos Especiais (Special Methods)\" e \"Dunder Methods\"\n",
    "\n",
    "Os Dunder Methods começam com dois `_` ()underscore) e terminam com 2 também, ex: `__init__`\n",
    "\n",
    "aqui uma lista dos mais comumns:\n",
    "- `__init__()` -> Executado assim que um novo objeto é instanciado.\n",
    "- `__new__()` -> Executado para criar uma nova instancia de uma classe.\n",
    "- `__call__()` -> Executado quando uma instancia é chamada como função.\n",
    "- `__name__()` -> Retorna o nome da classe cujo o objeto foi instanciado.\n",
    "- `__repr__()` -> Retorna uma string de representação da classe.\n",
    "\n",
    "irei ressaltar todos exceto o `__new__()`, deixarei ele para quando aprendermos sobre `super()`\n",
    "\n",
    "### `__init__()`\n",
    "\n",
    "o `__init__()` é executado quando um objeto é instanciado, ele essencialmente serve para definir os atributos das instancias.\n",
    "\n",
    "Exemplo:"
   ]
  },
  {
   "cell_type": "code",
   "execution_count": 23,
   "metadata": {},
   "outputs": [
    {
     "name": "stdout",
     "output_type": "stream",
     "text": [
      "Mirai\n"
     ]
    }
   ],
   "source": [
    "class Estudante:\n",
    "    def __init__(self, nome, notas):\n",
    "        self.notas = notas\n",
    "        self.nome = nome\n",
    "\n",
    "\n",
    "estd = Estudante(\"Mirai\", [1, 2, 3])\n",
    "\n",
    "print(estd.nome)"
   ]
  },
  {
   "cell_type": "markdown",
   "metadata": {},
   "source": [
    "### `__call__()`\n",
    "\n",
    "Essencialmente esse metodo é executado quando uma classe é executada como função."
   ]
  },
  {
   "cell_type": "code",
   "execution_count": 24,
   "metadata": {},
   "outputs": [
    {
     "name": "stdout",
     "output_type": "stream",
     "text": [
      "o estudante Mirai tem [1, 2, 3] notas\n"
     ]
    }
   ],
   "source": [
    "class Estudante:\n",
    "    def __init__(self, nome, notas):\n",
    "        self.notas = notas\n",
    "        self.nome = nome\n",
    "\n",
    "    def __call__(self):\n",
    "        print(f\"o estudante {self.nome} tem {self.notas} notas\")\n",
    "\n",
    "\n",
    "Estd_1 = Estudante(\"Mirai\", [1, 2, 3])\n",
    "\n",
    "Estd_1()  # __call__ é executado"
   ]
  },
  {
   "cell_type": "markdown",
   "metadata": {},
   "source": [
    "### `__name__`\n",
    "\n",
    "O `__name__` é usado quando queremos saber o nome da classe na qual o objeto foi instanciado, ou nome do módulo (mais a frente explicarei sobre).\n",
    "\n",
    "exemplificarei o uso para classes.\n",
    "\n",
    "Usando o `__name__` nativo das classes:"
   ]
  },
  {
   "cell_type": "code",
   "execution_count": 25,
   "metadata": {},
   "outputs": [
    {
     "name": "stdout",
     "output_type": "stream",
     "text": [
      "<class '__main__.Estudante'>\n",
      "Estudante\n"
     ]
    }
   ],
   "source": [
    "class Estudante:\n",
    "    def __init__(self, nome, notas):\n",
    "        self.notas = notas\n",
    "        self.nome = nome\n",
    "\n",
    "\n",
    "print(Estudante)\n",
    "print(Estudante.__name__)"
   ]
  },
  {
   "attachments": {},
   "cell_type": "markdown",
   "metadata": {},
   "source": [
    "Veja que nós não precisamos inicializar um objeto, pois nós usamos o `__name__` nativo embutido em cada classe do Python.\n",
    "\n",
    "Definindo a função `__name__`:"
   ]
  },
  {
   "cell_type": "code",
   "execution_count": 34,
   "metadata": {},
   "outputs": [
    {
     "name": "stdout",
     "output_type": "stream",
     "text": [
      "<bound method Estudante.__name__ of <__main__.Estudante object at 0x7f6c086d3ca0>>\n"
     ]
    }
   ],
   "source": [
    "class Estudante:\n",
    "    def __init__(self, nome, notas):\n",
    "        self.notas = notas\n",
    "        self.nome = nome\n",
    "\n",
    "    def __name__(self):\n",
    "        return self.__name__\n",
    "\n",
    "\n",
    "Estd_2 = Estudante(\"Mirai\", [1, 2, 3])\n",
    "\n",
    "print(Estd_2.__name__)"
   ]
  },
  {
   "cell_type": "markdown",
   "metadata": {},
   "source": [
    "Eu sei, é um pouco confuso mesmo, mas essencialmente ele está dizendo o que o `__main__` é:\n",
    "\n",
    "`<metodo associado Estudante.__name__ de <Objeto __main__.Estudante em {endereço na memória}>>`\n",
    "\n",
    "em outras palavras `self.__name__` diz o que é o `__main__` dele, usando a representação (`__repr__`) do objeto\n",
    "\n",
    "> Sendo sincero, nunca cheguei a ter que definir o `__main__` diretamente, sempre usei o `__main__` nativo\n",
    "\n",
    "### `__repr__`\n",
    "\n",
    "O `__repr__` retorna uma string de representação do objeto quando usamos a função `repr()`.\n",
    "\n",
    "quando omitimos a função ele usa um equivalente de tipo 'method-wrapper'\n",
    "\n",
    "> NOTA: '\\<method-wrapper\\>' é usado no código fonte do Python para implementar funções escritas em C como um '\\<unbound method\\>', as explicações pra isso vão além do escopo desse capitulo, então não me aprofundarei.\n",
    "\n",
    "Usando o `repr()` nativo das classes:"
   ]
  },
  {
   "cell_type": "code",
   "execution_count": 27,
   "metadata": {},
   "outputs": [
    {
     "name": "stdout",
     "output_type": "stream",
     "text": [
      "<__main__.Estudante object at 0x7f6c084bdba0>\n"
     ]
    }
   ],
   "source": [
    "class Estudante:\n",
    "    def __init__(self, nome, notas):\n",
    "        self.notas = notas\n",
    "        self.nome = nome\n",
    "\n",
    "\n",
    "Estd_2 = Estudante(\"Mirai\", [1, 2, 3])\n",
    "\n",
    "print(repr(Estd_2))"
   ]
  },
  {
   "cell_type": "markdown",
   "metadata": {},
   "source": [
    "O `__repr__` retorna o endereço na memória de um objeto.\n",
    "\n",
    "Definindo o `__repr__`:"
   ]
  },
  {
   "cell_type": "code",
   "execution_count": 28,
   "metadata": {},
   "outputs": [
    {
     "name": "stdout",
     "output_type": "stream",
     "text": [
      "O Estudante Mirai é um objeto\n"
     ]
    }
   ],
   "source": [
    "class Estudante:\n",
    "    def __init__(self, nome, notas):\n",
    "        self.notas = notas\n",
    "        self.nome = nome\n",
    "\n",
    "    def __repr__(self):\n",
    "        return f\"O Estudante {self.nome} é um objeto\"\n",
    "\n",
    "\n",
    "Estd_2 = Estudante(\"Mirai\", [1, 2, 3])\n",
    "\n",
    "print(repr(Estd_2))"
   ]
  },
  {
   "cell_type": "markdown",
   "metadata": {},
   "source": [
    "## Herança (básica)\n",
    "\n",
    "Finalmente chegamos a um importantissimo tópico em orientação a objetos, Herança (Inheritance).\n",
    "\n",
    "Irei me ater aos básicos aqui, de forma resumida, _herança é a passagem/compartilhação de estados e metodos entre classes de forma hierarquica._\n",
    "\n",
    "> Nota: 'estado' se refere as variaveis como um todo, conforme formos progredindo os vocábulos começarão a ficar robustos e eu passarei a usar termos mais 'tecnicos'.\n",
    "\n",
    "Para nos referirmos a hierarquia e herança, usamos uma relação familiar (pai, filho, irmão, etc...)\n",
    "\n",
    "a sintaxe é bem similar a vista anteriormente:\n",
    "\n",
    "```python\n",
    "class {nome}({classe pai}):\n",
    "    def __init__(self, {variaveis da classe pai}):\n",
    "        super().__init__({variaveis da classe pai})\n",
    "```\n",
    "\n",
    "`class {nome}({classe pai}):` -> A unica diferença é que especificamos a classe pai como argumento.\n",
    "\n",
    "`def __init__(self, {variaveis da classe pai}):` -> além do `self` incluimos os parametros da função `__init__` da classe pai (se eles existirem)\n",
    "\n",
    "`super().__init__({variaveis da classe pai})` -> passamos os parametros da função `__init__` do filho a função `__init__` do pai usando `super()`\n",
    "\n",
    "para exemplificar criaremos uma classe `Pessoa` e faremos nossa classe `estudante` filha dela.\n"
   ]
  },
  {
   "cell_type": "code",
   "execution_count": 30,
   "metadata": {},
   "outputs": [
    {
     "name": "stdout",
     "output_type": "stream",
     "text": [
      "Olá eu me chamo Mirai e tenho 17 anos\n",
      "7.6\n",
      "Olá eu me chamo Joaquim e tenho 16 anos\n",
      "6.0\n"
     ]
    }
   ],
   "source": [
    "class Pessoa:  # Classe Pai\n",
    "    def __init__(self, nome, idade):\n",
    "        self.nome = nome\n",
    "        self.idade = idade\n",
    "\n",
    "    def apresentar(self):\n",
    "        return f\"Olá eu me chamo {self.nome} e tenho {self.idade} anos\"\n",
    "\n",
    "\n",
    "class Estudante(Pessoa):  # Classe Filha\n",
    "    def __init__(self, nome, idade, medias):\n",
    "        super().__init__(nome, idade)\n",
    "        self.medias = medias\n",
    "\n",
    "    def calcular_medias(self):\n",
    "        return sum(self.medias) / len(self.medias)\n",
    "\n",
    "\n",
    "EstudanteA = Estudante(\"Mirai\", 17, [8, 9, 7, 6, 8])  # EstudanteA é irmão de EstudanteB\n",
    "EstudanteB = Estudante(\n",
    "    \"Joaquim\", 16, [5, 7, 3, 6, 9]\n",
    ")  # EstudanteB é irmão de EstudanteA\n",
    "\n",
    "print(EstudanteA.apresentar())  # Herdou da classe 'Pessoa'\n",
    "print(EstudanteA.calcular_medias())  # Definida na classe 'Estudante'\n",
    "\n",
    "print(EstudanteB.apresentar())  # Herdou da classe 'Pessoa'\n",
    "print(EstudanteB.calcular_medias())  # Definida na classe 'Estudante'"
   ]
  },
  {
   "cell_type": "markdown",
   "metadata": {},
   "source": [
    "Veja que não precisamos definir `self.nome = nome` e `self.idade = idade` na classe `Estudante` pois essas propriedades são herdadas da classe `Pessoa`, juntamente com o método `apresentar`\n",
    "\n",
    "a relação desses objetos é a seguinte:\n",
    "\n",
    "![OOP_Relations](./images/OOPHierarquiaBase.png)\n",
    "\n",
    "Todas as instancias da classe `Estudante` são irmãs entre si (pois tem a mesma classe pai).\n",
    "\n",
    "A classe `Estudante` é filha da classe `Pessoa`.\n",
    "\n",
    "A classe `Pessoa` é pai da classe `Estudante`.\n",
    "\n",
    "> NOTA: essas relações se extendem, ou seja, podemos ter classes netas, avós, tias, primas, etc...\n",
    "\n",
    "### `super()`\n",
    "\n",
    "*De acordo com a [documentação do Python](https://docs.python.org/3/library/functions.html#super)* (tradução livre):\n",
    "> A função super() retorna um proxy de objeto que delega os metodos para uma classe pai ou irmã\n",
    "\n",
    "basicamente, nos dá acesso aos metodos e atributos da classe pai.\n",
    "\n",
    "ele também pode ser usado para instanciar um novo objeto, através do `__new__`\n",
    "\n",
    "### `__new__`\n",
    "\n",
    "O `__new__` é usado para criar um novo objeto, veja um exemplo:\n"
   ]
  },
  {
   "cell_type": "code",
   "execution_count": 40,
   "metadata": {},
   "outputs": [
    {
     "name": "stdout",
     "output_type": "stream",
     "text": [
      "Criando Instancia (Instanciando)\n",
      "Inicializando Instancia\n"
     ]
    },
    {
     "data": {
      "text/plain": [
       "<__main__.Exemplo at 0x7f6c08513430>"
      ]
     },
     "execution_count": 40,
     "metadata": {},
     "output_type": "execute_result"
    }
   ],
   "source": [
    "class Exemplo(object):  # Herdamos a Classe base da hierarquia <object>\n",
    "    def __new__(self):\n",
    "        print(\"Criando Instancia (Instanciando)\")\n",
    "        return super(Exemplo, self).__new__(\n",
    "            self\n",
    "        )  # Usamos a classe base para criar um novo objeto\n",
    "\n",
    "    def __init__(self):\n",
    "        print(\"Inicializando Instancia\")\n",
    "\n",
    "\n",
    "Exemplo()"
   ]
  },
  {
   "cell_type": "markdown",
   "metadata": {},
   "source": [
    "> NOTA: Novamente, eu nunca cheguei a precisar usar o `__new__` pessoalmente\n",
    "\n",
    "## Introdução básica a Decoradores\n",
    "\n",
    "um decorador é uma funcionalidade da linguagem que nos permite alterar o funcionamento de funções e classes. \n",
    "\n",
    "sua sintaxe é simples:\n",
    "\n",
    "```python\n",
    "@nome_do_decorador\n",
    "```\n",
    "\n",
    "e ele deve ser posto acima da função que deseja alterar.\n",
    "\n",
    "> NOTA: Não irei me aprofundar muito, pois existe uma seção especifica para eles mais a frente.\n",
    "\n",
    "Existem varios decoradores, mas irei ressaltar 3\n",
    "- `@property`\n",
    "- `@classmethod`\n",
    "- `@staticmethod`\n",
    "\n",
    "### `@property`\n",
    "\n",
    "O `@property` serve para converter um metodo em atributo.\n",
    "\n",
    "ele só funciona se o metodo tem apenas `self` como parametro e retorna alguma operação simples\n",
    "\n",
    "voltemos ao nosso exemplo do estudante e calculo de notas:"
   ]
  },
  {
   "cell_type": "code",
   "execution_count": 37,
   "metadata": {},
   "outputs": [
    {
     "name": "stdout",
     "output_type": "stream",
     "text": [
      "Media através do método: 5.0\n"
     ]
    }
   ],
   "source": [
    "class Estudante:\n",
    "    def __init__(self, nome, notas):\n",
    "        self.notas = notas\n",
    "        self.nome = nome\n",
    "\n",
    "    def media(self):\n",
    "        return sum(self.notas) / len(self.notas)\n",
    "\n",
    "\n",
    "EstudanteExemplo = Estudante(\"Mirai\", [1, 2, 3, 4, 5, 6, 7, 8, 9])\n",
    "\n",
    "print(f\"Media através do método: {EstudanteExemplo.media()}\")"
   ]
  },
  {
   "cell_type": "markdown",
   "metadata": {},
   "source": [
    "Veja que devemos executar o método para termos acesso a média, usando o `@property` nós convertemos esse metodo para um atributo, veja:"
   ]
  },
  {
   "cell_type": "code",
   "execution_count": 39,
   "metadata": {},
   "outputs": [
    {
     "name": "stdout",
     "output_type": "stream",
     "text": [
      "Media através do atributo: 5.0\n"
     ]
    }
   ],
   "source": [
    "class Estudante:\n",
    "    def __init__(self, nome, notas):\n",
    "        self.notas = notas\n",
    "        self.nome = nome\n",
    "\n",
    "    @property\n",
    "    def media(self):\n",
    "        return sum(self.notas) / len(self.notas)\n",
    "\n",
    "\n",
    "EstudanteExemplo = Estudante(\"Mirai\", [1, 2, 3, 4, 5, 6, 7, 8, 9])\n",
    "\n",
    "print(\n",
    "    f\"Media através do atributo: {EstudanteExemplo.media}\"\n",
    ")  # Omitimos a chamada da função"
   ]
  },
  {
   "cell_type": "markdown",
   "metadata": {},
   "source": [
    "Porque isso? Bom, se você lembra, metodos devem ser usados para representar ações do objeto, e não para adicionar atributos, exemplificando:\n",
    "\n",
    "_A média não é uma ação que nosso estudante faz, é um valor que ele possui, logo deve ser uma propriedade._\n",
    "\n",
    "### Decoradores de metodos `@classmethod` e `@staticmethod`\n",
    "\n",
    "os decoradores de metodos alteram os metodos para pegar parametros em especifico, até então estavamos usando os `instancemethod` através do `self`, esse metodo precisa de uma instancia para performar sua operação.\n",
    "\n",
    "aqui nós temos a classe Estudante:\n",
    "\n",
    "```python\n",
    "class Estudante:\n",
    "    def __init__(self, notas):\n",
    "        self.notas = notas \n",
    "\n",
    "    def media(self):\n",
    "        return sum(self.notas) / len(self.notas)\n",
    "```\n",
    "\n",
    "basicamente quando fazemos:\n",
    "\n",
    "```python\n",
    "EstudanteExemplo = Estudante([1, 2, 3, 4, 5, 6, 7, 8, 9])\n",
    "EstudanteExemplo.media()\n",
    "```\n",
    "\n",
    "estamos essencialmente fazendo:\n",
    "\n",
    "```python\n",
    "EstudanteExemplo = Estudante([1, 2, 3, 4, 5, 6, 7, 8, 9])\n",
    "Estudante.media(EstudanteExemplo.notas)\n",
    "```\n",
    "\n",
    "O metodo `media` usa a o objeto instanciado `EstudanteExemplo` para sua execução, ou seja, é um `instancemethod`\n",
    "\n",
    "#### `@classmethod`\n",
    "\n",
    "o `@classmethod` altera a função para usar a classe ao invés do objeto instanciado, veja o exemplo:\n"
   ]
  },
  {
   "cell_type": "code",
   "execution_count": 42,
   "metadata": {},
   "outputs": [
    {
     "name": "stdout",
     "output_type": "stream",
     "text": [
      "Foo\n"
     ]
    }
   ],
   "source": [
    "class Foo:\n",
    "    @classmethod\n",
    "    def hi(cls):\n",
    "        print(cls.__name__)\n",
    "\n",
    "\n",
    "objeto = Foo()\n",
    "\n",
    "objeto.hi()"
   ]
  },
  {
   "cell_type": "markdown",
   "metadata": {},
   "source": [
    "#### `@staticmethod`\n",
    "\n",
    "o `@staticmethod` faz com que os metodos não precise de nenhum argumento, veja o exemplo:"
   ]
  },
  {
   "cell_type": "code",
   "execution_count": 43,
   "metadata": {},
   "outputs": [
    {
     "name": "stdout",
     "output_type": "stream",
     "text": [
      "eu sou um metodo com @staticmethod\n"
     ]
    }
   ],
   "source": [
    "class Bar:\n",
    "    @staticmethod\n",
    "    def apresentar():\n",
    "        print(\"eu sou um metodo com @staticmethod\")\n",
    "\n",
    "\n",
    "objeto_bar = Bar()\n",
    "\n",
    "objeto_bar.apresentar()"
   ]
  }
 ],
 "metadata": {
  "kernelspec": {
   "display_name": "Python 3.10.5 64-bit",
   "language": "python",
   "name": "python3"
  },
  "language_info": {
   "codemirror_mode": {
    "name": "ipython",
    "version": 3
   },
   "file_extension": ".py",
   "mimetype": "text/x-python",
   "name": "python",
   "nbconvert_exporter": "python",
   "pygments_lexer": "ipython3",
   "version": "3.10.8"
  },
  "orig_nbformat": 4,
  "vscode": {
   "interpreter": {
    "hash": "e7370f93d1d0cde622a1f8e1c04877d8463912d04d973331ad4851f04de6915a"
   }
  }
 },
 "nbformat": 4,
 "nbformat_minor": 2
}
