{
 "cells": [
  {
   "cell_type": "markdown",
   "metadata": {},
   "source": [
    "# Programação Orientada a Objetos Básica\n",
    "\n",
    "A [programação orientada a objetos](https://pt.wikipedia.org/wiki/Programação_orientada_a_objetos) é um paradigma de programação que consiste na divisão do código em blocos independentes entre si.\n",
    "\n",
    "Esses blocos são chamados de ***objetos*** e esses objetos contém *propriedades* e *metodos*, as propriedades consistem em valores (variaveis) pertinentes ao objeto principal, já os metodos consistem em funções que performam ações no objeto principal. *Os metodos podem ou não usar as propriedades em sua execução*.\n",
    "\n",
    "Por exemplo, se fossemos representar uma pessoa, ela teria propriedades como:\n",
    "- nome\n",
    "- idade\n",
    "- residencia\n",
    "\n",
    "e teria metodos como:\n",
    "- andar\n",
    "- correr\n",
    "- falar\n",
    "\n",
    "para facilitar o entendimento, iremos fazer dois exemplos, um simples estudante e uma pessoa. Começaremos pelo primeiro.\n",
    "\n",
    "pense no seguinte exemplo:\n",
    "\n",
    "nós temos um estudante com um nome que contem 5 notas e queremos calcular a média delas.\n",
    "\n",
    "nós poderiamos representar este estudante como um dicionário, e usar `sum() / len()`."
   ]
  },
  {
   "cell_type": "code",
   "execution_count": 6,
   "metadata": {},
   "outputs": [
    {
     "name": "stdout",
     "output_type": "stream",
     "text": [
      "O estudante Mirai tem média 8.24\n"
     ]
    }
   ],
   "source": [
    "estudante = {\n",
    "    \"Nome\": \"Mirai\",\n",
    "    \"Notas\": [8.6, 9.3, 7.5, 8.8, 7],\n",
    "}\n",
    "\n",
    "media = sum(estudante[\"Notas\"]) / len(estudante[\"Notas\"])\n",
    "print(\"O estudante %s tem média %0.2f\" % (estudante[\"Nome\"], media))"
   ]
  },
  {
   "cell_type": "markdown",
   "metadata": {},
   "source": [
    "nós poderiamos representar este mesmo estudante usando uma classe.\n",
    "\n",
    "A sintaxe básica de uma classe é a seguinte:\n",
    "\n",
    "```py\n",
    "class Nome:\n",
    "    def __init__(self):\n",
    "        pass\n",
    "```\n"
   ]
  }
 ],
 "metadata": {
  "kernelspec": {
   "display_name": "Python 3.10.5 64-bit",
   "language": "python",
   "name": "python3"
  },
  "language_info": {
   "codemirror_mode": {
    "name": "ipython",
    "version": 3
   },
   "file_extension": ".py",
   "mimetype": "text/x-python",
   "name": "python",
   "nbconvert_exporter": "python",
   "pygments_lexer": "ipython3",
   "version": "3.10.5"
  },
  "orig_nbformat": 4,
  "vscode": {
   "interpreter": {
    "hash": "e7370f93d1d0cde622a1f8e1c04877d8463912d04d973331ad4851f04de6915a"
   }
  }
 },
 "nbformat": 4,
 "nbformat_minor": 2
}
