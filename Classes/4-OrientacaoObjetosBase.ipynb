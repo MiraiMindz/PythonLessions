{
 "cells": [
  {
   "cell_type": "markdown",
   "metadata": {},
   "source": [
    "# Programação Orientada a Objetos Básica\n",
    "\n",
    "A [programação orientada a objetos](https://pt.wikipedia.org/wiki/Programação_orientada_a_objetos) é um paradigma de programação que consiste na divisão do código em blocos independentes entre si.\n",
    "\n",
    "Esses blocos são chamados de ***objetos*** e esses objetos contém *propriedades* (Atributos) e *metodos*, as propriedades consistem em valores (variaveis) pertinentes ao objeto principal, já os metodos consistem em funções que performam ações no objeto principal. *Os metodos podem ou não usar as propriedades em sua execução*.\n",
    "\n",
    "Por exemplo, se fossemos representar uma pessoa, ela teria propriedades como:\n",
    "- nome\n",
    "- idade\n",
    "- residencia\n",
    "\n",
    "e teria metodos como:\n",
    "- andar\n",
    "- correr\n",
    "- falar\n",
    "\n",
    "para facilitar o entendimento, iremos fazer um simples estudante.\n",
    "\n",
    "pense no seguinte exemplo:\n",
    "\n",
    "nós temos um estudante com um nome, uma profissão (estudante) e que contem 5 notas e queremos calcular a média delas.\n",
    "\n",
    "nós poderiamos representar este estudante como um dicionário, e usar `sum() / len()`.\n",
    "\n",
    "> Nota: A Orientação a Objetos é um tópico muito complexo e confuso por si só, até mesmo as diferenciações de vocabulos basicos costumam confundir, tentarei simplificar o máximo sem perder conteudo."
   ]
  },
  {
   "cell_type": "code",
   "execution_count": 8,
   "metadata": {},
   "outputs": [
    {
     "name": "stdout",
     "output_type": "stream",
     "text": [
      "O Estudante Mirai tem média 8.24\n"
     ]
    }
   ],
   "source": [
    "estudante = {\n",
    "    \"Nome\": \"Mirai\",\n",
    "    \"Notas\": [8.6, 9.3, 7.5, 8.8, 7],\n",
    "    \"Profissao\": \"Estudante\"\n",
    "}\n",
    "\n",
    "media = sum(estudante[\"Notas\"]) / len(estudante[\"Notas\"])\n",
    "print(f\"O {estudante['Profissao']} {estudante['Nome']} tem média {media:.2f}\")"
   ]
  },
  {
   "cell_type": "markdown",
   "metadata": {},
   "source": [
    "nós poderiamos representar este mesmo estudante usando uma classe.\n",
    "\n",
    "A sintaxe básica de uma classe é a seguinte:\n",
    "\n",
    "```py\n",
    "class {Nome}:\n",
    "    def __init__(self):\n",
    "        {codigo}\n",
    "```\n",
    "\n",
    "`class` -> é a keword de declaração de uma classe \n",
    "\n",
    "`{Nome}` -> o nome da classe\n",
    "\n",
    "`def __init__(self):` -> um método especial, essencialmente, é executado toda vez que a classe é instanciada, é usado para guardar as propriedades dessa instancia.\n",
    "\n",
    "`self` -> um parametro especial, se refere a classe em si\n",
    "\n",
    "`{codigo}` -> o codigo para ser executado\n",
    "\n",
    "uma classe pode ter `n` funções, basta declara-las normalmente.\n",
    "\n",
    "vamos representar o nosso estudante como uma classe:"
   ]
  },
  {
   "cell_type": "code",
   "execution_count": 6,
   "metadata": {},
   "outputs": [
    {
     "name": "stdout",
     "output_type": "stream",
     "text": [
      "O Estudante Mirai tem a media 8.24\n"
     ]
    }
   ],
   "source": [
    "class Estudante:\n",
    "    profissao = \"Estudante\"         # esse é um Atributo de classe\n",
    "    def __init__(self, nome, notas):\n",
    "        self.notas = notas          # esse é um Atributo de Instancia\n",
    "        self.nome = nome            # esse é um Atributo de Instancia\n",
    "\n",
    "\n",
    "    def calcular_media(self):       # esse é um metodo\n",
    "        self.media = sum(self.notas) / len(self.notas)\n",
    "\n",
    "\n",
    "estudante_mirai = Estudante(\"Mirai\", [8.6, 9.3, 7.5, 8.8, 7]) # estudante_mirai é um objeto instanciado da classe Estudante\n",
    "estudante_joaquim = Estudante(\"Joaquim\", [5.5, 3.8, 7.3, 4.5, 2.5]) # estudante_joaquim é um objeto instanciado da classe Estudante\n",
    "\n",
    "estudante_mirai.calcular_media()\n",
    "print(f\"O {estudante_mirai.profissao} {estudante_mirai.nome} tem a media {estudante_mirai.media}\")"
   ]
  },
  {
   "cell_type": "markdown",
   "metadata": {},
   "source": [
    "## Classe, Objetos e Instancias\n",
    "\n",
    "em palavras simples: *Um Objeto é uma Instancia de uma Classe*.\n",
    "\n",
    "agora vamos as explicações.\n",
    "\n",
    "### Classes\n",
    "\n",
    "*De acordo com a Wikipédia:*\n",
    "> *Em programação e na orientação a objetos, uma **classe** é um Tipo abstrato de Dados (TAD); ou seja, uma descrição que abstrai um conjunto de objetos com características similares (um projeto do objeto), é um código da linguagem de programação orientada a objetos que define e implementa um novo tipo de objeto, que terão características (atributos) que guardaram valores e, também funções específicas para manipular estes.*\n",
    "\n",
    "Essencialmente, uma classe é um \"Template\" de objeto, definindo os atributos e metodos.\n",
    "\n",
    "### Objetos\n",
    "\n",
    "*De acordo com a Wikipédia:*\n",
    "> *Em programação orientada a objetos, a palavra **objeto** refere-se a um \"molde\"/classe, que passa a existir a partir de uma instância da classe. A classe define o comportamento do objeto, usando atributos (propriedades) e métodos (ações).*\n",
    "\n",
    "Essencialmente, um objeto é uma manifestação independente de uma classe, tendo seus proprios valores para os atributos das classes.\n",
    "\n",
    "### Instancias\n",
    "\n",
    "*De acordo com a Wikipédia:*\n",
    "> *Em programação orientada a objetos, chama-se instância de uma classe, um objeto cujo comportamento e estado são definidos pela classe.*\n",
    "\n",
    "Essencialmente, As instancias são um conjunto de objetos com metodos e definições de atributos em comum.\n",
    "\n",
    "Um resumo de tudo *de acordo com a Wikipédia:*\n",
    "> *As instâncias de uma classe compartilham o mesmo conjunto de atributos, embora sejam diferentes quanto ao conteúdo desses atributos. Por exemplo, a classe \"Empregado\" descreve os atributos comuns a todas as instâncias da classe \"Empregado\". Os objetos dessa classe podem ser semelhantes, mas variam em atributos tais como \"nome\" e \"salário\".*\n",
    "\n",
    "## Nomeação de parametros\n",
    "\n",
    "no seguinte bloco de código:\n",
    "\n",
    "```py\n",
    "class Estudante:\n",
    "    def __init__(self, nome, notas):\n",
    "        self.notas = notas\n",
    "        self.nome = nome\n",
    "```\n",
    "\n",
    "eu irei explicar a diferença entre o `self.notas` e o `notas` e consequentemente a diferença entre `self.nome` e `nome`.\n",
    "\n",
    "o `self` se refere a classe `Estudante` em si, ou seja, quando fazemos `self.notas`, nós estamos criando um *atributo* chamado `notas` dentro da classe `Estudante`, e nós o associamos ao parametro `notas` da função especial `__init__()`\n",
    "\n",
    "## Metodos Mágicos (Magic Methods/Dunder Methods)\n",
    "\n",
    "Esses metodos também são chamados de \"Metodos Especiais (Special Methods)\" e \"Dunder Methods\"\n",
    "\n",
    "Os Dunder Methods começam com dois `_` ()underscore) e terminam com 2 também, ex: `__init__`\n",
    "\n",
    "aqui uma lista dos mais comumns:\n",
    "- `__init__()` -> Executado assim que um novo objeto é instanciado.\n",
    "- `__new__()` -> Executado para criar uma nova instancia de uma classe.\n",
    "- `__call__()` -> Executado quando uma instancia é chamada como função.\n",
    "- `__name__()` -> Retorna o nome da classe cujo o objeto foi instanciado.\n",
    "- `__repr__()` -> Retorna uma string de representação da classe.\n",
    "\n",
    "irei ressaltar todos exceto o `__new__()`, deixarei ele para quando aprendermos sobre `super()`\n",
    "\n",
    "### `__init__()`\n",
    "\n",
    "o `__init__()` é executado quando um objeto é instanciado, ele essencialmente serve para definir os atributos de uma classe.\n",
    "\n",
    "Exemplo:"
   ]
  },
  {
   "cell_type": "code",
   "execution_count": 10,
   "metadata": {},
   "outputs": [
    {
     "name": "stdout",
     "output_type": "stream",
     "text": [
      "Mirai\n"
     ]
    }
   ],
   "source": [
    "class Estudante:\n",
    "    def __init__(self, nome, notas):\n",
    "        self.notas = notas\n",
    "        self.nome = nome\n",
    "\n",
    "estd = Estudante(\"Mirai\", [1, 2, 3])\n",
    "\n",
    "print(estd.nome)"
   ]
  },
  {
   "cell_type": "markdown",
   "metadata": {},
   "source": [
    "### `__call__()`\n",
    "\n",
    "Essencialmente esse metodo é executado quando uma classe é executada como função."
   ]
  },
  {
   "cell_type": "code",
   "execution_count": 11,
   "metadata": {},
   "outputs": [
    {
     "name": "stdout",
     "output_type": "stream",
     "text": [
      "o estudante Mirai tem [1, 2, 3] notas\n"
     ]
    }
   ],
   "source": [
    "class Estudante:\n",
    "    def __init__(self, nome, notas):\n",
    "        self.notas = notas\n",
    "        self.nome = nome\n",
    "    \n",
    "    def __call__(self):\n",
    "        print(f\"o estudante {self.nome} tem {self.notas} notas\")\n",
    "\n",
    "Estd_1 = Estudante(\"Mirai\", [1, 2, 3])\n",
    "\n",
    "Estd_1() # __call__ é executado"
   ]
  }
 ],
 "metadata": {
  "kernelspec": {
   "display_name": "Python 3.10.5 64-bit",
   "language": "python",
   "name": "python3"
  },
  "language_info": {
   "codemirror_mode": {
    "name": "ipython",
    "version": 3
   },
   "file_extension": ".py",
   "mimetype": "text/x-python",
   "name": "python",
   "nbconvert_exporter": "python",
   "pygments_lexer": "ipython3",
   "version": "3.10.5"
  },
  "orig_nbformat": 4,
  "vscode": {
   "interpreter": {
    "hash": "e7370f93d1d0cde622a1f8e1c04877d8463912d04d973331ad4851f04de6915a"
   }
  }
 },
 "nbformat": 4,
 "nbformat_minor": 2
}
