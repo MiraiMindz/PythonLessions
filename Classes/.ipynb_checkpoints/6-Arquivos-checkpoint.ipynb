{
 "cells": [
  {
   "cell_type": "markdown",
   "id": "e984881b",
   "metadata": {},
   "source": [
    "# Arquivos\n",
    "\n",
    "Neste capitulo aprenderemos a manipular e a preservar estado usando Python.\n",
    "\n"
   ]
  }
 ],
 "metadata": {
  "kernelspec": {
   "display_name": "Python 3 (ipykernel)",
   "language": "python",
   "name": "python3"
  },
  "language_info": {
   "codemirror_mode": {
    "name": "ipython",
    "version": 3
   },
   "file_extension": ".py",
   "mimetype": "text/x-python",
   "name": "python",
   "nbconvert_exporter": "python",
   "pygments_lexer": "ipython3",
   "version": "3.11.3"
  }
 },
 "nbformat": 4,
 "nbformat_minor": 5
}
