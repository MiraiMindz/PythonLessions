{
 "cells": [
  {
   "cell_type": "markdown",
   "metadata": {},
   "source": [
    "# Fundamentos Python I\n",
    "\n",
    "## Variaveis, Comentários, print() e input()\n",
    "\n",
    "### Variaveis\n",
    "\n",
    "A declaração de variaveis em Python é bem simples, basta associar o nome da variavel ao valor desejado, seguindo este modelo:\n",
    "\n",
    "`{NOME_DA_VARIAVEL} = {VALOR}`\n",
    "\n",
    "o nome de uma variavel não deve conter espaços, virgulas ou pontos\n",
    "\n",
    "veja alguns exemplos no bloco de codigo a seguir: \n"
   ]
  },
  {
   "cell_type": "code",
   "execution_count": 2,
   "metadata": {},
   "outputs": [],
   "source": [
    "nome = \"Mirai\"\n",
    "idade = 17\n",
    "linguagem = \"Python\""
   ]
  },
  {
   "cell_type": "markdown",
   "metadata": {},
   "source": [
    "Também se é possivel associar varios valores a varias variaveis em uma mesma linha, assim como tambem se é possivel associar variaveis a outras variaveis"
   ]
  },
  {
   "cell_type": "code",
   "execution_count": 3,
   "metadata": {},
   "outputs": [],
   "source": [
    "nome, idade = \"Mirai\", 17\n",
    "nome1 = nome"
   ]
  },
  {
   "cell_type": "markdown",
   "metadata": {},
   "source": [
    "#### Constantes\n",
    "\n",
    "Em programação, constantes são variaveis que não devem ser alteradas durante o programa, vide o nome, elas são CONSTANTES\n",
    "\n",
    "uma constante em Python é bem parecida com uma variavel em sua declaração, a unica diferença é que uma constante será sempre toda em MAIUSCULO"
   ]
  },
  {
   "cell_type": "code",
   "execution_count": 4,
   "metadata": {},
   "outputs": [],
   "source": [
    "PI = 3.1415\n",
    "NUMERO_SEIS = 6"
   ]
  },
  {
   "cell_type": "markdown",
   "metadata": {},
   "source": [
    "### Comentários\n",
    "\n",
    "Os comentários são uma funcionalidade das linguagens de programação, eles são linhas que serão ignoradas na execução do código\n",
    "\n",
    "em Python, os comentários começam com `#`, após isso, tudo será ignorado"
   ]
  },
  {
   "cell_type": "code",
   "execution_count": 5,
   "metadata": {},
   "outputs": [],
   "source": [
    "# Podemos escrever qualquer coisa que ela não será executada\n",
    "nome = \"Mirai\"  # Os comentários não precisam estar no inicio da linha, mas perceba, mesmo que coloquemos um codigo aqui, ele será ignorado"
   ]
  },
  {
   "cell_type": "markdown",
   "metadata": {},
   "source": [
    "Uma das ultilidades dos comentários é, além de comentar e adicionar informações ao codigo, a de \"salvar\" um codigo, frequentemente você irá se deparar com a seguinte situação:\n",
    "\n",
    "_\"Preciso que este pedaço de codigo não execute, mas não posso apaga-lo pois certamente irei perde-lo, o que devo fazer?\"_\n",
    "\n",
    "A resposta é simples, comente o codigo, isso mesmo, adicione `#` no inicio das linhas, assim o codigo não irá ser executado e você ainda o terá"
   ]
  },
  {
   "cell_type": "code",
   "execution_count": 6,
   "metadata": {},
   "outputs": [],
   "source": [
    "# nome = \"Mirai\""
   ]
  },
  {
   "cell_type": "markdown",
   "metadata": {},
   "source": [
    "#### SheBang (Sistemas UNIX)\n",
    "\n",
    "Esta parte não tem muito a ver com a linguagem, mas você verá este comentário especial na primeira linha de meus scripts então irei explica-lo\n",
    "\n",
    "os SheBangs são comentários especiais que começam com `#!` adicionados na primeira linha de um script em sistemas baseados em UNIX (Linux e MacOS)\n",
    "\n",
    "eles apontam para o executavel a ser usado pelo script, um exemplo seria:\n",
    "\n",
    "`#!/usr/bin/env python3.10` neste SheBang nós usamos o programa `env` para localizar um executavel para o `python3.10`, dessa forma asseguramos compatibilidade dentre as plataformas UNIX\n",
    "\n",
    "### print()\n",
    "\n",
    "As funções em são reconhecidas pela adição de `()` ao seu final, essas funções, como o nome sugere, performam funções, funcionalidades, ações\n",
    "\n",
    "a função `print()` é usada quando queremos mostrar algo ao usuário, um exemplo seria:"
   ]
  },
  {
   "cell_type": "code",
   "execution_count": 7,
   "metadata": {},
   "outputs": [
    {
     "name": "stdout",
     "output_type": "stream",
     "text": [
      "Olá Mundo\n",
      "Tambem funciona com variaveis\n"
     ]
    }
   ],
   "source": [
    "print(\"Olá Mundo\")  # Aqui Mostramos a mensagem \"Olá Mundo\"\n",
    "\n",
    "mensagem = \"Tambem funciona com variaveis\"\n",
    "\n",
    "print(\n",
    "    mensagem\n",
    ")  # após temos associado a um valor a variavel `mensagem` nós a exibimos ao usuário"
   ]
  },
  {
   "cell_type": "markdown",
   "metadata": {},
   "source": [
    "### input()\n",
    "\n",
    "A função `input()`, de certa forma é \"oposta\" a função `print()`, o `input()` serve para pegar uma informação do usuário, enquanto a `print()` serve para exibir"
   ]
  },
  {
   "cell_type": "code",
   "execution_count": 42,
   "metadata": {},
   "outputs": [
    {
     "data": {
      "text/plain": [
       "'Nome Legal'"
      ]
     },
     "execution_count": 42,
     "metadata": {},
     "output_type": "execute_result"
    }
   ],
   "source": [
    "input()  # ao executar este bloco, o programa irá esperar que o usuário aperte a tecla ENTER para enviar a informação digitada\n",
    "input(\n",
    "    \"Insira seu nome: \"\n",
    ")  # Ao adicionarmos um texto dentro dos parenteses, este texto será exibido antes do cursor do usuário"
   ]
  },
  {
   "cell_type": "markdown",
   "metadata": {},
   "source": [
    "caso nós queiramos guardar as informações providas pelo `input()`, nós devemos associa-lo a uma variavel"
   ]
  },
  {
   "cell_type": "code",
   "execution_count": 43,
   "metadata": {},
   "outputs": [
    {
     "name": "stdout",
     "output_type": "stream",
     "text": [
      "Sua idade é:  99\n"
     ]
    }
   ],
   "source": [
    "idade = input(\"Insira sua idade: \")\n",
    "print(\"Sua idade é: \", idade)"
   ]
  },
  {
   "cell_type": "markdown",
   "metadata": {},
   "source": [
    "#### Pequena curiosidade\n",
    "\n",
    "nós podemos associar funções a variaveis, e usar as variaveis ao invés da função (mas isso não é recomendado por ser extremamente desnecessario)\n",
    "\n",
    "exemplo:"
   ]
  },
  {
   "cell_type": "code",
   "execution_count": 10,
   "metadata": {},
   "outputs": [
    {
     "name": "stdout",
     "output_type": "stream",
     "text": [
      "Olá mundo\n"
     ]
    }
   ],
   "source": [
    "imprimir = print\n",
    "\n",
    "imprimir(\"Olá mundo\")"
   ]
  },
  {
   "cell_type": "markdown",
   "metadata": {},
   "source": [
    "## Tipos de Dado\n",
    "\n",
    "### O que é um Dado?\n",
    "\n",
    "Dado é tudo aquilo que guarda informação, ou seja, um numero, um texto, Verdadeiro ou Falso, uma letra, qualquer coisa que seja informação\n",
    "\n",
    "Eles são divididos entre Primitivos (ou Simples, ou Básicos) e Compostos (ou Agrupados, ou Complexos)\n",
    "\n",
    "### Dados Primitivos\n",
    "\n",
    "Dados Primitivos guardam apenas uma informação, ou seja, um numero, um texto, um Verdadeiro\n",
    "\n",
    "Eles são divididos em 3 tipos:\n",
    "\n",
    "- Strings (str)\n",
    "- Integers e Floats (int & float)\n",
    "- Booleans (bool)\n",
    "\n",
    "#### String (Textos)\n",
    "\n",
    "##### Declaração\n",
    "\n",
    "As Strings representam os textos, sua declaração é feita através de aspas duplas (\"\") ou unicas ('')"
   ]
  },
  {
   "cell_type": "code",
   "execution_count": 11,
   "metadata": {},
   "outputs": [
    {
     "name": "stdout",
     "output_type": "stream",
     "text": [
      "Mirai Python\n"
     ]
    }
   ],
   "source": [
    "nome = \"Mirai\"\n",
    "linguagem = \"Python\"\n",
    "print(nome, linguagem)"
   ]
  },
  {
   "cell_type": "markdown",
   "metadata": {},
   "source": [
    "Nós não podemos misturar as aspas, isto é, começar uma declaração com aspas duplas (\"\") e terminar com aspas unicas ('')\n",
    "\n",
    "nós podemos dentro da string usar a aspa que não foi usada durante a declaração, isto se torna util em texto em Ingles"
   ]
  },
  {
   "cell_type": "code",
   "execution_count": 12,
   "metadata": {},
   "outputs": [
    {
     "name": "stdout",
     "output_type": "stream",
     "text": [
      "Hi, my name is Mirai, I'm a Developer Pois então ela disse, \"Não se dirija mais a mim\"...\n"
     ]
    }
   ],
   "source": [
    "apresentacao = \"Hi, my name is Mirai, I'm a Developer\"  # Note o uso das aspas unicas dentro da string\n",
    "citacao = 'Pois então ela disse, \"Não se dirija mais a mim\"...'  # Note o uso das aspas duplas dentro da string\n",
    "\n",
    "# repare que envolta do texto usamos o mesmo tipo de aspas\n",
    "print(apresentacao, citacao)"
   ]
  },
  {
   "cell_type": "markdown",
   "metadata": {},
   "source": [
    "porém, nos podemos sim usar o mesmo tipo de aspas dentro e fora da string, basta ultilizarmos o caractere de escapagem (\\\\)"
   ]
  },
  {
   "cell_type": "code",
   "execution_count": 13,
   "metadata": {},
   "outputs": [
    {
     "name": "stdout",
     "output_type": "stream",
     "text": [
      "Hi, my name is Mirai, I'm a Developer Pois então ela disse, \"Não se dirija mais a mim\"...\n"
     ]
    }
   ],
   "source": [
    "apresentacao = \"Hi, my name is Mirai, I'm a Developer\"\n",
    "citacao = 'Pois então ela disse, \"Não se dirija mais a mim\"...'\n",
    "print(apresentacao, citacao)"
   ]
  },
  {
   "cell_type": "markdown",
   "metadata": {},
   "source": [
    "##### Multi-Line\n",
    "\n",
    "Tambem temos as \"Multi-line Strings\", elas são declaradas através de 3 aspas, sejam elas unicas ou duplas, elas são textos que se espalham por multiplas linhas, preservando espaços"
   ]
  },
  {
   "cell_type": "code",
   "execution_count": 14,
   "metadata": {},
   "outputs": [
    {
     "name": "stdout",
     "output_type": "stream",
     "text": [
      "Olá, eu sou um texto de multiplas linhasl, eu fui declarado usando aspas duplas \"\"\n",
      "\n",
      "  eu preservo os espaços\n",
      "\n",
      "    eba\n",
      "\n",
      "Olá, eu sou um texto de multiplas linhas, eu fui declarado usando aspas unicas ''\n",
      "\n",
      "  eu preservo os espaços\n",
      "\n",
      "    eba\n",
      "\n"
     ]
    }
   ],
   "source": [
    "multi_line1 = \"\"\"Olá, eu sou um texto de multiplas linhasl, eu fui declarado usando aspas duplas \\\"\\\"\n",
    "\n",
    "  eu preservo os espaços\n",
    "\n",
    "    eba\n",
    "\"\"\"\n",
    "\n",
    "multi_line2 = \"\"\"Olá, eu sou um texto de multiplas linhas, eu fui declarado usando aspas unicas \\'\\'\n",
    "\n",
    "  eu preservo os espaços\n",
    "\n",
    "    eba\n",
    "\"\"\"\n",
    "\n",
    "print(multi_line1)\n",
    "print(multi_line2)"
   ]
  },
  {
   "cell_type": "markdown",
   "metadata": {},
   "source": [
    "##### fStrings (Formatted Strings)\n",
    "\n",
    "as fStrings, são strings formatadas, isto é, strings que contém codigo, sua declaração é feita adicionando um `f` a frente das aspas, e envolvendo os codigos em chaves `{}`"
   ]
  },
  {
   "cell_type": "code",
   "execution_count": 15,
   "metadata": {},
   "outputs": [
    {
     "name": "stdout",
     "output_type": "stream",
     "text": [
      "Olá, meu nome é Mirai, eu tenho 17 anos e sei programar em Python\n"
     ]
    }
   ],
   "source": [
    "nome = \"Mirai\"\n",
    "linguagem = \"Python\"\n",
    "idade = 17\n",
    "apresentacao = (\n",
    "    f\"Olá, meu nome é {nome}, eu tenho {idade} anos e sei programar em {linguagem}\"\n",
    ")\n",
    "print(apresentacao)"
   ]
  },
  {
   "cell_type": "markdown",
   "metadata": {},
   "source": [
    "eu disse codigo, pois podemos adicionar coisas além de variaveis, como funções, operações aritmeticas, metodos, etc...\n",
    "\n",
    "Eis aqui um exemplo:"
   ]
  },
  {
   "cell_type": "code",
   "execution_count": 16,
   "metadata": {},
   "outputs": [
    {
     "name": "stdout",
     "output_type": "stream",
     "text": [
      "Olá, meu nome é MIRAI, eu nasci em 2005 e sei programar em Python\n"
     ]
    }
   ],
   "source": [
    "nome = \"Mirai\"\n",
    "linguagem = \"Python\"\n",
    "idade = 17\n",
    "apresentacao = f\"Olá, meu nome é {nome.upper()}, eu nasci em {2022 - idade} e sei programar em {linguagem}\"\n",
    "print(apresentacao)"
   ]
  },
  {
   "cell_type": "markdown",
   "metadata": {},
   "source": [
    "As fStrings, podem ser misturadas com as Multi-Line strings, basta adicionar um `f` a frente\n",
    "\n",
    "elas tambem podem ser feitas através do string.format(), este metodo pega os argumentos providos e substutui nos espaços reservados em chaves `{}`"
   ]
  },
  {
   "cell_type": "code",
   "execution_count": 17,
   "metadata": {},
   "outputs": [
    {
     "name": "stdout",
     "output_type": "stream",
     "text": [
      "Olá, meu nome é Mirai, eu nasci em 17 e sei programar em Python\n"
     ]
    }
   ],
   "source": [
    "apresentacao = \"Olá, meu nome é {}, eu nasci em {} e sei programar em {}\"\n",
    "nome = \"Mirai\"\n",
    "linguagem = \"Python\"\n",
    "idade = 17\n",
    "print(apresentacao.format(nome, idade, linguagem))"
   ]
  },
  {
   "cell_type": "markdown",
   "metadata": {},
   "source": [
    "##### fStrings como em C\n",
    "\n",
    "Uma pequena curiosidade que eu descobri enquanto escrevia essas aulas é que podemos fazer fStrings como em C, por exemplo:"
   ]
  },
  {
   "cell_type": "code",
   "execution_count": 1,
   "metadata": {},
   "outputs": [
    {
     "name": "stdout",
     "output_type": "stream",
     "text": [
      "meu nome é Mirai e eu tenho 17 anos\n"
     ]
    }
   ],
   "source": [
    "print(\"meu nome é %s e eu tenho %d anos\" % (\"Mirai\", 17))"
   ]
  },
  {
   "cell_type": "markdown",
   "metadata": {},
   "source": [
    "basta colocar os place-holders de C, e \"modular\" com uma tuple contendo os valores necessários."
   ]
  },
  {
   "cell_type": "markdown",
   "metadata": {},
   "source": [
    "##### Concatenação\n",
    "\n",
    "Concatenação é o ato de juntar duas Strings, veja o mesmo exemplo anterior porém concatenado"
   ]
  },
  {
   "cell_type": "code",
   "execution_count": 18,
   "metadata": {},
   "outputs": [
    {
     "name": "stdout",
     "output_type": "stream",
     "text": [
      "Olá, meu nome é Mirai, eu tenho 17 anos e sei programar em Python\n"
     ]
    }
   ],
   "source": [
    "nome = \"Mirai\"\n",
    "linguagem = \"Python\"\n",
    "idade = 17\n",
    "apresentacao = (\n",
    "    \"Olá, meu nome é \"\n",
    "    + nome\n",
    "    + \", eu tenho \"\n",
    "    + str(idade)\n",
    "    + \" anos e sei programar em \"\n",
    "    + linguagem\n",
    ")\n",
    "print(apresentacao)"
   ]
  },
  {
   "cell_type": "markdown",
   "metadata": {},
   "source": [
    "Note que nós devemos fazer a devida conversão para o tipo string (str), e devemos manejar os espaços manualmente, o que pode ser deveras entediante\n",
    "\n",
    "#### Numeros (Ints & Floats) e Operações Aritméticas\n",
    "\n",
    "##### Ints\n",
    "\n",
    "INTs, Integers ou Integros, são quaisquer numeros inteiros, eles são passiveis de operações aritmeticas"
   ]
  },
  {
   "cell_type": "code",
   "execution_count": 19,
   "metadata": {},
   "outputs": [
    {
     "name": "stdout",
     "output_type": "stream",
     "text": [
      "<class 'int'>\n"
     ]
    }
   ],
   "source": [
    "idade = 17\n",
    "ano_de_nascimento = 2005\n",
    "ano_atual = 2022\n",
    "print(type(idade))"
   ]
  },
  {
   "cell_type": "markdown",
   "metadata": {},
   "source": [
    "##### Floats\n",
    "\n",
    "FLOATs, Floating Point Numbers ou Numeros de Pontos Flutuantes, são quaisquer numeros com casas decimais, ou um ponto (`.`) em sua declaração"
   ]
  },
  {
   "cell_type": "code",
   "execution_count": 20,
   "metadata": {},
   "outputs": [
    {
     "name": "stdout",
     "output_type": "stream",
     "text": [
      "<class 'float'>\n"
     ]
    }
   ],
   "source": [
    "PI = 3.1415\n",
    "print(type(PI))"
   ]
  },
  {
   "cell_type": "markdown",
   "metadata": {},
   "source": [
    "##### Operações Aritméticas\n",
    "\n",
    "Em Python se é possivel exercer operações aritméticas, eis aqui uma lista das possiveis operações\n",
    "\n",
    "- \\+ -> soma\n",
    "- \\- -> subtração\n",
    "- ** -> potencia\n",
    "- \\* -> mutiplicação\n",
    "- / -> divisão\n",
    "- // -> \"divisão verdadeira\"\n",
    "- % -> modulo\n",
    "\n",
    "Python segue sua própria ordem de precedencia baseada nos metodos BODMAS e PEMDAS, eis aqui sua ordem:\n",
    "\n",
    "- 1 - PARENTESES ((())) -> DE DENTRO PRA FORA\n",
    "- 2 - POTENCIA\n",
    "- 3 - RAIZES\n",
    "- 4 - MUTIPLICAÇÃO\n",
    "- 5 - DIVISÃO\n",
    "- 6 - SOMA\n",
    "- 7 - SUBTRAÇÃO\n",
    "\n",
    "As operações aritméticas são as mesmas aprendidas na escola, porém irei ressaltar 3, divisão, \"divisão verdadeira\" e modulo\n",
    "\n",
    "##### Divisão\n",
    "\n",
    "Em Python uma Divisão sempre resultará em um float, mesmo que o resultado seja inteiro:"
   ]
  },
  {
   "cell_type": "code",
   "execution_count": 21,
   "metadata": {},
   "outputs": [
    {
     "name": "stdout",
     "output_type": "stream",
     "text": [
      "2.0 <class 'float'>\n",
      "0.3333333333333333 <class 'float'>\n"
     ]
    }
   ],
   "source": [
    "print(4 / 2, type(4 / 2))\n",
    "print(1 / 3, type(1 / 3))"
   ]
  },
  {
   "cell_type": "markdown",
   "metadata": {},
   "source": [
    "Isso pode te levar a problemas caso necessite de um numero de tipo `int`, para isso se existe a \"Divisão Verdadeira\"\n",
    "\n",
    "##### \"Divisão Verdadeira\"\n",
    "\n",
    "A \"divisão verdadeira\" também é conhecida como \"divisão arredondada\" ou \"divisão exclusiva\", é uma operação de divisão que converte o resultado para Int\n",
    "\n",
    "o que ela essencialmente faz é cortar os numeros após o ponto, \"arredondando\" assim o numero"
   ]
  },
  {
   "cell_type": "code",
   "execution_count": 22,
   "metadata": {},
   "outputs": [
    {
     "name": "stdout",
     "output_type": "stream",
     "text": [
      "2 <class 'int'>\n",
      "0 <class 'int'>\n"
     ]
    }
   ],
   "source": [
    "print(4 // 2, type(4 // 2))\n",
    "print(1 // 3, type(1 // 3))"
   ]
  },
  {
   "cell_type": "markdown",
   "metadata": {},
   "source": [
    "#### Problemas com Numeros de Ponto Flutuante\n",
    "\n",
    "##### Bit Overflow\n",
    "\n",
    "Qual o resultado da soma `0.1 + 0.2`?\n",
    "\n",
    "Caso você performe a soma em uma calculadora o resultado será `0.3`, mas observe esta mesma operação em Python"
   ]
  },
  {
   "cell_type": "code",
   "execution_count": 23,
   "metadata": {},
   "outputs": [
    {
     "name": "stdout",
     "output_type": "stream",
     "text": [
      "0.30000000000000004\n"
     ]
    }
   ],
   "source": [
    "print(0.1 + 0.2)"
   ]
  },
  {
   "cell_type": "markdown",
   "metadata": {},
   "source": [
    "observe que o resultado é `0.30000000000000004` ao invés de apenas `0.3`, isto ocorre devido a forma como os numeros de ponto flutuante são convertidos para binário, e devido ao espaço alocado na memoria, nós temos um overflow de bits\n",
    "\n",
    "esse problema ocorre pois a parte fracionaria de um Float tem um tamanho pré-definido\n",
    "\n",
    "quando chegamos ao fim desse tamanho e a operação não for solucionada, se existirá uma sobrecarga de bits, que por ventura culminará no numero 4 ao final da cadeia\n",
    "\n",
    "##### Performance\n",
    "\n",
    "os numeros de pontos flutuantes são \"menos eficientes\" que os numeros integros devido a forma que eles são guardados na memória\n",
    "\n",
    "a parte inteira se localiza em um endereço, e a parte fracionária (decimal) se localiza em outra, ou seja, para performar operações o sistema deve navegar a varios endereços o que culmina num aumento do tempo de resposta, porém, vale ressaltar que este tempo só se torna perceptivel caso você tenha operações na casa das milhares, (3 milhoes de calculos, 19 milhoes de calculos, etc...) pois essa diferença de performance é na ordem dos nanosegundos\n",
    "\n",
    "#### Boolean\n",
    "\n",
    "O Boolano é o tipo de dado Binário, só pode ter 2 valores, Verdadeiro (`True`) ou Falso (`False`)\n",
    "\n",
    "ele é bastante usado para controlar o Flow do programa através de `if`s e `while`s\n",
    "\n",
    "os valores boleanos são dividos em 2 categorias, Verdadeiros e Falsos\n",
    "\n",
    "- Verdadeiros:\n",
    "    - `True`\n",
    "    - qualquer string que não esteja vazia\n",
    "    - qualquer numero diferente de 0\n",
    "    - qualquer outro tipo de dado que não esteja vazio\n",
    "- Falsos:\n",
    "    - `False`\n",
    "    - Strings vazias (\"\" ou '')\n",
    "    - 0\n",
    "    - qualquer outro tipo de dado vazio\n",
    "\n",
    "##### Operadores Lógicos\n",
    "\n",
    "esses operadores são usados em conjunto dos booleanos, são 3, `and`, `or`, `not`\n",
    "\n",
    "o `and`, retorna `True` caso todos os valores sejam verdadeiros"
   ]
  },
  {
   "cell_type": "code",
   "execution_count": 24,
   "metadata": {},
   "outputs": [
    {
     "name": "stdout",
     "output_type": "stream",
     "text": [
      "True\n",
      "False\n",
      "False\n",
      "False\n"
     ]
    }
   ],
   "source": [
    "print(True and True)\n",
    "print(True and False)\n",
    "print(False and True)\n",
    "print(False and False)"
   ]
  },
  {
   "cell_type": "markdown",
   "metadata": {},
   "source": [
    "o `or` retorna `True` caso um dos valores seja Verdadeiro, ou seja, só retorna Falso caso ambos os valores sejam falsos, informalmente dizendo, podemos presumir que ele exerce o oposto do `and`"
   ]
  },
  {
   "cell_type": "code",
   "execution_count": 25,
   "metadata": {},
   "outputs": [
    {
     "name": "stdout",
     "output_type": "stream",
     "text": [
      "True\n",
      "True\n",
      "True\n",
      "False\n"
     ]
    }
   ],
   "source": [
    "print(True or True)\n",
    "print(True or False)\n",
    "print(False or True)\n",
    "print(False or False)"
   ]
  },
  {
   "cell_type": "markdown",
   "metadata": {},
   "source": [
    "o `not` é o mais simples de todos, ele inverte o valor"
   ]
  },
  {
   "cell_type": "code",
   "execution_count": 26,
   "metadata": {},
   "outputs": [
    {
     "name": "stdout",
     "output_type": "stream",
     "text": [
      "True\n",
      "False\n"
     ]
    }
   ],
   "source": [
    "print(not False)\n",
    "print(not True)"
   ]
  },
  {
   "cell_type": "markdown",
   "metadata": {},
   "source": [
    "##### Curto Circuito\n",
    "\n",
    "o curto circuito em operadores lógicos é uma pratica onde você ordena os valores para que a decisão seja tomada mais rapida\n",
    "\n",
    "por exemplo, com o `and`, se você tem algum valor que provavelmente retornará `False`, o colocar na frente o dará performance, pois o Python irá ignorar o resto da expressão pois o `and` só retorna `True` caso TODOS os valores sejam verdadeiros\n",
    "\n",
    "com o `or`, se é exatamente o oposto, colocamos um valor que provavelmente retornará `True` na frente, pois assim a expressão já é validada, retornando `True`, e o Python por sua vez irá ignorar o resto da expressão, pois o `or` retorna `True` caso um dos valores seja verdadeiro\n",
    "\n",
    "#### Curiosidades\n",
    "\n",
    "pequenas curiosidades sobre alguns tipos básicos\n",
    "\n",
    "##### Floats\n",
    "\n",
    "nos floats nós podemos converter as string `inf` e `NaN` (Not a Number), para números, sendo `inf` a representação de um numero infinito e `NaN` a representação de algo que não é um numero.\n"
   ]
  },
  {
   "cell_type": "code",
   "execution_count": 2,
   "metadata": {},
   "outputs": [
    {
     "name": "stdout",
     "output_type": "stream",
     "text": [
      "nan <class 'float'>\n",
      "inf <class 'float'>\n"
     ]
    }
   ],
   "source": [
    "snan = \"NaN\"\n",
    "fnan = float(snan)\n",
    "print(fnan, type(fnan))\n",
    "\n",
    "sinf = \"inf\"\n",
    "finf = float(sinf)\n",
    "print(finf, type(finf))"
   ]
  },
  {
   "cell_type": "markdown",
   "metadata": {},
   "source": [
    "##### Strings\n",
    "\n",
    "em strings nós podemos usar o modificador `r` para exibirmos a string literalmente"
   ]
  },
  {
   "cell_type": "code",
   "execution_count": 5,
   "metadata": {},
   "outputs": [
    {
     "name": "stdout",
     "output_type": "stream",
     "text": [
      "Uma String\\nLiteral com os\\tcaracteres de escapagem\\r\n",
      "b'yee'\n"
     ]
    }
   ],
   "source": [
    "raw_string = r\"Uma String\\nLiteral com os\\tcaracteres de escapagem\\r\"\n",
    "print(raw_string)"
   ]
  },
  {
   "cell_type": "markdown",
   "metadata": {},
   "source": [
    "### Tipos Compostos\n",
    "\n",
    "Os tipos compostos são aqueles que contem mais de um Dado\n",
    "\n",
    "eles são os seguintes:\n",
    "\n",
    "- Tuples\n",
    "- Listas\n",
    "- Sets\n",
    "- Dicionarios\n",
    "\n",
    "#### Mutabilidade\n",
    "\n",
    "A Mutabilidade define a capacidade de um tipo ser alterado sem que se seja criado um novo, exemplo:\n",
    "\n",
    "Listas são mutaveis, pois nós podemos adicionar ou remover elementos sem criar uma lista nova\n",
    "\n",
    "Tuples são imutaveis pois para podermos adicionar um novo elemento nós devemos criar uma nova\n",
    "\n",
    "#### Tuples\n",
    "\n",
    "As Tuples são imutaveis, elas são comumente usadas na declaração de multiplas variaveis, para declara uma tuple nós podemos fazer de duas formas:\n",
    "\n",
    "forma 1:\n",
    "- usamos parenteses `()`"
   ]
  },
  {
   "cell_type": "code",
   "execution_count": 27,
   "metadata": {},
   "outputs": [
    {
     "name": "stdout",
     "output_type": "stream",
     "text": [
      "('eba', 'uma', 'tuple') <class 'tuple'>\n"
     ]
    }
   ],
   "source": [
    "tulipa1 = (\"eba\", \"uma\", \"tuple\")\n",
    "print(tulipa1, type(tulipa1))"
   ]
  },
  {
   "cell_type": "markdown",
   "metadata": {},
   "source": [
    "forma 2:\n",
    "- nas tuples nós podemos omitir o parenteses, apenas separando os argumentos por virgula `,`"
   ]
  },
  {
   "cell_type": "code",
   "execution_count": 28,
   "metadata": {},
   "outputs": [
    {
     "name": "stdout",
     "output_type": "stream",
     "text": [
      "('eba', 'mais', 'uma', 'tuple') <class 'tuple'>\n"
     ]
    }
   ],
   "source": [
    "tulipa2 = \"eba\", \"mais\", \"uma\", \"tuple\"\n",
    "print(tulipa2, type(tulipa2))"
   ]
  },
  {
   "cell_type": "markdown",
   "metadata": {},
   "source": [
    "Para adicionarmos ou removermos elementos de uma tuple nós devemos criar uma nova"
   ]
  },
  {
   "cell_type": "code",
   "execution_count": 29,
   "metadata": {},
   "outputs": [
    {
     "name": "stdout",
     "output_type": "stream",
     "text": [
      "(1, 2, 7) <class 'tuple'>\n"
     ]
    }
   ],
   "source": [
    "x, y = 1, 2  # uma tuple com 2 valores\n",
    "z = 7  # valor que iremos adicionar\n",
    "tulipa_nova = x, +y, +z\n",
    "print(tulipa_nova, type(tulipa_nova))"
   ]
  },
  {
   "cell_type": "markdown",
   "metadata": {},
   "source": [
    "#### Listas\n",
    "\n",
    "Diferente das Tuples, as listas já podem ser alteradas, para declararmos uma lista nós usamos `[]`"
   ]
  },
  {
   "cell_type": "code",
   "execution_count": 30,
   "metadata": {},
   "outputs": [
    {
     "name": "stdout",
     "output_type": "stream",
     "text": [
      "['amigo1', 'amigo2', 'amigo3'] <class 'list'>\n"
     ]
    }
   ],
   "source": [
    "amigos = [\"amigo1\", \"amigo2\", \"amigo3\"]\n",
    "print(amigos, type(amigos))"
   ]
  },
  {
   "cell_type": "markdown",
   "metadata": {},
   "source": [
    "para obtermos um item especifico nós usamos um index iniciado em 0\n",
    "\n",
    "é simples, basta fazer `nome_da_lista[index]`, e as listas começam pelo 0, ou seja, o primeiro valor é 0, o segundo é 1, o terceiro é 2 e assim por diante\n",
    "\n",
    "caso nós coloquemos um sinal negativo a frente do index, a lista será invertida, `-1` se torna o ultimo, `-2` o penultimo, `-3` o antepenultimo e assim por diante\n",
    "\n",
    "eis aqui um exemplo:"
   ]
  },
  {
   "cell_type": "code",
   "execution_count": 31,
   "metadata": {},
   "outputs": [
    {
     "name": "stdout",
     "output_type": "stream",
     "text": [
      "['amigo1', 'amigo2', 'amigo3'] <class 'list'>\n",
      "amigo1 <class 'str'>\n",
      "amigo3 <class 'str'>\n",
      "amigo2 <class 'str'>\n",
      "amigo1 <class 'str'>\n",
      "amigo2 <class 'str'>\n",
      "amigo3 <class 'str'>\n"
     ]
    }
   ],
   "source": [
    "amigos = [\"amigo1\", \"amigo2\", \"amigo3\"]\n",
    "print(amigos, type(amigos))\n",
    "print(amigos[0], type(amigos[0]))  # mostraremos o amigo1\n",
    "print(amigos[2], type(amigos[1]))  # mostraremos o amigo2\n",
    "print(amigos[1], type(amigos[2]))  # mostraremos o amigo3\n",
    "print(amigos[-3], type(amigos[-3]))  # mostraremos o amigo1\n",
    "print(amigos[-2], type(amigos[-2]))  # mostraremos o amigo2\n",
    "print(amigos[-1], type(amigos[-1]))  # mostraremos o amigo3"
   ]
  },
  {
   "cell_type": "markdown",
   "metadata": {},
   "source": [
    "para adicionarmos um item a uma lista nós usamos o metodo `append`, sua sintaxe é:\n",
    "\n",
    "`lista.append(item)`, este metodo sempre adicionará o item ao final da lista"
   ]
  },
  {
   "cell_type": "code",
   "execution_count": 32,
   "metadata": {},
   "outputs": [
    {
     "name": "stdout",
     "output_type": "stream",
     "text": [
      "['amigo1', 'amigo2', 'amigo3'] <class 'list'>\n",
      "['amigo1', 'amigo2', 'amigo3', 'amigo4'] <class 'list'>\n"
     ]
    }
   ],
   "source": [
    "amigos = [\"amigo1\", \"amigo2\", \"amigo3\"]\n",
    "print(amigos, type(amigos))\n",
    "amigos.append(\"amigo4\")\n",
    "print(amigos, type(amigos))"
   ]
  },
  {
   "cell_type": "markdown",
   "metadata": {},
   "source": [
    "para adicionarmos um item em uma posição especifica nós usamos `lista.insert(index, item)`"
   ]
  },
  {
   "cell_type": "code",
   "execution_count": 33,
   "metadata": {},
   "outputs": [
    {
     "name": "stdout",
     "output_type": "stream",
     "text": [
      "['amigo1', 'amigo2', 'amigo3'] <class 'list'>\n",
      "['amigo1', 'amigo4', 'amigo2', 'amigo3'] <class 'list'>\n"
     ]
    }
   ],
   "source": [
    "amigos = [\"amigo1\", \"amigo2\", \"amigo3\"]\n",
    "print(amigos, type(amigos))\n",
    "amigos.insert(1, \"amigo4\")  # iremos adicionar o amigo4 na segunda posição\n",
    "print(amigos, type(amigos))"
   ]
  },
  {
   "cell_type": "markdown",
   "metadata": {},
   "source": [
    "para removermos um item, nós temos `lista.pop()` e `lista.remove(item)`\n",
    "\n",
    "o metodo `lista.pop()` remove o ultimo item, ou em um index especificado `lista.pop(index)`\n",
    "\n",
    "o metodo `lista.remove(item)` remove o item especificado"
   ]
  },
  {
   "cell_type": "code",
   "execution_count": 34,
   "metadata": {},
   "outputs": [
    {
     "name": "stdout",
     "output_type": "stream",
     "text": [
      "['amigo1', 'amigo2', 'amigo3'] <class 'list'>\n",
      "['amigo1', 'amigo2'] <class 'list'>\n",
      "['amigo2'] <class 'list'>\n"
     ]
    }
   ],
   "source": [
    "amigos = [\"amigo1\", \"amigo2\", \"amigo3\"]\n",
    "print(amigos, type(amigos))\n",
    "amigos.pop()\n",
    "print(amigos, type(amigos))\n",
    "amigos.remove(\"amigo1\")\n",
    "print(amigos, type(amigos))"
   ]
  },
  {
   "cell_type": "markdown",
   "metadata": {},
   "source": [
    "##### Matrizes (Lista Multi-Dimensional)\n",
    "\n",
    "Caso você se depare na situação de ter que criar uma matiz, em python isso pode ser feito através de listas multi-dimensionais"
   ]
  },
  {
   "cell_type": "code",
   "execution_count": 35,
   "metadata": {},
   "outputs": [
    {
     "name": "stdout",
     "output_type": "stream",
     "text": [
      "[[1, 2, 3], [4, 5, 6], [7, 8, 9]] <class 'list'>\n",
      "1\n",
      "8\n"
     ]
    }
   ],
   "source": [
    "matriz = [\n",
    "    # X  0  1  2      Y\n",
    "    [1, 2, 3],  # 0\n",
    "    [4, 5, 6],  # 1\n",
    "    [7, 8, 9],  # 2\n",
    "]\n",
    "print(matriz, type(matriz))\n",
    "# Eixos:     Y  X\n",
    "print(matriz[0][0])\n",
    "print(matriz[2][1])"
   ]
  },
  {
   "cell_type": "markdown",
   "metadata": {},
   "source": [
    "#### Sets (Conjuntos)\n",
    "\n",
    "Sets são essencialmente conjuntos, são declarados através das chaves `{}`.\n",
    "\n",
    "Eles tem 2 caracteristicas peculiares:\n",
    "\n",
    "- não tem ordem\n",
    "- não possuem valores repetidos\n",
    "\n",
    "irei começar pela ordem, tomaremos como exemplo um set com 3 nomes."
   ]
  },
  {
   "cell_type": "code",
   "execution_count": 9,
   "metadata": {},
   "outputs": [
    {
     "name": "stdout",
     "output_type": "stream",
     "text": [
      "{'Mirai', 'Maria', 'Joaquim'}\n"
     ]
    }
   ],
   "source": [
    "set_nomes = {\"Joaquim\", \"Mirai\", \"Maria\"}\n",
    "print(set_nomes)"
   ]
  },
  {
   "cell_type": "markdown",
   "metadata": {},
   "source": [
    "perceba que quando eu executei o código em minha máquina, o resultado foi `{'Mirai', 'Maria', 'Joaquim'}`, mesmo com a declaração sendo `{'Joaquim', 'Mirai', 'Maria'}`, isso ocorre porque os sets não tem ordem nenhuma, ou seja, se rodarmos denovo, teremos outra ordem.\n",
    "\n",
    "agora vamos aos valores, suponha novamente um set de nomes, porém agora com mais pessoas."
   ]
  },
  {
   "cell_type": "code",
   "execution_count": 10,
   "metadata": {},
   "outputs": [
    {
     "name": "stdout",
     "output_type": "stream",
     "text": [
      "{'Maria', 'Mirai', 'José', 'Ana', 'Joaquim'}\n"
     ]
    }
   ],
   "source": [
    "set_nome_pessoas = {\"Mirai\", \"Maria\", \"Ana\", \"José\", \"Joaquim\", \"Maria\"}\n",
    "print(set_nome_pessoas)"
   ]
  },
  {
   "cell_type": "markdown",
   "metadata": {},
   "source": [
    "perceba que mesmo com nós especificando duas `'Maria'`s no codigo, só exibimos uma, isso ocorre pois os sets excluem todos os valores repetidos."
   ]
  },
  {
   "cell_type": "markdown",
   "metadata": {},
   "source": [
    "agora vamos as operações elas são:\n",
    "\n",
    "- `set.add()` -> adiciona elementos ao set\n",
    "- `set.remove()` -> remove elementos do set\n",
    "- `set.difference()` -> retorna a diferença entre sets\n",
    "- `set.symmetric_difference()` -> retorna todos os itens que não estão na interseção\n",
    "- `set.intersection()` -> retorna a intersceção dos sets\n",
    "- `set.union()` -> retorna a união dos sets\n",
    "  "
   ]
  },
  {
   "cell_type": "code",
   "execution_count": 17,
   "metadata": {},
   "outputs": [
    {
     "name": "stdout",
     "output_type": "stream",
     "text": [
      "ADD:\t\t\t{'aluno1', 'aluno2', 'aluno4', 'aluno3', 'aluno5', 'aluno9'}\n",
      "REMOVE:\t\t\t{'aluno1', 'aluno2', 'aluno4', 'aluno3', 'aluno9'}\n",
      "DIFFERENCE:\t\t{'aluno7', 'aluno6', 'aluno8'}\n",
      "SYMMETRIC_DIFFERENCE:\t{'aluno1', 'aluno6', 'aluno4', 'aluno7', 'aluno8', 'aluno9'}\n",
      "INTERSECTION:\t\t{'aluno2', 'aluno3'}\n",
      "UNION:\t\t\t{'aluno2', 'aluno4', 'aluno7', 'aluno8', 'aluno1', 'aluno6', 'aluno3', 'aluno9'}\n"
     ]
    }
   ],
   "source": [
    "estudantes_matematica = {\"aluno1\", \"aluno2\", \"aluno2\", \"aluno3\", \"aluno4\", \"aluno5\"}\n",
    "\n",
    "estudantes_portugues = {\"aluno6\", \"aluno2\", \"aluno3\", \"aluno7\", \"aluno8\"}\n",
    "\n",
    "estudantes_matematica.add(\"aluno9\")\n",
    "print(f\"ADD:\\t\\t\\t{estudantes_matematica}\")\n",
    "estudantes_matematica.remove(\"aluno5\")\n",
    "print(f\"REMOVE:\\t\\t\\t{estudantes_matematica}\")\n",
    "print(f\"DIFFERENCE:\\t\\t{estudantes_portugues.difference(estudantes_matematica)}\")\n",
    "print(\n",
    "    f\"SYMMETRIC_DIFFERENCE:\\t{estudantes_portugues.symmetric_difference(estudantes_matematica)}\"\n",
    ")\n",
    "print(f\"INTERSECTION:\\t\\t{estudantes_matematica.intersection(estudantes_portugues)}\")\n",
    "print(f\"UNION:\\t\\t\\t{estudantes_matematica.union(estudantes_portugues)}\")"
   ]
  },
  {
   "cell_type": "markdown",
   "metadata": {},
   "source": [
    "#### Dicionários\n",
    "\n",
    "Dicionários são listas com `chave:valor`, onde o valor pode ter um indentificador nomeado chamado chave\n",
    "\n",
    "a declaração de um dicionário é feita da seguinte forma:"
   ]
  },
  {
   "cell_type": "code",
   "execution_count": 37,
   "metadata": {},
   "outputs": [
    {
     "name": "stdout",
     "output_type": "stream",
     "text": [
      "{'chave1': 'valor1', 'chave2': 'valor2'} <class 'dict'>\n"
     ]
    }
   ],
   "source": [
    "valor1, valor2, chave1, chave2 = \"valor1\", \"valor2\", \"chave1\", \"chave2\"\n",
    "\n",
    "dicionario = {chave1: valor1, chave2: valor2}\n",
    "print(dicionario, type(dicionario))"
   ]
  },
  {
   "cell_type": "markdown",
   "metadata": {},
   "source": [
    "para fins de conveniencia e legibilidade, nós dividimos o dicionario entre linhas, ficando desta forma"
   ]
  },
  {
   "cell_type": "code",
   "execution_count": 38,
   "metadata": {},
   "outputs": [
    {
     "name": "stdout",
     "output_type": "stream",
     "text": [
      "{'chave1': 'valor1', 'chave2': 'valor2'} <class 'dict'>\n"
     ]
    }
   ],
   "source": [
    "valor1, valor2, chave1, chave2 = \"valor1\", \"valor2\", \"chave1\", \"chave2\"\n",
    "\n",
    "dicionario = {chave1: valor1, chave2: valor2}\n",
    "print(dicionario, type(dicionario))"
   ]
  },
  {
   "cell_type": "markdown",
   "metadata": {},
   "source": [
    "para acessarmos um valor especifico nós usamos sua chave, desta forma `dicionario[chave]`"
   ]
  },
  {
   "cell_type": "code",
   "execution_count": 39,
   "metadata": {},
   "outputs": [
    {
     "name": "stdout",
     "output_type": "stream",
     "text": [
      "valor1 <class 'str'>\n"
     ]
    }
   ],
   "source": [
    "valor1, valor2, chave1, chave2 = \"valor1\", \"valor2\", \"chave1\", \"chave2\"\n",
    "\n",
    "dicionario = {chave1: valor1, chave2: valor2}\n",
    "print(dicionario[chave1], type(dicionario[chave1]))"
   ]
  },
  {
   "cell_type": "markdown",
   "metadata": {},
   "source": [
    "para adicionarmos um valor, ou reassociarmos um valor, basta por `dicionario[chave]=novo_valor`"
   ]
  },
  {
   "cell_type": "code",
   "execution_count": 40,
   "metadata": {},
   "outputs": [
    {
     "name": "stdout",
     "output_type": "stream",
     "text": [
      "valor3 <class 'str'>\n",
      "valor2 <class 'str'>\n"
     ]
    }
   ],
   "source": [
    "valor1, valor2, valor3 = \"valor1\", \"valor2\", \"valor3\"\n",
    "chave1, chave2, chave3 = \"chave1\", \"chave2\", \"chave3\"\n",
    "\n",
    "dicionario = {chave1: valor1, chave2: valor2}\n",
    "\n",
    "dicionario[chave3] = valor3\n",
    "dicionario[chave1] = valor2\n",
    "print(dicionario[chave3], type(dicionario[chave3]))\n",
    "print(dicionario[chave1], type(dicionario[chave1]))"
   ]
  },
  {
   "cell_type": "markdown",
   "metadata": {},
   "source": [
    "### Conversão e Coerção\n",
    "\n",
    "Um topico relativamente simples, ele consiste em alterar o tipo de um dado, por exemplo:\n",
    "\n",
    "`string` -> `int`\n",
    "\n",
    "#### Conversão\n",
    "\n",
    "Conversão é quando essa alteração é explicita no codigo, por exemplo:"
   ]
  },
  {
   "cell_type": "code",
   "execution_count": 2,
   "metadata": {},
   "outputs": [
    {
     "name": "stdout",
     "output_type": "stream",
     "text": [
      "3 <class 'int'>\n",
      "3 <class 'str'>\n"
     ]
    }
   ],
   "source": [
    "x = 3\n",
    "print(x, type(x))\n",
    "y = str(x)  # converte 3 int em \"3\" string\n",
    "print(y, type(y))"
   ]
  },
  {
   "cell_type": "markdown",
   "metadata": {},
   "source": [
    "existem funções especificas para isso, eis a lista:\n",
    "- `str()` -> converte para `string`\n",
    "- `int()` -> converte para `int`\n",
    "- `float()` -> converte para `float`\n",
    "- `bool()` -> converte para `booleano`\n",
    "- `tuple()` -> converte para `tuple`\n",
    "- `list()` -> converte para `lista`\n",
    "- `set()` -> converte para `set`\n",
    "- `dict()` -> converte para `dicionario`\n",
    "\n",
    "#### Coerção\n",
    "\n",
    "ocorre quando a conversão é implicita, ou seja, você não define expecificamente.\n",
    "\n",
    "ela ocorrem em flows outros tipos de flow (`if`s, `while`s, etc..., veremos mais a frente)"
   ]
  },
  {
   "cell_type": "markdown",
   "metadata": {},
   "source": [
    "### `sum()` & `len()`\n",
    "\n",
    "`sum()` é uma função nativa do python que retorna a soma de todos os valores de um objeto iteravel, ou seja, listas, dicionarios, sets e tuples\n",
    "\n",
    "`len()` é uma função nativa do python que retorna o comprimento de um objeto iteravel, ou seja, listas, dicionarios, sets e tuples\n",
    "\n",
    "seu uso principal seria para calcular médias, pois uma média é dada através da soma de todos os valores dividos pela quantidade de valores"
   ]
  }
 ],
 "metadata": {
  "kernelspec": {
   "display_name": "Python 3.10.5 64-bit",
   "language": "python",
   "name": "python3"
  },
  "language_info": {
   "codemirror_mode": {
    "name": "ipython",
    "version": 3
   },
   "file_extension": ".py",
   "mimetype": "text/x-python",
   "name": "python",
   "nbconvert_exporter": "python",
   "pygments_lexer": "ipython3",
   "version": "3.10.5"
  },
  "orig_nbformat": 4,
  "vscode": {
   "interpreter": {
    "hash": "e7370f93d1d0cde622a1f8e1c04877d8463912d04d973331ad4851f04de6915a"
   }
  }
 },
 "nbformat": 4,
 "nbformat_minor": 2
}
