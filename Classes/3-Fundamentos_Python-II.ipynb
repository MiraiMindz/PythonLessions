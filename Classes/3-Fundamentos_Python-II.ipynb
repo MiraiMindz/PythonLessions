{
 "cells": [
  {
   "cell_type": "markdown",
   "metadata": {},
   "source": [
    "# Fundamentos Python II\n",
    "\n",
    "## Tipos de Controle de Flow\n",
    "\n",
    "### Controle de Fluxo (Control Flow) e Escopo\n",
    "\n",
    "o Controle de Fluxo (Control Flow) de um programa determina a forma como o código será executado, existem 4 tipos essenciais, isto é, destes quatro surgem variações\n",
    "\n",
    "- Sequencial: o código é executado de forma sequencial, cima a baixo\n",
    "\n",
    "- Decisivo: o código é executado baseado em uma decisão, `if` statements\n",
    "\n",
    "- Repetitivo: o código é executado em loop, `while` e `for` loops\n",
    "\n",
    "- Funcional: o código é dividido e executado em forma de funções (veremos mais a frente)\n",
    "\n",
    "#### Sequencial\n",
    "\n",
    "é essencialmente a forma como viemos escrevendo código até agora, os comandos são providos e executados de forma sequencial"
   ]
  },
  {
   "cell_type": "code",
   "execution_count": null,
   "metadata": {},
   "outputs": [],
   "source": [
    "print(\"executado primeiro\")\n",
    "print(\"executado depois\")\n",
    "print(\"executado por ultimo\")"
   ]
  },
  {
   "cell_type": "markdown",
   "metadata": {},
   "source": [
    "#### Decisivo\n",
    "\n",
    "O decisivo é usado quando queremos executar um codigo quando algo for verdadeiro ou falso, ou seja, quando tomamos uma decisão\n",
    "\n",
    "em Python nós duas formas de tomar decisões, `match-case` e cadeias de `elif`s\n",
    "\n",
    "começarei pelas cadeias de `elif`s pois elas constituem a lógica básica de um `if statement`\n",
    "\n",
    "a sintaxe de um `if statement` é a seguinte:\n",
    "\n",
    "```python\n",
    "if (condição):\n",
    "    {codigo}\n",
    "```\n",
    "\n",
    "irei desestruturar o código e explicar cada parte:\n",
    "\n",
    "`if` -> é a keyword, em uma tradução literal significa \"se\"\n",
    "\n",
    "`(condição)` -> é onde você coloca a condição para a execução do codigo e nós usamos os operadores condicionais para isto, os parenteses são opcionais\n",
    "\n",
    "`:` (dois pontos) -> eles são ESTRITAMENTE NECESSÁRIOS, pois dão inicio ao escopo do bloco, sem eles o código nunca será executado como esperado\n",
    "\n",
    "`    ` (indentação) -> seu tamanho pode variar dependendo das configurações da IDE, porém ela é o delimitador de escopo, ou seja, uma indentação mal feita torna o codigo impossivel de ser executado\n",
    "\n",
    "`{codigo}` -> é o codigo que você deseja executar\n",
    "\n",
    "vejamos alguns exemplos:"
   ]
  },
  {
   "cell_type": "code",
   "execution_count": null,
   "metadata": {},
   "outputs": [],
   "source": [
    "x, y = 2, 3\n",
    "\n",
    "if x == 2:\n",
    "    print(f\"x é igual a {x}\")\n",
    "\n",
    "if x != y:\n",
    "    print(f\"x não é igual a y\")"
   ]
  },
  {
   "cell_type": "markdown",
   "metadata": {},
   "source": [
    "suponhamos que você queria executar um código caso algo seja verdade e outro caso não seja verdade, bom, para isto temos a keyword `else`, ela não recebe nenhuma condição, pois só serve para executar o código caso o `if` não se concretize"
   ]
  },
  {
   "cell_type": "code",
   "execution_count": null,
   "metadata": {},
   "outputs": [],
   "source": [
    "x, y = 2, 2\n",
    "\n",
    "if x == 2:\n",
    "    print(f\"x é igual a {x}\")\n",
    "else:\n",
    "    print(f\"x não é igual a {x}\")\n",
    "\n",
    "if x != y:\n",
    "    print(f\"x não é igual a {y}\")\n",
    "else:\n",
    "    print(f\"x é igual a y\")"
   ]
  },
  {
   "cell_type": "markdown",
   "metadata": {},
   "source": [
    "até agora nós conseguimos executar duas funções com base em uma variavel, mas e se quisermos tomar mais decisões?\n",
    "\n",
    "bom, se raciocinarmos um pouco podemos perceber que basta juntar `if`s e `else`s para termos mais de uma decisão, deste modo:"
   ]
  },
  {
   "cell_type": "code",
   "execution_count": null,
   "metadata": {},
   "outputs": [],
   "source": [
    "x, y = 2, 2\n",
    "\n",
    "if x == 2:\n",
    "    print(f\"x é igual a {x}\")\n",
    "else:\n",
    "    if x != y:\n",
    "        print(f\"x não é igual a {y}\")\n",
    "    else:\n",
    "        print(f\"x é igual a y\")"
   ]
  },
  {
   "cell_type": "markdown",
   "metadata": {},
   "source": [
    "os desenvolvedores de Python perceberam este padrão e criaram uma keyword especifica para a união de `else`s e `if`s, chamada de `elif`\n",
    "\n",
    "ela é usada entre o `if` e o `else` em uma especie de cadeia, veja o exemplo:"
   ]
  },
  {
   "cell_type": "code",
   "execution_count": null,
   "metadata": {},
   "outputs": [],
   "source": [
    "x = 1\n",
    "\n",
    "if x == 1:\n",
    "    print(f\"x é igual a {x}\")\n",
    "elif x == 2:\n",
    "    print(f\"x é igual a {x}\")\n",
    "elif x == 3:\n",
    "    print(f\"x é igual a {x}\")\n",
    "elif x == 4:\n",
    "    print(f\"x é igual a {x}\")\n",
    "else:\n",
    "    print(f\"x é igual a {x}\")"
   ]
  },
  {
   "cell_type": "markdown",
   "metadata": {},
   "source": [
    "em cadeias de `elif`s nós podemos ter quantos `elif` forem necessários, porém, devemos ter APENAS um `if` no inicio e um `else` no fim para termos a cadeia\n",
    "\n",
    "tendo em vista o constante uso dessas cadeias em versões posteriores ao Python 3.10 nós temos a adição de duas keywords para este fim, `match` e `case`\n",
    "\n",
    "a sintaxe de um `match-case` é a seguinte:\n",
    "\n",
    "```python\n",
    "match (variavel):\n",
    "    case (opção):\n",
    "        {codigo}\n",
    "    case _:\n",
    "        {codigo}\n",
    "```\n",
    "\n",
    "`match` -> keyword\n",
    "\n",
    "`(variavel)` -> variavel usada na cadeia\n",
    "\n",
    "`case` -> keyword \n",
    "\n",
    "`(opção)` -> valor esperado, podemos ter quantos `case (opção)` quisermos\n",
    "\n",
    "`case _` -> valor universal, equivale ao `else` nas cadeias de `elif`s, executado caso todos os outros sejam falso\n"
   ]
  },
  {
   "cell_type": "code",
   "execution_count": null,
   "metadata": {},
   "outputs": [],
   "source": [
    "x = 3\n",
    "\n",
    "match x:\n",
    "    case 1:\n",
    "        print(f\"x é igual a {x}\")\n",
    "    case 2:\n",
    "        print(f\"x é igual a {x}\")\n",
    "    case 3:\n",
    "        print(f\"x é igual a {x}\")\n",
    "    case 4:\n",
    "        print(f\"x é igual a {x}\")\n",
    "    case _:\n",
    "        print(f\"x é igual a {x}\")"
   ]
  },
  {
   "cell_type": "markdown",
   "metadata": {},
   "source": [
    "então qual a diferença entre cadeias de `elif` e `match-case`?\n",
    "\n",
    "veja bem, o `match-case` está restrito aos valores de uma unica variavel, enquanto os `elif`s estão restritos a lógica booleana, ou seja, logicas que retornam verdadeiro ou falso\n",
    "\n",
    "basicamente, `elif`s são independentes entre si e podem ter lógicas complexas, enquanto `match-case` não\n",
    "\n",
    "veja um exemplo:"
   ]
  },
  {
   "cell_type": "code",
   "execution_count": null,
   "metadata": {},
   "outputs": [],
   "source": [
    "x, y, z = 1, 2, 3\n",
    "\n",
    "if x & y == 2:\n",
    "    print(1)\n",
    "elif z + y != 6:\n",
    "    print(2)\n",
    "elif y > x:\n",
    "    print(3)\n",
    "else:\n",
    "    print(4)\n",
    "\n",
    "match x:\n",
    "    case 1:\n",
    "        print(\"a\")\n",
    "    case 2:\n",
    "        print(\"b\")\n",
    "    case 3:\n",
    "        print(\"c\")\n",
    "    case _:\n",
    "        print(\"d\")"
   ]
  },
  {
   "cell_type": "markdown",
   "metadata": {},
   "source": [
    "#### Repetitivo (Recursivo)\n",
    "\n",
    "Flows repetitivos, como o nome sugere servem para repetir linhas de código, em Python nós temos duas keywords para isto, `while` e `for`\n",
    "\n",
    "o `while` serve para executar um codigo enquanto uma condição for verdadeira\n",
    "\n",
    "veja a sintaxe de um `while loop`:\n",
    "\n",
    "```python\n",
    "while (condição):\n",
    "    {codigo}\n",
    "```\n",
    "\n",
    "a unica diferença entre a estrutura basica de um `if`, é a keyword e o fato de termos apenas ela, não existem \"cadeias de `while`\"\n",
    "\n",
    "obs: os parenteses na declaração são opcionais, tanto no `while`, quanto no `for`\n",
    "\n",
    "veja o exemplo:"
   ]
  },
  {
   "cell_type": "code",
   "execution_count": null,
   "metadata": {},
   "outputs": [],
   "source": [
    "x = 0\n",
    "\n",
    "while x < 10:\n",
    "    print(f\"valor de x: {x}\")\n",
    "    x += 1"
   ]
  },
  {
   "cell_type": "markdown",
   "metadata": {},
   "source": [
    "enquanto `x` for menor que 10, exiba o valor de `x`, e incremente x por 1\n",
    "\n",
    "já o `for` serve para repetir em um \"raio\", de `x` a `y`, veja a sintaxe de um `for loop`:\n",
    "\n",
    "```python\n",
    "for {index} in (raio):\n",
    "    {codigo}\n",
    "```\n",
    "\n",
    "`for` -> keyword\n",
    "\n",
    "`{index}` -> variavel usada para o loop\n",
    "\n",
    "`in` -> operador membro, \"em tal grupo\"\n",
    "\n",
    "`(raio)` -> item iteravel\n",
    "\n",
    "veja o exemplo:"
   ]
  },
  {
   "cell_type": "code",
   "execution_count": null,
   "metadata": {},
   "outputs": [],
   "source": [
    "for i in range(10):\n",
    "    print(i)"
   ]
  },
  {
   "cell_type": "markdown",
   "metadata": {},
   "source": [
    "para `i` em um raio de 10 digitos, exiba `i`\n",
    "\n",
    "essencialmente o `for` loop é um `while` delimitado, e ele é especialmente usado para iterar sob tipos compostos"
   ]
  },
  {
   "cell_type": "code",
   "execution_count": null,
   "metadata": {},
   "outputs": [],
   "source": [
    "lista_legal = [\"a\", \"b\", \"c\", \"d\"]\n",
    "\n",
    "for i in lista_legal:\n",
    "    print(i)"
   ]
  },
  {
   "cell_type": "markdown",
   "metadata": {},
   "source": [
    "### Performance em Loops\n",
    "\n",
    "suponhamos o seguinte, você quer exibir os numeros entre 1 e 100000000 usando um loop, mas quer fazer isso de forma eficiente, como você fará?\n",
    "\n",
    "para demonstrar o ponto, irei temporizar o código e usar sintaxes avançadas, como funções, módulos e type-hinting.\n",
    "\n",
    "#### While Loops\n",
    "\n",
    "Usando `while` loops:"
   ]
  },
  {
   "cell_type": "code",
   "execution_count": 10,
   "metadata": {},
   "outputs": [
    {
     "name": "stdout",
     "output_type": "stream",
     "text": [
      "While Loop:\t12.82263323100051 segundos\n"
     ]
    }
   ],
   "source": [
    "from timeit import timeit\n",
    "\n",
    "\n",
    "def pure_while(n: int = 100000000) -> int:\n",
    "    i, x = 0, 0\n",
    "    while i < n:\n",
    "        x += i\n",
    "        i += 1\n",
    "    return x\n",
    "\n",
    "\n",
    "print(f\"While Loop:\\t{timeit(pure_while, number=1)} segundos\")"
   ]
  },
  {
   "cell_type": "markdown",
   "metadata": {},
   "source": [
    "#### For Loops\n",
    "\n",
    "Usando `for` loops:"
   ]
  },
  {
   "cell_type": "code",
   "execution_count": 11,
   "metadata": {},
   "outputs": [
    {
     "name": "stdout",
     "output_type": "stream",
     "text": [
      "For Loop:\t8.726445832999161 segundos\n"
     ]
    }
   ],
   "source": [
    "from timeit import timeit\n",
    "\n",
    "\n",
    "def pure_for(n: int = 100000000) -> int:\n",
    "    x = 0\n",
    "    for i in range(n):\n",
    "        x += i\n",
    "    return x\n",
    "\n",
    "\n",
    "print(f\"For Loop:\\t{timeit(pure_for, number=1)} segundos\")"
   ]
  },
  {
   "cell_type": "markdown",
   "metadata": {},
   "source": [
    "como você pode perceber o `for` loop é consideravelmente mais rápido, isso se dá pelo fato das comparações serem executadas em C, a linguagem cujo a qual Python é baseado, enquanto no `while` as comparações são executadas diretamente em Python, que é substencialmente mais lento que C.\n",
    "\n",
    "de todo modo, recomendo que priorize `for` loops ao invés de `while` loops sempre que possivel, e só ultilize `while` quando estritamente necessário."
   ]
  },
  {
   "cell_type": "markdown",
   "metadata": {},
   "source": [
    "### Escopo\n",
    "\n",
    "Escopo é uma caracteristica de muitas linguagens de programação, ele exerce a função de separação do código em niveis, relativos entre si.\n",
    "\n",
    "Por exemplo:\n",
    "\n",
    "```\n",
    "A {\n",
    "    B {\n",
    "        C {\n",
    "\n",
    "        }\n",
    "    }\n",
    "}\n",
    "```\n",
    "\n",
    "Aqui nós temos 4 escopos:\n",
    "- 1. Global\n",
    "- 2. A\n",
    "- 3. B\n",
    "- 4. C\n",
    "\n",
    "O escopo global é o escopo do arquivo, sem delimitações.\n",
    "\n",
    "Quando eu digo que eles são relativos entre si, eu quero dizer que escopos mais acima influenciam escopos abaixo, porém o oposto não ocorre.\n",
    "\n",
    "ou seja, seguindo nosso exemplo, qualquer codigo posto no escopo de A pode entrar nos escopos de B e C, mas os codigos postos em B ou C não conseguem sair para o escopo de A.\n",
    "\n",
    "Em Python nós usamos `:` (dois-pontos) e a indentação (geralmente de 4 espaços, ou 1 tab) para limitar o escopo.\n",
    "\n",
    "### Desestruturação (Packing & Unpacking)\n",
    "\n",
    "A desestruturação em Python consiste em assimilar aos valores de um iterável a variaveis.\n",
    "\n",
    "por exemplo se voce lembra da [aula sobre variaveis](./2-VariaveisPrintInput_Aula1.ipynb#variaveis) certamente lembrará que podemos associar multiplas variaveis a multiplos valores em uma unica linha\n",
    "\n",
    "O que eu não lhe contei naquele momento é que isto é um exemplo de `unpacking`, nós estamos associando os valores de uma [tuple](./3-TipoDados.ipynb#tuples) a variaveis correspondentes, pois se você lembra, parenteses são opcionais, então ao fazermos:\n",
    "\n",
    "```py\n",
    "x, y = 1, 2\n",
    "```\n",
    "\n",
    "estamos fazendo o mesmo que:\n",
    "\n",
    "```py\n",
    "x, y = (1, 2)\n",
    "```\n",
    "\n",
    "ou até mesmo:\n",
    "\n",
    "```py\n",
    "(x, y) = (1, 2)\n",
    "```\n",
    "\n",
    "### Desestruturação em `for` loops\n",
    "\n",
    "a desestruturação em `for` loops consiste em uma variavel de index e uma variavel de valor\n",
    "\n",
    "para isso nós usamos a função `enumerate()`\n",
    "\n",
    "veja um exemplo:"
   ]
  },
  {
   "cell_type": "code",
   "execution_count": null,
   "metadata": {},
   "outputs": [],
   "source": [
    "lista_amigos = [\"amigo1\", \"amigo2\", \"amigo3\"]\n",
    "\n",
    "for index, valor in enumerate(lista_amigos):\n",
    "    print(f\"O {valor} está na posição {index}\")"
   ]
  },
  {
   "cell_type": "markdown",
   "metadata": {},
   "source": [
    "a função `enumerate()` gera uma tuple de 2 valores para cada item do iteravel, um index e o valor propriamente dito\n",
    "\n",
    "### Iteração em dicionários\n",
    "\n",
    "Nós também podemos Iterar sob dicionarios\n",
    "\n",
    "Para Iterar sob as chaves basta usar apenas o dicionário\n"
   ]
  },
  {
   "cell_type": "code",
   "execution_count": null,
   "metadata": {},
   "outputs": [],
   "source": [
    "dicionario_aleatorio = {\n",
    "    \"Chave A\": \"Valor 01\",\n",
    "    \"Chave B\": \"Valor 02\",\n",
    "    \"Chave C\": \"Valor 03\",\n",
    "}\n",
    "\n",
    "for chave in dicionario_aleatorio:\n",
    "    print(chave)"
   ]
  },
  {
   "cell_type": "markdown",
   "metadata": {},
   "source": [
    "Para iterar sobre os valores basta usar `dict.values()`"
   ]
  },
  {
   "cell_type": "code",
   "execution_count": null,
   "metadata": {},
   "outputs": [],
   "source": [
    "dicionario_aleatorio = {\n",
    "    \"Chave A\": \"Valor 01\",\n",
    "    \"Chave B\": \"Valor 02\",\n",
    "    \"Chave C\": \"Valor 03\",\n",
    "}\n",
    "\n",
    "for chave in dicionario_aleatorio.values():\n",
    "    print(chave)"
   ]
  },
  {
   "cell_type": "markdown",
   "metadata": {},
   "source": [
    "Para usar ambos, usamos `dict.item()` e desestruturação"
   ]
  },
  {
   "cell_type": "code",
   "execution_count": null,
   "metadata": {},
   "outputs": [],
   "source": [
    "dicionario_aleatorio = {\n",
    "    \"Chave A\": \"Valor 01\",\n",
    "    \"Chave B\": \"Valor 02\",\n",
    "    \"Chave C\": \"Valor 03\",\n",
    "}\n",
    "\n",
    "for chave, valor in dicionario_aleatorio.items():\n",
    "    print(chave, valor)"
   ]
  },
  {
   "cell_type": "markdown",
   "metadata": {},
   "source": [
    "### `break`, `continue` e `else` em `for` loops\n",
    "\n",
    "`break`, `continue` e `else`, essas keywords tem como objetivo principal alterar o flow de `for` loops\n",
    "\n",
    "o `break` serve para interromper o loop, comumente ultilizamos ele juntamente com um `if` statement"
   ]
  },
  {
   "cell_type": "code",
   "execution_count": null,
   "metadata": {},
   "outputs": [],
   "source": [
    "for i in range(10):\n",
    "    print(i)\n",
    "    if i == 6:\n",
    "        break"
   ]
  },
  {
   "cell_type": "markdown",
   "metadata": {},
   "source": [
    "o `continue` já exerce o oposto, ele dá prosseguimento ao loop "
   ]
  },
  {
   "cell_type": "code",
   "execution_count": null,
   "metadata": {},
   "outputs": [],
   "source": [
    "for i in range(10):\n",
    "    print(i)\n",
    "    if i == 6:\n",
    "        print(\"e vamos continuar\")\n",
    "        continue"
   ]
  },
  {
   "cell_type": "markdown",
   "metadata": {},
   "source": [
    "e o `else` é executado ao final do loop apenas quando ele não é parado por um break"
   ]
  },
  {
   "cell_type": "code",
   "execution_count": null,
   "metadata": {},
   "outputs": [],
   "source": [
    "for i in range(10):\n",
    "    print(i)\n",
    "else:\n",
    "    print(\"não tem breaks então chegamos ao fim\")"
   ]
  },
  {
   "cell_type": "markdown",
   "metadata": {},
   "source": [
    "você pode estar se perguntando, qual a ultilidade do `else` então?\n",
    "\n",
    "vejamos um exemplo:"
   ]
  },
  {
   "cell_type": "code",
   "execution_count": null,
   "metadata": {},
   "outputs": [],
   "source": [
    "# Vamos checar por numeros pares em uma lista\n",
    "\n",
    "print(\"Teste 01\")\n",
    "for i in [1, 3, 5, 7, 9]:\n",
    "    if i % 2 == 0:\n",
    "        print(\"contem um numero par\")\n",
    "        break\n",
    "else:\n",
    "    print(\"não contem um numero par\")\n",
    "\n",
    "print(\"Teste 02\")\n",
    "for i in [1, 3, 4, 7, 9]:\n",
    "    if i % 2 == 0:\n",
    "        print(\"contem um numero par\")\n",
    "        break\n",
    "else:\n",
    "    print(\"não contem um numero par\")"
   ]
  },
  {
   "cell_type": "markdown",
   "metadata": {},
   "source": [
    "### Numeros Primos e FizzBuzz\n",
    "\n",
    "Nós podemos usar `for` loops para acharmos numeros primos"
   ]
  },
  {
   "cell_type": "code",
   "execution_count": null,
   "metadata": {},
   "outputs": [],
   "source": [
    "x = 12\n",
    "y = 11\n",
    "for i in range(2, x):\n",
    "    if x % i == 0:\n",
    "        print(f\"{x} não é primo\")\n",
    "        break\n",
    "else:\n",
    "    print(f\"{x} é primo\")\n",
    "\n",
    "for i in range(2, y):\n",
    "    if y % i == 0:\n",
    "        print(f\"{y} não é primo\")\n",
    "        break\n",
    "else:\n",
    "    print(f\"{y} é primo\")"
   ]
  },
  {
   "cell_type": "markdown",
   "metadata": {},
   "source": [
    "Existe um jogo que se tornou desafio de programação, o nome é FizzBuzz\n",
    "\n",
    "ele consiste no seguinte:\n",
    "- Se um numero for divisivel por 3, diga Fizz\n",
    "- Se um numero for divisivel por 5, diga Buzz\n",
    "- Se um numero for divisivel por 3 e 5, diga FizzBuzz\n",
    "\n",
    "podemos usar `for` loops para isso"
   ]
  },
  {
   "cell_type": "code",
   "execution_count": null,
   "metadata": {},
   "outputs": [],
   "source": [
    "for i in range(1, 21):\n",
    "    if i % 3 == 0:\n",
    "        print(\"Fizz\")\n",
    "    elif i % 5 == 0:\n",
    "        print(\"Buzz\")\n",
    "    elif (\n",
    "        i % 15 == 0\n",
    "    ):  # 3 x 5 = 15, então qualquer numero divisivel por 15 também é divisivel por 3 e 5\n",
    "        print(\"FizzBuzz\")\n",
    "    else:\n",
    "        print(i)"
   ]
  },
  {
   "cell_type": "markdown",
   "metadata": {},
   "source": [
    "### Fatiamento de Listas\n",
    "\n",
    "\"Fatiar\" uma lista consiste em exibir apenas uma parte dela, por exemplo:\n",
    "\n",
    "#### Ordem Natural\n",
    "\n",
    "Temos a lista `A = [1, 5, 4, 2, 3, 7, 0, 8, 6, 9]`, e se nós quisermos exibir apenas os numeros `3, 7, 0`?\n",
    "\n",
    "para isso basta colocarmos o `A[{index inicial}:{index final+1}]`\n"
   ]
  },
  {
   "cell_type": "code",
   "execution_count": null,
   "metadata": {},
   "outputs": [],
   "source": [
    "# Lembre-se, o index incia em 0, então a ordem de elementos é a seguite:\n",
    "#    0, 1, 2, 3, 4, 5, 6, 7, 8, 9\n",
    "A = [1, 5, 4, 2, 3, 7, 0, 8, 6, 9]\n",
    "\n",
    "print(A[4:7])"
   ]
  },
  {
   "cell_type": "markdown",
   "metadata": {},
   "source": [
    "porque `{index final+1}`? pois o valor será onde a lista acabará, e portanto, não se encontrará incluso, então para incluirmos ele, basta adicionar 1 ao index\n",
    "\n",
    "#### Ordem Reversa\n",
    "\n",
    "Suponhamos que você queira cortar a lista de trás a frente, para isso, basta usar os numeros negativos, exemplo:\n"
   ]
  },
  {
   "cell_type": "code",
   "execution_count": null,
   "metadata": {},
   "outputs": [],
   "source": [
    "# Ordem Reversa\n",
    "#   -10, -9, -8, -7, -6, -5, -4, -3, -2, -1\n",
    "A = [1, 5, 4, 2, 3, 7, 0, 8, 6, 9]\n",
    "\n",
    "print(A[-6:-3])"
   ]
  },
  {
   "cell_type": "markdown",
   "metadata": {},
   "source": [
    "### Compreensões (Comprehensions)\n",
    "\n",
    "Compreensões consistem em gerar um novo elemento com base em um tipo de dado composto atráves de `if`s, `else`s e `for` loops, comumente dizemos ser uma geração dinamica.\n",
    "\n",
    "Seguimos o seguinte esquema para as compreensões:\n",
    "\n",
    "- Listas\n",
    "    - Base: `lista_resultado = ['expr_saida' for 'var' in 'iteravel']`\n",
    "    - Condicional: `lista_resultado = ['expr_saida' for 'var' in 'iteravel' if (condição)]`\n",
    "- Sets\n",
    "    - Base: `set_resultado = {'expr_saida' for 'var' in 'iteravel'}`\n",
    "    - Condicional: `set_resultado = {'expr_saida' for 'var' in 'iteravel' if (condição)}`\n",
    "- Dicionários\n",
    "    - Base: `dict_resultado = {'chave':'valor' for '(chave, valor)' in 'iteravel'}`\n",
    "    - Condicional: `dict_resultado = {'chave':'valor' for '(chave, valor)' in 'iteravel' if ('chave' satisfaz condição)}`\n",
    "\n",
    "#### Listas\n",
    "\n",
    "Compreensões de listas consiste em gerar uma nova lista de forma dinamica.\n",
    "\n",
    "Por exemplo, se você quisesse gerar uma lista com numeros dobrados?\n",
    "\n",
    "poderiamos usar `for` loops "
   ]
  },
  {
   "cell_type": "code",
   "execution_count": 7,
   "metadata": {},
   "outputs": [
    {
     "name": "stdout",
     "output_type": "stream",
     "text": [
      "[2, 4, 6, 8, 10, 12, 14, 16, 18, 20]\n"
     ]
    }
   ],
   "source": [
    "lista_dobrada = []\n",
    "for i in range(1, 11):\n",
    "    lista_dobrada.append(i * 2)\n",
    "\n",
    "print(lista_dobrada)"
   ]
  },
  {
   "cell_type": "markdown",
   "metadata": {},
   "source": [
    "Porém podemos fazer o mesmo com compreensão de lista, mostrarei primeiro o exemplo e depois explicarei a sintaxe"
   ]
  },
  {
   "cell_type": "code",
   "execution_count": 6,
   "metadata": {},
   "outputs": [
    {
     "name": "stdout",
     "output_type": "stream",
     "text": [
      "[2, 4, 6, 8, 10, 12, 14, 16, 18, 20]\n"
     ]
    }
   ],
   "source": [
    "lista_dobrada = [i * 2 for i in range(1, 11)]\n",
    "print(lista_dobrada)"
   ]
  },
  {
   "cell_type": "markdown",
   "metadata": {},
   "source": [
    "Basicamente a lógica esta \"ao contrário\", no exemplo com `for` loops  estamos dizendo o seguinte:\n",
    "\n",
    "> _para cada item 'i' entre 1 e 11, multiplique por 2 e adicione a lista 'lista_dobrada'_\n",
    "\n",
    "e no exemplo de compreensão de lista estamos dizendo:\n",
    "\n",
    "> _multiplique 'i' por 2 e adicione a lista 'lista_dobrada' em um raio entre 1 e  11_\n",
    "\n",
    "e tambem tornamos a lógica em uma unica linha, compactando ela, essa prática de tornar o codigo em uma linha se chama _'One Liner'_, além é claro de termos eliminado a necessidade de inicialização de uma lista vazia."
   ]
  },
  {
   "cell_type": "markdown",
   "metadata": {},
   "source": [
    "\n",
    "#### Listas Condicional\n",
    "\n",
    "consiste no mesmo acima, porém com uma condição para a geração da lista\n",
    "\n",
    "Por exemplo, se você quisesse gerar uma lista apenas com numeros pares?\n",
    "\n",
    "poderiamos usar `for` loops e `if`s"
   ]
  },
  {
   "cell_type": "code",
   "execution_count": 8,
   "metadata": {},
   "outputs": [
    {
     "name": "stdout",
     "output_type": "stream",
     "text": [
      "[2, 4, 6, 8, 10]\n"
     ]
    }
   ],
   "source": [
    "lista_de_pares = []\n",
    "for i in range(1, 11):\n",
    "    if i % 2 == 0:\n",
    "        lista_de_pares.append(i)\n",
    "\n",
    "print(lista_de_pares)"
   ]
  },
  {
   "cell_type": "markdown",
   "metadata": {},
   "source": [
    "Porém podemos fazer o mesmo com compreensão de lista, mostrarei primeiro o exemplo e depois explicarei a sintaxe"
   ]
  },
  {
   "cell_type": "code",
   "execution_count": 9,
   "metadata": {},
   "outputs": [
    {
     "name": "stdout",
     "output_type": "stream",
     "text": [
      "[2, 4, 6, 8, 10]\n"
     ]
    }
   ],
   "source": [
    "lista_de_pares = [i for i in range(1, 11) if i % 2 == 0]\n",
    "print(lista_de_pares)"
   ]
  },
  {
   "cell_type": "markdown",
   "metadata": {},
   "source": [
    "Basicamente a lógica esta \"ao contrário\", no exemplo com `for` loops e `if`s estamos dizendo o seguinte:\n",
    "\n",
    "> _para cada item 'i' entre 1 e 11, se o resto da divisão(modulo) por 2 for igual a 0 adicione a lista 'lista_de_pares'_\n",
    "\n",
    "e no exemplo de compreensão de lista estamos dizendo:\n",
    "\n",
    "> _adicione 'i' para a lista 'lista_de_pares' caso o resto da divisão(modulo) por 2 for igual a 0 em um raio entre 1 e  11_"
   ]
  },
  {
   "cell_type": "markdown",
   "metadata": {},
   "source": [
    "#### Sets\n",
    "\n",
    "Basicamente a mesma coisa que as compreensões de lista, a unica diferença é que as compreensões estão entre `{}` e não `[]`"
   ]
  },
  {
   "cell_type": "code",
   "execution_count": 10,
   "metadata": {},
   "outputs": [
    {
     "name": "stdout",
     "output_type": "stream",
     "text": [
      "{2, 4, 6, 8, 10}\n"
     ]
    }
   ],
   "source": [
    "set_de_pares = {i for i in range(1, 11) if i % 2 == 0}\n",
    "print(set_de_pares)"
   ]
  },
  {
   "cell_type": "markdown",
   "metadata": {},
   "source": [
    "#### Dicionários\n",
    "\n",
    "Extendendo a lógica podemos gerar uma compreensão de dicionários.\n",
    "\n",
    "Por exemplo, e se quisessemos gerar um dicionário de cubos impares? Com o numero impar e seu respectivo valor ao cubo.\n",
    "\n",
    "Poderiamos fazer assim:"
   ]
  },
  {
   "cell_type": "code",
   "execution_count": 11,
   "metadata": {},
   "outputs": [
    {
     "name": "stdout",
     "output_type": "stream",
     "text": [
      "{1: 1, 3: 27, 5: 125, 7: 343, 9: 729}\n"
     ]
    }
   ],
   "source": [
    "res_dict = {}\n",
    "\n",
    "for i in range(1, 10):\n",
    "    if i % 2 != 0:\n",
    "        res_dict[i] = i**3\n",
    "\n",
    "print(res_dict)"
   ]
  },
  {
   "cell_type": "markdown",
   "metadata": {},
   "source": [
    "Agora a versão One Liner:"
   ]
  },
  {
   "cell_type": "code",
   "execution_count": 12,
   "metadata": {},
   "outputs": [
    {
     "name": "stdout",
     "output_type": "stream",
     "text": [
      "{1: 1, 3: 27, 5: 125, 7: 343, 9: 729}\n"
     ]
    }
   ],
   "source": [
    "comp_dict = {i: i**3 for i in range(1, 10) if i % 2 != 0}\n",
    "print(comp_dict)"
   ]
  },
  {
   "cell_type": "markdown",
   "metadata": {},
   "source": [
    "### A função `zip()`\n",
    "\n",
    "A função `zip()` junta elementos de multiplos iteráveis em tuples.\n",
    "\n",
    "então podemos usar ela para por exemplo, juntar duas listas em um dicionário"
   ]
  },
  {
   "cell_type": "code",
   "execution_count": 13,
   "metadata": {},
   "outputs": [
    {
     "name": "stdout",
     "output_type": "stream",
     "text": [
      "{1: 'a', 2: 'b', 3: 'c', 4: 'd', 5: 'e'}\n"
     ]
    }
   ],
   "source": [
    "lista_nums = [1, 2, 3, 4, 5]\n",
    "lista_chars = [\"a\", \"b\", \"c\", \"d\", \"e\"]\n",
    "\n",
    "zip_dict = {k: v for (k, v) in zip(lista_nums, lista_chars)}\n",
    "print(zip_dict)"
   ]
  },
  {
   "cell_type": "markdown",
   "metadata": {},
   "source": [
    "A diferença entre a função `zip()` e a função `enumerate()` é que a função `enumerate()` enumera um iterável, enquanto a função `zip()` junta multiplos iteráveis\n",
    "\n",
    "### Funções\n",
    "\n",
    "Funções são uma parte essencial da linguagem, nós viemos usando elas varias vezes até aqui, agora está na hora de aprender a definir (criar) suas próprias funções.\n",
    "\n",
    "> O que são funções?\n",
    "\n",
    "Funções são uma estrutura de código feita pra exercer uma determinada função complexa (vide o nome).\n",
    "\n",
    "A sintaxe de uma função em Python é a seguinte:\n",
    "\n",
    "```python\n",
    "def {nome}():\n",
    "    {corpo da função}\n",
    "```\n",
    "- `def` é a keyword de definição de uma função em Python\n",
    "- `{nome}` é o indentificador da função, usaremos ele para chama-la\n",
    "- `()` os parenteses são EXTRITAMENTE necessários, pois eles exercem a função de chamada\n",
    "- `{corpo da função}` aqui nós colocamos a lógica da função\n",
    "\n",
    "eis aqui um exemplo de função:"
   ]
  },
  {
   "cell_type": "code",
   "execution_count": 1,
   "metadata": {},
   "outputs": [
    {
     "name": "stdout",
     "output_type": "stream",
     "text": [
      "olá, eu sou a função apresentar()\n"
     ]
    }
   ],
   "source": [
    "def apresentar():\n",
    "    print(\"Olá, eu sou a função apresentar()\")\n",
    "\n",
    "\n",
    "apresentar()  # Aqui chamamos a função"
   ]
  },
  {
   "cell_type": "markdown",
   "metadata": {},
   "source": [
    "#### Argumentos e Parametros\n",
    "\n",
    "Na função acima, nós apenas a chamamos, mas e se nós quisessemos que ela mostrasse algum nome?\n",
    "\n",
    "Bom, para isso nós usariamos argumentos e parametros, observe o exemplo: "
   ]
  },
  {
   "cell_type": "code",
   "execution_count": 2,
   "metadata": {},
   "outputs": [
    {
     "name": "stdout",
     "output_type": "stream",
     "text": [
      "Olá meu nome é Mirai\n"
     ]
    }
   ],
   "source": [
    "def apresentar(nome):\n",
    "    print(f\"Olá meu nome é {nome}\")\n",
    "\n",
    "\n",
    "apresentar(\"Mirai\")"
   ]
  },
  {
   "cell_type": "markdown",
   "metadata": {},
   "source": [
    "Nós definimos um argumento e passamos um parametro para esse argumento.\n",
    "\n",
    "Existe uma pequena confusão entre Argumentos e Parametros de uma função, iniciantes tendem a pensar que são a mesma coisa, mas estão enganados.\n",
    "\n",
    "Argumento é o espaço reservado na função (no nosso exemplo seria `nome`) e Parametros são os valores passados a esses argumentos (no nosso exemplo seria `\"Mirai\"`).\n",
    "\n",
    "nós tambem podemos colocar multiplos argumentos, basta separa-los por `,` (virgula) e colocar um numero correspondente de parametros (se nós colocamos 2 argumentos, devemos colocar 2 parametros, etc...)."
   ]
  },
  {
   "cell_type": "code",
   "execution_count": 5,
   "metadata": {},
   "outputs": [
    {
     "name": "stdout",
     "output_type": "stream",
     "text": [
      "Olá meu nome é Mirai e eu tenho 17 anos\n"
     ]
    }
   ],
   "source": [
    "def apresentar(nome, idade):\n",
    "    print(f\"Olá meu nome é {nome} e eu tenho {idade} anos\")\n",
    "\n",
    "\n",
    "apresentar(\"Mirai\", 17)"
   ]
  },
  {
   "cell_type": "markdown",
   "metadata": {},
   "source": [
    "A ordem em que passamos os argumentos deve condizer com os parametros."
   ]
  },
  {
   "cell_type": "markdown",
   "metadata": {},
   "source": [
    "##### Parametros Padrões (Valores Padrões)\n",
    "\n",
    "Parametros padrões (ou valores padrões) são usados quando nenhum outro argumento é passado ao parametro.\n",
    "\n",
    "Eles são definidos ao colocar um `=` (igual) e o valor desejado ao lado do parametro.\n",
    "\n",
    "Veja o exemplo:"
   ]
  },
  {
   "cell_type": "code",
   "execution_count": 3,
   "metadata": {},
   "outputs": [
    {
     "name": "stdout",
     "output_type": "stream",
     "text": [
      "Olá meu nome é Python\n",
      "Olá meu nome é Mirai\n"
     ]
    }
   ],
   "source": [
    "def apresentar(nome=\"Python\"):\n",
    "    print(f\"Olá meu nome é {nome}\")\n",
    "\n",
    "\n",
    "apresentar()  # Nenhum argumento passado\n",
    "apresentar(\"Mirai\")"
   ]
  },
  {
   "cell_type": "markdown",
   "metadata": {},
   "source": [
    "##### Argumentos Chave (Nomeados)\n",
    "\n",
    "Argumentos Chave (ou nomeados) são usados ao chamar uma função, essencialmente, você especifica qual argumento irá usar qual parametro.\n",
    "\n",
    "veja o exemplo:"
   ]
  },
  {
   "cell_type": "code",
   "execution_count": 1,
   "metadata": {},
   "outputs": [
    {
     "name": "stdout",
     "output_type": "stream",
     "text": [
      "Olá meu nome é Mirai e eu tenho 17 anos\n"
     ]
    }
   ],
   "source": [
    "def apresentar(nome, idade):\n",
    "    print(f\"Olá meu nome é {nome} e eu tenho {idade} anos\")\n",
    "\n",
    "\n",
    "apresentar(idade=17, nome=\"Mirai\")"
   ]
  },
  {
   "cell_type": "markdown",
   "metadata": {},
   "source": [
    "essa forma de associação permite que não sigamos a ordem de argumentos na definição da função, e tambem nos permite \"pular\" parametros (esse parametros devem ter valores padrões), veja um outro exemplo:"
   ]
  },
  {
   "cell_type": "code",
   "execution_count": 2,
   "metadata": {},
   "outputs": [
    {
     "name": "stdout",
     "output_type": "stream",
     "text": [
      "Olá meu nome é Mirai e eu tenho 99 anos e moro em casa\n"
     ]
    }
   ],
   "source": [
    "def apresentar(nome=\"cool_name\", idade=99, local=\"place\"):\n",
    "    print(f\"Olá meu nome é {nome} e eu tenho {idade} anos e moro em {local}\")\n",
    "\n",
    "\n",
    "apresentar(\"Mirai\", local=\"casa\")"
   ]
  },
  {
   "cell_type": "markdown",
   "metadata": {},
   "source": [
    "##### `*args`, `**kwargs`, `*` (Keyword Only Arguments) e `/` (Positional Only Arguments)\n",
    "\n",
    "esses são parametros especiais, os `*args` e `**kwargs`  nos permitem ter um numero indeterminado de argumentos.\n",
    "\n",
    "o `*args` nos permite pegar indeterminados parametros passados de forma direta."
   ]
  },
  {
   "cell_type": "code",
   "execution_count": 3,
   "metadata": {},
   "outputs": [
    {
     "name": "stdout",
     "output_type": "stream",
     "text": [
      "ye\n",
      "20\n",
      "3\n",
      "4\n",
      "[5]\n"
     ]
    }
   ],
   "source": [
    "def multi_print(*args):\n",
    "    for i in args:\n",
    "        print(i)\n",
    "\n",
    "\n",
    "multi_print(\"ye\", 20, \"3\", 4, [5])"
   ]
  },
  {
   "cell_type": "markdown",
   "metadata": {},
   "source": [
    "já o `**kwargs` nos permite pegar indeterminados parametros-chave."
   ]
  },
  {
   "cell_type": "code",
   "execution_count": 4,
   "metadata": {},
   "outputs": [
    {
     "name": "stdout",
     "output_type": "stream",
     "text": [
      "a, yee\n",
      "b, bbb\n",
      "c, cccc\n"
     ]
    }
   ],
   "source": [
    "def multi_key_print(**kwargs):\n",
    "    for k, v in kwargs.items():\n",
    "        print(\"%s, %s\" % (k, v))\n",
    "\n",
    "\n",
    "multi_key_print(a=\"yee\", b=\"bbb\", c=\"cccc\")"
   ]
  },
  {
   "cell_type": "markdown",
   "metadata": {},
   "source": [
    "Nós também podemos usar os dois juntos, pois eles são independentes entre si, a unica convenção é que definimos `*args` primeiro e depois `**kwargs`."
   ]
  },
  {
   "cell_type": "code",
   "execution_count": 5,
   "metadata": {},
   "outputs": [
    {
     "name": "stdout",
     "output_type": "stream",
     "text": [
      "valores: ('ye', 20, '3', 4, [5])\n",
      "valores com chave: {'a': 'yee', 'b': 'bbb', 'c': 'cccc'}\n"
     ]
    }
   ],
   "source": [
    "def funcao_legal(*args, **kwargs):\n",
    "    print(f\"valores: {args}\")\n",
    "    print(f\"valores com chave: {kwargs}\")\n",
    "\n",
    "\n",
    "funcao_legal(\"ye\", 20, \"3\", 4, [5], a=\"yee\", b=\"bbb\", c=\"cccc\")"
   ]
  },
  {
   "cell_type": "markdown",
   "metadata": {},
   "source": [
    "O `/` (Positional Only Arguments) nos limita a ter apenas valores posicionais, isto é, aqueles que não são parametros-chave."
   ]
  },
  {
   "cell_type": "code",
   "execution_count": 20,
   "metadata": {},
   "outputs": [
    {
     "name": "stdout",
     "output_type": "stream",
     "text": [
      "parametro_1: Valor 1\n",
      "parametro_2: Valor 2\n",
      "parametro_3: Valor 3\n"
     ]
    }
   ],
   "source": [
    "def funcao_posicional(parametro_1, parametro_2, parametro_3, /):\n",
    "    print(f\"parametro_1: {parametro_1}\")\n",
    "    print(f\"parametro_2: {parametro_2}\")\n",
    "    print(f\"parametro_3: {parametro_3}\")\n",
    "\n",
    "\n",
    "funcao_posicional(\"Valor 1\", \"Valor 2\", \"Valor 3\")"
   ]
  },
  {
   "cell_type": "markdown",
   "metadata": {},
   "source": [
    "se nós tentarmos associar algum parametro antes do separador `/` usando parametro-chave, teremos um erro, pois este separador especifica que todos os parametros antes dele devem ser posicionais."
   ]
  },
  {
   "cell_type": "code",
   "execution_count": 21,
   "metadata": {},
   "outputs": [
    {
     "ename": "SyntaxError",
     "evalue": "positional argument follows keyword argument (3434933860.py, line 6)",
     "output_type": "error",
     "traceback": [
      "\u001b[0;36m  Input \u001b[0;32mIn [21]\u001b[0;36m\u001b[0m\n\u001b[0;31m    funcao_posicional(parametro_1='Valor 1', 'Valor 2', 'Valor 3') # Retornará um erro\u001b[0m\n\u001b[0m                                                                 ^\u001b[0m\n\u001b[0;31mSyntaxError\u001b[0m\u001b[0;31m:\u001b[0m positional argument follows keyword argument\n"
     ]
    }
   ],
   "source": [
    "def funcao_posicional(parametro_1, parametro_2, parametro_3, /):\n",
    "    print(f\"parametro_1: {parametro_1}\")\n",
    "    print(f\"parametro_2: {parametro_2}\")\n",
    "    print(f\"parametro_3: {parametro_3}\")\n",
    "\n",
    "funcao_posicional(parametro_1='Valor 1', 'Valor 2', 'Valor 3') # Retornará um erro"
   ]
  },
  {
   "cell_type": "markdown",
   "metadata": {},
   "source": [
    "O `*` (Keyword Only Arguments) especifica que todos os argumentos após ele devem ser parametro-chave.\n",
    "\n",
    "ele não pode ser o primeiro parametro, então devemos ter um primeiro parametro obrigatório."
   ]
  },
  {
   "cell_type": "code",
   "execution_count": 27,
   "metadata": {},
   "outputs": [
    {
     "name": "stdout",
     "output_type": "stream",
     "text": [
      "parametro_obrigatorio: valor obrigatorio\n",
      "parametro_1: Valor 1\n",
      "parametro_2: Valor 2\n",
      "parametro_3: Valor 3\n"
     ]
    }
   ],
   "source": [
    "def funcao_parametro_chave(\n",
    "    parametro_obrigatorio, *, parametro_1=\"\", parametro_2=\"\", parametro_3=\"\"\n",
    "):\n",
    "    print(f\"parametro_obrigatorio: {parametro_obrigatorio}\")\n",
    "    print(f\"parametro_1: {parametro_1}\")\n",
    "    print(f\"parametro_2: {parametro_2}\")\n",
    "    print(f\"parametro_3: {parametro_3}\")\n",
    "\n",
    "\n",
    "funcao_parametro_chave(\n",
    "    \"valor obrigatorio\",\n",
    "    parametro_1=\"Valor 1\",\n",
    "    parametro_2=\"Valor 2\",\n",
    "    parametro_3=\"Valor 3\",\n",
    ")"
   ]
  },
  {
   "cell_type": "markdown",
   "metadata": {},
   "source": [
    "se tentarmos passar apenas argumentos posicionais, teremos um erro"
   ]
  },
  {
   "cell_type": "code",
   "execution_count": 28,
   "metadata": {},
   "outputs": [
    {
     "ename": "TypeError",
     "evalue": "funcao_parametro_chave() takes 1 positional argument but 4 were given",
     "output_type": "error",
     "traceback": [
      "\u001b[0;31m---------------------------------------------------------------------------\u001b[0m",
      "\u001b[0;31mTypeError\u001b[0m                                 Traceback (most recent call last)",
      "\u001b[1;32m/media/Arquivos/Programming/Lessions/PythonLessions/Classes/3-Fundamentos_Python-II.ipynb Cell 94\u001b[0m in \u001b[0;36m<cell line: 7>\u001b[0;34m()\u001b[0m\n\u001b[1;32m      <a href='vscode-notebook-cell:/media/Arquivos/Programming/Lessions/PythonLessions/Classes/3-Fundamentos_Python-II.ipynb#Y321sZmlsZQ%3D%3D?line=3'>4</a>\u001b[0m     \u001b[39mprint\u001b[39m(\u001b[39mf\u001b[39m\u001b[39m\"\u001b[39m\u001b[39mparametro_2: \u001b[39m\u001b[39m{\u001b[39;00mparametro_2\u001b[39m}\u001b[39;00m\u001b[39m\"\u001b[39m)\n\u001b[1;32m      <a href='vscode-notebook-cell:/media/Arquivos/Programming/Lessions/PythonLessions/Classes/3-Fundamentos_Python-II.ipynb#Y321sZmlsZQ%3D%3D?line=4'>5</a>\u001b[0m     \u001b[39mprint\u001b[39m(\u001b[39mf\u001b[39m\u001b[39m\"\u001b[39m\u001b[39mparametro_3: \u001b[39m\u001b[39m{\u001b[39;00mparametro_3\u001b[39m}\u001b[39;00m\u001b[39m\"\u001b[39m)\n\u001b[0;32m----> <a href='vscode-notebook-cell:/media/Arquivos/Programming/Lessions/PythonLessions/Classes/3-Fundamentos_Python-II.ipynb#Y321sZmlsZQ%3D%3D?line=6'>7</a>\u001b[0m funcao_parametro_chave(\u001b[39m'\u001b[39;49m\u001b[39mvalor obrigatorio\u001b[39;49m\u001b[39m'\u001b[39;49m, \u001b[39m'\u001b[39;49m\u001b[39mValor 1\u001b[39;49m\u001b[39m'\u001b[39;49m, \u001b[39m'\u001b[39;49m\u001b[39mValor 2\u001b[39;49m\u001b[39m'\u001b[39;49m, \u001b[39m'\u001b[39;49m\u001b[39mValor 3\u001b[39;49m\u001b[39m'\u001b[39;49m)\n",
      "\u001b[0;31mTypeError\u001b[0m: funcao_parametro_chave() takes 1 positional argument but 4 were given"
     ]
    }
   ],
   "source": [
    "def funcao_parametro_chave(\n",
    "    parametro_obrigatorio, *, parametro_1=\"\", parametro_2=\"\", parametro_3=\"\"\n",
    "):\n",
    "    print(f\"parametro_obrigatorio: {parametro_obrigatorio}\")\n",
    "    print(f\"parametro_1: {parametro_1}\")\n",
    "    print(f\"parametro_2: {parametro_2}\")\n",
    "    print(f\"parametro_3: {parametro_3}\")\n",
    "\n",
    "\n",
    "funcao_parametro_chave(\n",
    "    \"valor obrigatorio\", \"Valor 1\", \"Valor 2\", \"Valor 3\"\n",
    ")  # Retornará um erro"
   ]
  },
  {
   "cell_type": "markdown",
   "metadata": {},
   "source": [
    "Se existe uma precedencia, argumentos posicionais devem sempre vir antes de argumentos parametro-chave, caso contrário resultará em um erro, por isso definimos `*args, **kwargs` e não `**kwargs, *args`.\n",
    "\n",
    "Com relação a performance, os argumentos posicionais são relativamente mais rapidos"
   ]
  },
  {
   "cell_type": "code",
   "execution_count": 41,
   "metadata": {},
   "outputs": [
    {
     "name": "stdout",
     "output_type": "stream",
     "text": [
      "Apenas Posicionais:\t\t0.00000229 segundos\n",
      "Apenas Parametros-Chave:\t0.00000446 segundos\n"
     ]
    }
   ],
   "source": [
    "from timeit import timeit\n",
    "\n",
    "\n",
    "def func_test(a, b, c):\n",
    "    pass\n",
    "\n",
    "\n",
    "print(\n",
    "    f'Apenas Posicionais:\\t\\t{timeit(\"func_test(1, 2, 3)\", number=10, globals={\"func_test\":func_test}):.8f} segundos'\n",
    ")\n",
    "print(\n",
    "    f'Apenas Parametros-Chave:\\t{timeit(\"func_test(a=1, b=2, c=3)\", number=10, globals={\"func_test\":func_test}):.8f} segundos'\n",
    ")"
   ]
  },
  {
   "cell_type": "markdown",
   "metadata": {},
   "source": [
    "#### DocStrings\n",
    "\n",
    "Documentation Strings (Strings de Documentação), comumente abreviadas para DocStrings são strings especiais feitas para associar documentação ao codigo.\n",
    "\n",
    "ela é usada em diversos locais, desde funções, classes e até em projetos.\n",
    "\n",
    "sua declaração é simples, o local que ela é declarada é que a diferencia, para fazer uma DocString basta por uma multi-line string abaixo da declaração de funções ou classes.\n",
    "\n",
    "nós podemos acessa-la através do metodo especial `__doc__`"
   ]
  },
  {
   "cell_type": "code",
   "execution_count": 6,
   "metadata": {},
   "outputs": [
    {
     "name": "stdout",
     "output_type": "stream",
     "text": [
      "valores: ('ye', 20, '3', 4, [5])\n",
      "valores com chave: {'a': 'yee', 'b': 'bbb', 'c': 'cccc'}\n",
      "Função legal que mostra valores legais\n"
     ]
    }
   ],
   "source": [
    "def funcao_legal(*args, **kwargs):\n",
    "    \"\"\"Função legal que mostra valores legais\"\"\"\n",
    "    print(f\"valores: {args}\")\n",
    "    print(f\"valores com chave: {kwargs}\")\n",
    "\n",
    "\n",
    "funcao_legal(\"ye\", 20, \"3\", 4, [5], a=\"yee\", b=\"bbb\", c=\"cccc\")\n",
    "print(funcao_legal.__doc__)"
   ]
  },
  {
   "cell_type": "markdown",
   "metadata": {},
   "source": [
    "Em projetos, se é recomendado uma DocString no topo do projeto (se for o caso, abaixo do SheBang) descrevendo o propósito daquele arquivo/programa.\n",
    "\n",
    "Eis aqui um exemplo que eu fiz quando estava aprendendo Python."
   ]
  },
  {
   "cell_type": "code",
   "execution_count": null,
   "metadata": {},
   "outputs": [],
   "source": [
    "\"\"\"Apenas um arquivo que faz Nodes aleatorios e organiza eles em uma arvore binária.\n",
    "Temporiza, conta quantas vezes fez e salva tudo para um arquivo.\"\"\"\n",
    "\n",
    "# {codigo}..."
   ]
  },
  {
   "cell_type": "markdown",
   "metadata": {},
   "source": [
    "#### `return`\n",
    "\n",
    "a keyword `return` serve para retornar um valor de dentro da função e terminar a função.\n",
    "\n",
    "ao retornar um valor, nós podemos associa-lo a uma variavel."
   ]
  },
  {
   "cell_type": "code",
   "execution_count": 8,
   "metadata": {},
   "outputs": [
    {
     "name": "stdout",
     "output_type": "stream",
     "text": [
      "Olá meu nome é Mirai e eu tenho 99 anos e moro em casa\n"
     ]
    }
   ],
   "source": [
    "def apresentar(nome=\"cool_name\", idade=99, local=\"place\"):\n",
    "    return f\"Olá meu nome é {nome} e eu tenho {idade} anos e moro em {local}\"\n",
    "\n",
    "\n",
    "texto = apresentar(\"Mirai\", local=\"casa\")\n",
    "print(texto)"
   ]
  },
  {
   "cell_type": "markdown",
   "metadata": {},
   "source": [
    "#### Funções lambda\n",
    "\n",
    "as funções lambda são funções em uma linha e também nos possibilitam fazer funções anonimas.\n",
    "\n",
    "de acordo com [documentação do Python](https://docs.python.org/3/faq/design.html#why-can-t-lambda-expressions-contain-statements) (Tradução livre)\n",
    "\n",
    "> Ao contrário das formas de lambdas em outras linguagens, onde elas adicionam funcionalidade, as lambdas de Python são apenas uma notação simplificada se você for preguiçoso demais pra definir uma função.\n",
    "\n",
    "sua sintaxe é:\n",
    "\n",
    "```python\n",
    "lambda {argumentos} : {expressão}\n",
    "```\n",
    "\n",
    "escreverei uma função usando `def` e a mesma função usando `lambda` para demonstrar."
   ]
  },
  {
   "cell_type": "code",
   "execution_count": 10,
   "metadata": {},
   "outputs": [
    {
     "name": "stdout",
     "output_type": "stream",
     "text": [
      "7\n",
      "11\n"
     ]
    }
   ],
   "source": [
    "def add_num(x, y):\n",
    "    return x + y\n",
    "\n",
    "\n",
    "print(add_num(3, 4))\n",
    "\n",
    "add_num_ = lambda x, y: x + y\n",
    "print(add_num_(5, 6))"
   ]
  },
  {
   "cell_type": "markdown",
   "metadata": {},
   "source": [
    "Funções anonimas são funções que não tem um indentificado ou um nome, são comumente executadas em sua declaração.\n",
    "\n",
    "veja a função anterior, porém anonima"
   ]
  },
  {
   "cell_type": "code",
   "execution_count": 11,
   "metadata": {},
   "outputs": [
    {
     "name": "stdout",
     "output_type": "stream",
     "text": [
      "5\n"
     ]
    }
   ],
   "source": [
    "print((lambda x, y: x + y)(2, 3))"
   ]
  },
  {
   "cell_type": "markdown",
   "metadata": {},
   "source": [
    "Eu sei que os exemplos aqui são bobos, mas em situações mais complexas, elas se fazem necessárias, tendo em vista que elas podem ir além do que simples operadores aritméticos."
   ]
  },
  {
   "cell_type": "markdown",
   "metadata": {},
   "source": [
    "#### Funções de Primeira Classe e Alta Ordem em Python\n",
    "\n",
    "Esses conceitos são referentes a programação funcional, essencialmente ambos se referem a tratar funções como valores.\n",
    "\n",
    "##### Funções de Primeira Classe\n",
    "\n",
    "Toda função em Python é uma função de primeira classe. Isso significa que nós podemos tratar qualquer função como se fosse uma variavel, ou seja, podemos reassociar e passar como argumento."
   ]
  },
  {
   "cell_type": "code",
   "execution_count": 2,
   "metadata": {},
   "outputs": [
    {
     "name": "stdout",
     "output_type": "stream",
     "text": [
      "Ola Mirai\n"
     ]
    }
   ],
   "source": [
    "def greeting(nome):\n",
    "    return f\"Ola {nome}\"\n",
    "\n",
    "\n",
    "gratificar = greeting\n",
    "print(gratificar(\"Mirai\"))"
   ]
  },
  {
   "cell_type": "markdown",
   "metadata": {},
   "source": [
    "No exemplo acima nós associamos a uma variavel e passamos como argumento para a função `print()`\n",
    "\n",
    "Nós também podemos escrever uma função que recebe um argumento e passa-lo através de outra função, veja o exemplo:"
   ]
  },
  {
   "cell_type": "code",
   "execution_count": 3,
   "metadata": {},
   "outputs": [
    {
     "name": "stdout",
     "output_type": "stream",
     "text": [
      "OLA MIRAI\n"
     ]
    }
   ],
   "source": [
    "def func_sup(func, name):  # Tem o mesmo parametro\n",
    "    resp = func(\n",
    "        name\n",
    "    )  # Passamos o argumento provido para a função passada como argumento\n",
    "    up_name = resp.upper()\n",
    "    return up_name\n",
    "\n",
    "\n",
    "def hello_name(nome):  # Tem o parametro 'nome'\n",
    "    return f\"Ola {nome}\"\n",
    "\n",
    "\n",
    "print(\n",
    "    func_sup(hello_name, \"Mirai\")\n",
    ")  # Passamos a função hello_name e o argumento \"Mirai\""
   ]
  },
  {
   "cell_type": "markdown",
   "metadata": {},
   "source": [
    "##### Funções de Alta Ordem\n",
    "\n",
    "As funções de alta ordem são bem parecidas com as de primeira classe, todavia, elas tem a especificidade de retornar uma função.\n",
    "\n",
    " veja o exemplo:"
   ]
  },
  {
   "cell_type": "code",
   "execution_count": 7,
   "metadata": {},
   "outputs": [
    {
     "name": "stdout",
     "output_type": "stream",
     "text": [
      "OLA MIRAI\n"
     ]
    }
   ],
   "source": [
    "def uppr_func(func):\n",
    "    def intrn_func(name):\n",
    "        answ = func(name)\n",
    "        return answ.upper()\n",
    "\n",
    "    return intrn_func  # retornamos a função interna 'intrn_func'\n",
    "\n",
    "\n",
    "def h_name(name):\n",
    "    return f\"Ola {name}\"\n",
    "\n",
    "\n",
    "print(uppr_func(h_name)(\"Mirai\"))"
   ]
  },
  {
   "cell_type": "markdown",
   "metadata": {},
   "source": [
    "nós podemos usar funções lambda para termos funções de alta ordem, veja o exemplo:"
   ]
  },
  {
   "cell_type": "code",
   "execution_count": 10,
   "metadata": {},
   "outputs": [
    {
     "name": "stdout",
     "output_type": "stream",
     "text": [
      "6\n"
     ]
    }
   ],
   "source": [
    "func_alta_ord = lambda x, func: x + func(x)\n",
    "print(func_alta_ord(2, lambda x: x**2))"
   ]
  },
  {
   "cell_type": "markdown",
   "metadata": {},
   "source": [
    "para facilitar o entendimento eu irie formatar essas duas linhas (substitiuindo valores) de uma forma a representar a logica.\n",
    "\n",
    "\n",
    "- 1. ```py\n",
    "        func_alta_ord = lambda x, func: x + func(x)\n",
    "        print(func_alta_ord(2, lambda y: y ** 2))\n",
    "     ```\n",
    "- 2. ```py\n",
    "        func_alta_ord = lambda x, func: x + func(x)\n",
    "        func_alta_ord = lambda x,\n",
    "                        lambda y: y ** 2:\n",
    "                                        x + func(x)\n",
    "     ```\n",
    "- 3. ```py\n",
    "        func_alta_ord = lambda x:\n",
    "                                x + lambda x: x ** 2\n",
    "     ```\n",
    "- 4. ```py    \n",
    "        print(func_alta_ord(2, lambda y: y ** 2))\n",
    "\n",
    "        func_alta_ord = lambda x:\n",
    "                                2 + lambda x: 2 ** 2\n",
    "     ```"
   ]
  },
  {
   "cell_type": "markdown",
   "metadata": {},
   "source": [
    "#### `global` e `nonlocal`\n",
    "\n",
    "Essas keywords são referentes ao escopo, a `global` é usada quando queremos transformar uma variavel local em global, e a `nonlocal` serve para usar variaveis de escopos superiores quando temos funções aglomeradas (nested functions)\n",
    "\n",
    "#### `global`\n",
    "\n",
    "Veja um exemplo:"
   ]
  },
  {
   "cell_type": "code",
   "execution_count": 12,
   "metadata": {},
   "outputs": [
    {
     "name": "stdout",
     "output_type": "stream",
     "text": [
      "Escopo Global\n",
      "Escopo Local\n",
      "Escopo Global\n",
      "Alteramos a variavel global\n"
     ]
    }
   ],
   "source": [
    "x = \"Escopo Global\"\n",
    "\n",
    "\n",
    "def func_legal_var_local():\n",
    "    x = \"Escopo Local\"\n",
    "    print(x)\n",
    "\n",
    "\n",
    "def func_legal_var_global():\n",
    "    global x\n",
    "    print(x)\n",
    "\n",
    "\n",
    "def alterar_global():\n",
    "    global x\n",
    "    x = \"Alteramos a variavel global\"\n",
    "\n",
    "\n",
    "print(x)  # Escopo Global\n",
    "func_legal_var_local()  # Escopo Local\n",
    "func_legal_var_global()  # Escopo Global\n",
    "alterar_global()\n",
    "print(x)  # Alteramos a variavel global"
   ]
  },
  {
   "cell_type": "markdown",
   "metadata": {},
   "source": [
    "#### `nonlocal`\n",
    "\n",
    "Veja um exemplo:"
   ]
  },
  {
   "cell_type": "code",
   "execution_count": 14,
   "metadata": {},
   "outputs": [
    {
     "name": "stdout",
     "output_type": "stream",
     "text": [
      "Func externa 1\n",
      "Func interna 1\n",
      "Func externa 2\n",
      "Func externa 2\n",
      "Func externa 2\n",
      "Alteramos a variavel da Func Externa 3\n"
     ]
    }
   ],
   "source": [
    "def func_extern1():\n",
    "    x = \"Func externa 1\"\n",
    "\n",
    "    def func_intern1():\n",
    "        x = \"Func interna 1\"\n",
    "        print(x)\n",
    "\n",
    "    print(x)\n",
    "    func_intern1()\n",
    "\n",
    "\n",
    "def func_extern2():\n",
    "    x = \"Func externa 2\"\n",
    "\n",
    "    def func_intern2():\n",
    "        nonlocal x\n",
    "        print(x)\n",
    "\n",
    "    print(x)\n",
    "    func_intern2()\n",
    "\n",
    "\n",
    "def func_extern3():\n",
    "    x = \"Func externa 2\"\n",
    "\n",
    "    def func_intern3():\n",
    "        nonlocal x\n",
    "        x = \"Alteramos a variavel da Func Externa 3\"\n",
    "        print(x)\n",
    "\n",
    "    print(x)\n",
    "    func_intern3()\n",
    "\n",
    "\n",
    "func_extern1()\n",
    "func_extern2()\n",
    "func_extern3()"
   ]
  },
  {
   "cell_type": "markdown",
   "metadata": {},
   "source": [
    "#### Sombra de variaveis (Variable Shadowing)\n",
    "\n",
    "*Variable Shadowing* ocorre quando uma variavel de um escopo interno tem o mesmo nome que uma variavel de um escopo externo, isso pode levar a erros e a comportamentos não esperados no código então deve ser evitado. O recomendado é declarar variaveis internas com outros nomes, ou melhor ainda, não usar variaveis globais."
   ]
  },
  {
   "cell_type": "code",
   "execution_count": 4,
   "metadata": {},
   "outputs": [
    {
     "name": "stdout",
     "output_type": "stream",
     "text": [
      "interna: 2\n",
      "interna não associada: 1\n",
      "externa: 1\n",
      "global: 0\n"
     ]
    }
   ],
   "source": [
    "x = 0\n",
    "\n",
    "\n",
    "def externa():\n",
    "    x = 1\n",
    "\n",
    "    def interna():\n",
    "        x = 2\n",
    "        print(\"interna:\", x)\n",
    "\n",
    "    def interna_nao_associada():\n",
    "        print(\"interna não associada:\", x)\n",
    "\n",
    "    interna()\n",
    "    interna_nao_associada()\n",
    "    print(\"externa:\", x)\n",
    "\n",
    "\n",
    "externa()\n",
    "print(\"global:\", x)"
   ]
  },
  {
   "cell_type": "markdown",
   "metadata": {},
   "source": [
    "perceba que mesmo não especificando a variavel `x` ainda sim temos um resultado, pois a mesma usou a variavel de escopo externo"
   ]
  },
  {
   "cell_type": "markdown",
   "metadata": {},
   "source": [
    "#### Operadores\n",
    "\n",
    "Em Python, operadores são simbolos (ou \"sintaxes\") especiais que informam que uma operação deve ser feita.\n",
    "\n",
    "Nesse tópico eu irei dar uma visão mais detalhada dos operadores, já vimos alguns como os aritméticos e os lógicos (apenas as keywords), eis aqui uma lista com os grupos de operadores:\n",
    "\n",
    "- Aritméticos (irei mostrar o ultimo)\n",
    "- Lógicos (irei mostrar o ultimo)\n",
    "- Comparativos\n",
    "- Bitwise\n",
    "- Associativos\n",
    "- Identidade\n",
    "- Membros\n",
    "\n",
    "##### Aritméticos\n",
    "\n",
    "Resta apenas vermos o multiplicador de matrizes (`@`), para esse operador devemos usar um módulo conhecido como `NumPy`, você verá mais sobre ele no futuro.\n",
    "\n",
    "Esse operador multiplica os indices de duas matrizes entre si."
   ]
  },
  {
   "cell_type": "code",
   "execution_count": 42,
   "metadata": {},
   "outputs": [
    {
     "name": "stdout",
     "output_type": "stream",
     "text": [
      "[[19 22]\n",
      " [43 50]]\n"
     ]
    }
   ],
   "source": [
    "from numpy import array\n",
    "\n",
    "matriz_1 = [[1, 2], [3, 4]]\n",
    "\n",
    "matriz_2 = [[5, 6], [7, 8]]\n",
    "\n",
    "produto_das_matrizes = array(matriz_1) @ array(matriz_2)\n",
    "\n",
    "print(produto_das_matrizes)"
   ]
  },
  {
   "cell_type": "markdown",
   "metadata": {},
   "source": [
    "ele é o equivalente ao seguinte codigo em Python:"
   ]
  },
  {
   "cell_type": "code",
   "execution_count": 43,
   "metadata": {},
   "outputs": [
    {
     "name": "stdout",
     "output_type": "stream",
     "text": [
      "[[19, 22], [43, 50]]\n"
     ]
    }
   ],
   "source": [
    "A = [[1, 2], [3, 4]]\n",
    "\n",
    "\n",
    "B = [[5, 6], [7, 8]]\n",
    "\n",
    "N, M, P = len(A), len(A[0]), len(B[0])\n",
    "\n",
    "result = []\n",
    "for i in range(N):\n",
    "    row = [0] * P\n",
    "    result.append(row)\n",
    "\n",
    "for i in range(N):\n",
    "    for j in range(P):\n",
    "        for k in range(M):\n",
    "            result[i][j] += A[i][k] * B[k][j]\n",
    "\n",
    "print(result)"
   ]
  },
  {
   "cell_type": "markdown",
   "metadata": {},
   "source": [
    "##### Lógicos\n",
    "\n",
    "Nós já vimos as funções de 3 dos 4 operadores lógicos (_sim eu omiti um operador no momento pois eu ainda não havia explicado conceitos necessários para seu entendimento_) eu estou falando do \"Operador Ternário\" (tambem chamado de operador condicional).\n",
    "\n",
    "ele é essencialmente um `if` porém em uma linha, sua sintaxe é:\n",
    "\n",
    "```\n",
    "{se verdadeiro} if {expressão} else {se falso}\n",
    "```\n",
    "\n",
    "ele é chamado de ternário pois tem 3 partes ao invés de 2 como a maioria dos outros operadores.\n",
    "\n",
    "veja um exemplo:"
   ]
  },
  {
   "cell_type": "code",
   "execution_count": 15,
   "metadata": {},
   "outputs": [
    {
     "name": "stdout",
     "output_type": "stream",
     "text": [
      "C: 1\tD: 2\n"
     ]
    }
   ],
   "source": [
    "a, b = 1, 2\n",
    "\n",
    "c = a if a < b else b  # c = a\n",
    "d = a if a > b else b  # d = b\n",
    "\n",
    "print(\"C: %d\\tD: %d\" % (c, d))"
   ]
  },
  {
   "cell_type": "markdown",
   "metadata": {},
   "source": [
    "##### Comparativos\n",
    "\n",
    "os comparativos são bastante usados nas estruturas de controle de flow, eles são os seguintes:\n",
    "\n",
    "- maior que `>`\n",
    "- menor que `<`\n",
    "- é igual `==`\n",
    "- diferente `!=`\n",
    "- maior ou igual a `>=`\n",
    "- menor ou igual a `<=`\n",
    "\n",
    "Seus nomes são auto-explicativos, então irei exemplificar apenas casos complexos.\n",
    "\n",
    "Por exemplo, podemos usar eles para definir um \"raio\" de ação junto com os operadores logicos."
   ]
  },
  {
   "cell_type": "code",
   "execution_count": 16,
   "metadata": {},
   "outputs": [
    {
     "name": "stdout",
     "output_type": "stream",
     "text": [
      "o valor de i é 4\n",
      "o valor de i é 5\n",
      "o valor de i é 6\n"
     ]
    }
   ],
   "source": [
    "for i in range(10):\n",
    "    if i > 3 and i < 7:\n",
    "        print(f\"o valor de i é {i}\")"
   ]
  },
  {
   "cell_type": "markdown",
   "metadata": {},
   "source": [
    "##### Indentidade\n",
    "\n",
    "eles são simples, eles trabalham comparando o id na memória, util quando iniciarmos multi-threading.\n",
    "\n",
    "são apenas 2:\n",
    "- `is`\n",
    "- `is not`\n",
    "\n",
    "veja a diferença entre eles e os operadores comparativos `==` e `!=`:"
   ]
  },
  {
   "cell_type": "code",
   "execution_count": 31,
   "metadata": {},
   "outputs": [
    {
     "name": "stdout",
     "output_type": "stream",
     "text": [
      "A é igual a B ? True\n",
      "A é B ? False\n",
      "A é C ? True\n",
      "A é diferente a B ? False\n",
      "A não é B ? True\n",
      "A não é C ? False\n"
     ]
    }
   ],
   "source": [
    "a = [\"apple\", \"banana\"]\n",
    "b = [\"apple\", \"banana\"]\n",
    "c = a\n",
    "\n",
    "print(f\"A é igual a B ? {a == b}\")\n",
    "print(f\"A é B ? {a is b}\")\n",
    "print(f\"A é C ? {a is c}\")\n",
    "\n",
    "print(f\"A é diferente a B ? {a != b}\")\n",
    "print(f\"A não é B ? {a is not b}\")\n",
    "print(f\"A não é C ? {a is not c}\")"
   ]
  },
  {
   "cell_type": "markdown",
   "metadata": {},
   "source": [
    "A não é B, pois o endereço deles na memoria é diferente, porém seus conteudos são os mesmos então eles são iguais.\n",
    "\n",
    "para exemplificar, mostrarei o id dos objetos:"
   ]
  },
  {
   "cell_type": "code",
   "execution_count": 30,
   "metadata": {},
   "outputs": [
    {
     "name": "stdout",
     "output_type": "stream",
     "text": [
      "ID de A: 0x7faa296d72c0\n",
      "ID de B: 0x7faa295bd000\n",
      "ID de C: 0x7faa296d72c0\n"
     ]
    }
   ],
   "source": [
    "a = [\"apple\", \"banana\"]\n",
    "b = [\"apple\", \"banana\"]\n",
    "c = a\n",
    "\n",
    "print(f\"ID de A: {hex(id(a))}\")\n",
    "print(f\"ID de B: {hex(id(b))}\")\n",
    "print(f\"ID de C: {hex(id(c))}\")"
   ]
  },
  {
   "cell_type": "markdown",
   "metadata": {},
   "source": [
    "Se você observar, os endereço de A e B são diferentes, já os endereços de A e C são identicos.\n",
    "\n",
    "##### Membro\n",
    "\n",
    "esses operadores são um pouco simples, eles apenas chegam se `x` está ou não presente em `y`\n",
    "\n",
    "são 2:\n",
    "\n",
    "- `in`\n",
    "- `not in`\n",
    "\n",
    "eles funcionam em iteráveis.\n",
    "\n",
    "vejam alguns exemplos:"
   ]
  },
  {
   "cell_type": "code",
   "execution_count": 35,
   "metadata": {},
   "outputs": [
    {
     "name": "stdout",
     "output_type": "stream",
     "text": [
      "True\n",
      "True\n"
     ]
    }
   ],
   "source": [
    "print(\"h\" in \"abcdefghijklmnopqrstuvwxyz\")\n",
    "print(12 not in [1, 2, 3, 4, 5, 6, 7, 8, 9, 0])"
   ]
  },
  {
   "cell_type": "markdown",
   "metadata": {},
   "source": [
    "##### Bitwise\n",
    "\n",
    "Esses operadores não são muito ultilizados mas suas aplicações são diversas.\n",
    "\n",
    "Você deve ter uma ideia de como computadores funcionam, certo?\n",
    "\n",
    "De forma muito simplificada, um computador funciona atráves de uma sequencia de 0 e 1 conhecida como código binário (ou codigo de maquina), esses numeros são chamados de 'bits', e são neles que esses operadores funcionam.\n",
    "\n",
    "eis aqui a lista:\n",
    "\n",
    "- `AND (&)`\n",
    "- `OR (|)`\n",
    "- `NOT (~)`\n",
    "- `XOR (^)` (exclusive or)\n",
    "- `RightShift (>>)`\n",
    "- `LeftShift (<<)`\n",
    "\n",
    "antes de irmos aos exemplos eu irei explicar como binário funciona.\n",
    "\n",
    "Se você lembra das aulas de algebra na escola certamente sabe que nós usamos sistemas numéricos para performar nossos calculos, hoje em dia nós usamos a [notação posicional](https://pt.wikipedia.org/wiki/Notação_posicional), onde cada algarismo depende da sua posição relativa na composição do numero e o valor do numero é a soma de cada algarismo que o compõe.\n",
    "\n",
    "Atualmente nós usamos um sistema de base 10, usamos 10 algarismos na composição de nossos numeros e ao avançarmos uma casa significa o mesmo que multiplicar por 10.\n",
    "\n",
    "_1 = 1 x 10⁰, 10 = 1 x 10¹, 100 = 1 x 10²..._ e por ai vai.\n",
    "\n",
    "Os computadores contudo, operam em base 2, ou seja, contém apenas dois algarismos, 0 e 1, ou seja, as casas representam potencias de 2.\n",
    "\n",
    "_1 = 1 x 2⁰, 2 = 1 x 2¹, 4 = 1 x 2²..._ e por ai vai.\n",
    "\n",
    "em notação binária, 1 significa que estamos usando o valor daquela 'casa' e 0 não (da mesma forma que se escrevermos 404, não estamos usando as dezenas)\n",
    "\n",
    "irei dispor de uma tabela com algumas casas e seus valores para facilitar o entendimento.\n",
    "\n",
    "|  2⁷  \t|  2⁶  \t|  2⁵  \t|  2⁴  \t|  2³  \t|  2²  \t|  2¹  \t|  2⁰  \t|      Resultado      \t|\n",
    "|:----:\t|:----:\t|:----:\t|:----:\t|:----:\t|:----:\t|:----:\t|:----:\t|:-------------------:\t|\n",
    "|  128 \t|  64  \t|  32  \t|  16  \t|   8  \t|   4  \t|   2  \t|   1  \t|       Decimal       \t|\n",
    "| ==== \t| ==== \t| ==== \t| ==== \t| ==== \t| ==== \t| ==== \t| ==== \t| =================== \t|\n",
    "|   0  \t|   0  \t|   0  \t|   0  \t|   0  \t|   1  \t|   0  \t|   0  \t|          4          \t|\n",
    "|   0  \t|   0  \t|   1  \t|   0  \t|   1  \t|   0  \t|   0  \t|   0  \t|          40         \t|\n",
    "|   0  \t|   1  \t|   0  \t|   0  \t|   0  \t|   0  \t|   1  \t|   1  \t|          67         \t|\n",
    "|   0  \t|   0  \t|   0  \t|   0  \t|   0  \t|   0  \t|   0  \t|   0  \t|          0          \t|\n",
    "|   1  \t|   1  \t|   1  \t|   1  \t|   1  \t|   1  \t|   1  \t|   1  \t|         255         \t|\n",
    "\n",
    "Os numeros binários crescem da direita para a esquerda, começando pelo _**bit menos significante**_\n",
    "\n",
    "Espero que tenha ficado minimamente claro, e que agora você tenha uma noção básica de binário vamos aos operadores.\n",
    "\n",
    "##### AND\n",
    "\n",
    "o `AND` performa a [conjunção lógica](https://pt.wikipedia.org/wiki/Conjunção_lógica), basicamente ele só retorna 1 se ambos os bits forem 1.\n",
    "\n",
    "![AND_GIF](./images/AND.gif)\n",
    "\n",
    "| Variaveis \t|  2⁷  \t|  2⁶  \t|  2⁵  \t|  2⁴  \t|  2³  \t|  2²  \t|  2¹  \t|  2⁰  \t| Resultado \t|\n",
    "|:---------:\t|:----:\t|:----:\t|:----:\t|:----:\t|:----:\t|:----:\t|:----:\t|:----:\t|:---------:\t|\n",
    "|           \t|  128 \t|  64  \t|  32  \t|  16  \t|   8  \t|   4  \t|   2  \t|   1  \t|  Decimal  \t|\n",
    "|  ======== \t| ==== \t| ==== \t| ==== \t| ==== \t| ==== \t| ==== \t| ==== \t| ==== \t|  ======== \t|\n",
    "|     A     \t|   1  \t|   0  \t|   0  \t|   1  \t|   1  \t|   1  \t|   0  \t|   0  \t|    156    \t|\n",
    "|     B     \t|   0  \t|   0  \t|   1  \t|   1  \t|   0  \t|   1  \t|   0  \t|   0  \t|     52    \t|\n",
    "|   A & B   \t|   0  \t|   0  \t|   0  \t|   1  \t|   0  \t|   1  \t|   0  \t|   0  \t|     20    \t|\n",
    "  \n",
    "para exemplificar, veja este mesmo exemplo em Python:"
   ]
  },
  {
   "cell_type": "code",
   "execution_count": 38,
   "metadata": {},
   "outputs": [
    {
     "name": "stdout",
     "output_type": "stream",
     "text": [
      "A (156) = 0b10011100\n",
      "B (52) = 0b110100\n",
      "A & B (20) = 0b10100\n"
     ]
    }
   ],
   "source": [
    "a = 156\n",
    "b = 52\n",
    "print(f\"A ({a}) = {bin(a)}\")\n",
    "print(f\"B ({b}) = {bin(b)}\")\n",
    "print(f\"A & B ({a & b}) = {bin(a & b)}\")"
   ]
  },
  {
   "cell_type": "markdown",
   "metadata": {},
   "source": [
    "o prefixo `0b` é uma conveção em representação de bases em programação, usamos `0b` para binário, `0x` para hexadecimal e `0o` para octeto\n",
    "\n",
    "##### OR\n",
    "\n",
    "o  `OR` performa a [disjunção lógica](https://pt.wikipedia.org/wiki/Disjunção_lógica), basicamente ele retorna 1 caso um ou todos os bits sejam 1 (ou se preferir, só retorna 0 se ambos forem iguais, essencialmente o oposto do `AND`)\n",
    "\n",
    "![OR](./images/OR.gif)\n",
    "\n",
    "| Variaveis \t|  2⁷  \t|  2⁶  \t|  2⁵  \t|  2⁴  \t|  2³  \t|  2²  \t|  2¹  \t|  2⁰  \t| Resultado \t|\n",
    "|:---------:\t|:----:\t|:----:\t|:----:\t|:----:\t|:----:\t|:----:\t|:----:\t|:----:\t|:---------:\t|\n",
    "|           \t|  128 \t|  64  \t|  32  \t|  16  \t|   8  \t|   4  \t|   2  \t|   1  \t|  Decimal  \t|\n",
    "|  ======== \t| ==== \t| ==== \t| ==== \t| ==== \t| ==== \t| ==== \t| ==== \t| ==== \t|  ======== \t|\n",
    "|     A     \t|   1  \t|   0  \t|   0  \t|   1  \t|   1  \t|   1  \t|   0  \t|   0  \t|    156    \t|\n",
    "|     B     \t|   0  \t|   0  \t|   1  \t|   1  \t|   0  \t|   1  \t|   0  \t|   0  \t|     52    \t|\n",
    "|   A \\| B   \t|   1  \t|   0  \t|   1  \t|   1  \t|   1  \t|   1  \t|   0  \t|   0  \t|    188    \t|\n",
    "  \n",
    "para exemplificar, veja este mesmo exemplo em Python:"
   ]
  },
  {
   "cell_type": "code",
   "execution_count": 39,
   "metadata": {},
   "outputs": [
    {
     "name": "stdout",
     "output_type": "stream",
     "text": [
      "A (156) = 0b10011100\n",
      "B (52) = 0b110100\n",
      "A | B (188) = 0b10111100\n"
     ]
    }
   ],
   "source": [
    "a = 156\n",
    "b = 52\n",
    "print(f\"A ({a}) = {bin(a)}\")\n",
    "print(f\"B ({b}) = {bin(b)}\")\n",
    "print(f\"A | B ({a | b}) = {bin(a | b)}\")"
   ]
  },
  {
   "cell_type": "markdown",
   "metadata": {},
   "source": [
    "##### XOR\n",
    "\n",
    "O `XOR` performa a [Disjunção Exclusiva](https://pt.wikipedia.org/wiki/Ou_exclusivo), essencialmente, ele só retorna 1 se os bits forem opostos.\n",
    "\n",
    "![XOR_GIF](./images/XOR.gif)\n",
    "\n",
    "| Variaveis \t|  2⁷  \t|  2⁶  \t|  2⁵  \t|  2⁴  \t|  2³  \t|  2²  \t|  2¹  \t|  2⁰  \t| Resultado \t|\n",
    "|:---------:\t|:----:\t|:----:\t|:----:\t|:----:\t|:----:\t|:----:\t|:----:\t|:----:\t|:---------:\t|\n",
    "|           \t|  128 \t|  64  \t|  32  \t|  16  \t|   8  \t|   4  \t|   2  \t|   1  \t|  Decimal  \t|\n",
    "|  ======== \t| ==== \t| ==== \t| ==== \t| ==== \t| ==== \t| ==== \t| ==== \t| ==== \t|  ======== \t|\n",
    "|     A     \t|   1  \t|   0  \t|   0  \t|   1  \t|   1  \t|   1  \t|   0  \t|   0  \t|    156    \t|\n",
    "|     B     \t|   0  \t|   0  \t|   1  \t|   1  \t|   0  \t|   1  \t|   0  \t|   0  \t|     52    \t|\n",
    "|   A ^ B   \t|   1  \t|   0  \t|   1  \t|   0  \t|   1  \t|   0  \t|   0  \t|   0  \t|    168    \t|\n",
    "  \n",
    "para exemplificar, veja este mesmo exemplo em Python:"
   ]
  },
  {
   "cell_type": "code",
   "execution_count": 40,
   "metadata": {},
   "outputs": [
    {
     "name": "stdout",
     "output_type": "stream",
     "text": [
      "A (156) = 0b10011100\n",
      "B (52) = 0b110100\n",
      "A ^ B (168) = 0b10101000\n"
     ]
    }
   ],
   "source": [
    "a = 156\n",
    "b = 52\n",
    "print(f\"A ({a}) = {bin(a)}\")\n",
    "print(f\"B ({b}) = {bin(b)}\")\n",
    "print(f\"A ^ B ({a ^ b}) = {bin(a ^ b)}\")"
   ]
  },
  {
   "cell_type": "markdown",
   "metadata": {},
   "source": [
    "##### NOT\n",
    "\n",
    "O `NOT` performa a [Negação Lógica](https://pt.wikipedia.org/wiki/Negação), basiamente, ele inverte os bits, ele recebe só um argumento, tornando ele o unico operador unário.\n",
    "\n",
    "![NOT_GIF](./images/NOT.gif)\n",
    "\n",
    "| Variaveis \t|  2⁷  \t|  2⁶  \t|  2⁵  \t|  2⁴  \t|  2³  \t|  2²  \t|  2¹  \t|  2⁰  \t| Resultado \t|\n",
    "|:---------:\t|:----:\t|:----:\t|:----:\t|:----:\t|:----:\t|:----:\t|:----:\t|:----:\t|:---------:\t|\n",
    "|           \t|  128 \t|  64  \t|  32  \t|  16  \t|   8  \t|   4  \t|   2  \t|   1  \t|  Decimal  \t|\n",
    "|  ======== \t| ==== \t| ==== \t| ==== \t| ==== \t| ==== \t| ==== \t| ==== \t| ==== \t|  ======== \t|\n",
    "|     A     \t|   1  \t|   0  \t|   0  \t|   1  \t|   1  \t|   1  \t|   0  \t|   0  \t|    156    \t|\n",
    "|    ~ A    \t|   0  \t|   1  \t|   1  \t|   0  \t|   0  \t|   0  \t|   1  \t|   1  \t|     99    \t|\n",
    "\n",
    "Esses exemplos levam em conta que você está trabalhando com numeros sem bit de sinal, infelizmente o Python não suporta eles de forma nativa, ou seja, `~156` é o equivalente a `-157` e não a `99` pois o ultimo (o mais a esquerda) bit é o bit de sinal.\n",
    "\n",
    "se quisermos ter 99 como resultado, devemos usar o `AND` junto com o valor maximo das casas para remover esse bit.\n",
    "\n",
    "para exemplificar, veja este mesmo exemplo em Python:"
   ]
  },
  {
   "cell_type": "code",
   "execution_count": 46,
   "metadata": {},
   "outputs": [
    {
     "name": "stdout",
     "output_type": "stream",
     "text": [
      "A (156) = 0b10011100\n",
      "Com Bit de Sinal: A ~ (-157) = -0b10011101\n",
      "Sem Bit de Sinal: A ~ (99) = 0b1100011\n"
     ]
    }
   ],
   "source": [
    "a = 156\n",
    "print(f\"A ({a}) = {bin(a)}\")\n",
    "print(f\"Com Bit de Sinal: A ~ ({~a}) = {bin(~a)}\")\n",
    "print(f\"Sem Bit de Sinal: A ~ ({~a & 255}) = {bin(~a & 255)}\")"
   ]
  },
  {
   "cell_type": "markdown",
   "metadata": {},
   "source": [
    "##### LeftShift\n",
    "\n",
    "o operador de `LeftShift` move/desvia os bits para a esquerda preenchendo o espaço restante com 0.\n",
    "\n",
    "você especifica o numero de casas para desviar a esquerda do operador, e desviar por 1 casa é o equivalente a multiplicar por uma potencia de 2 equivalente ao numero de casas movidas.\n",
    "\n",
    "![LEFT_SHIFT](./images/LEFT_SHIFT.gif)\n",
    "\n",
    "| Variaveis \t|  2⁷  \t|  2⁶  \t|  2⁵  \t|  2⁴  \t|  2³  \t|  2²  \t|  2¹  \t|  2⁰  \t| Resultado \t|\n",
    "|:---------:\t|:----:\t|:----:\t|:----:\t|:----:\t|:----:\t|:----:\t|:----:\t|:----:\t|:---------:\t|\n",
    "|           \t|  128 \t|  64  \t|  32  \t|  16  \t|   8  \t|   4  \t|   2  \t|   1  \t|  Decimal  \t|\n",
    "|  ======== \t| ==== \t| ==== \t| ==== \t| ==== \t| ==== \t| ==== \t| ==== \t| ==== \t|  ======== \t|\n",
    "|     A     \t|   0  \t|   0  \t|   1  \t|   0  \t|   0  \t|   1  \t|   1  \t|   1  \t|     39    \t|\n",
    "|  A << 1    \t|   0  \t|   1  \t|   0  \t|   0  \t|   1  \t|   1  \t|   1  \t|   0  \t|     78    \t|\n",
    "|  A << 2    \t|   1  \t|   0  \t|   0  \t|   1  \t|   1  \t|   1  \t|   0  \t|   0  \t|     156    \t|\n",
    "\n",
    "para exemplificar, veja este mesmo exemplo em Python:"
   ]
  },
  {
   "cell_type": "code",
   "execution_count": 47,
   "metadata": {},
   "outputs": [
    {
     "name": "stdout",
     "output_type": "stream",
     "text": [
      "A (39) = 0b100111\n",
      "A << (78) = 0b1001110\n",
      "A << (156) = 0b10011100\n"
     ]
    }
   ],
   "source": [
    "a = 39\n",
    "print(f\"A ({a}) = {bin(a)}\")\n",
    "print(f\"A << 1 ({a << 1}) = {bin(a << 1)}\")\n",
    "print(f\"A << 2 ({a << 2}) = {bin(a << 2)}\")"
   ]
  },
  {
   "cell_type": "markdown",
   "metadata": {},
   "source": [
    "##### RightShift\n",
    "\n",
    "o operador de `RightShift` move/desvia os bits para a direita preenchendo o espaço restante com 0.\n",
    "\n",
    "você especifica o numero de casas para desviar a esquerda do operador, e desviar por 1 casa é o equivalente a dividir por uma potencia de 2 equivalente ao numero de casas movidas.\n",
    "\n",
    "![RIGHT_SHIFT](./images/RIGHT_SHIFT.gif)\n",
    "\n",
    "| Variaveis \t|  2⁷  \t|  2⁶  \t|  2⁵  \t|  2⁴  \t|  2³  \t|  2²  \t|  2¹  \t|  2⁰  \t| Resultado \t|\n",
    "|:---------:\t|:----:\t|:----:\t|:----:\t|:----:\t|:----:\t|:----:\t|:----:\t|:----:\t|:---------:\t|\n",
    "|           \t|  128 \t|  64  \t|  32  \t|  16  \t|   8  \t|   4  \t|   2  \t|   1  \t|  Decimal  \t|\n",
    "|  ======== \t| ==== \t| ==== \t| ==== \t| ==== \t| ==== \t| ==== \t| ==== \t| ==== \t|  ======== \t|\n",
    "|     A     \t|   1  \t|   0  \t|   0  \t|   1  \t|   1  \t|   1  \t|   0  \t|   0  \t|     156    \t|\n",
    "|  A >> 1    \t|   0  \t|   1  \t|   0  \t|   0  \t|   1  \t|   1  \t|   1  \t|   0  \t|     78    \t|\n",
    "|  A >> 2     \t|   0  \t|   0  \t|   1  \t|   0  \t|   0  \t|   1  \t|   1  \t|   1  \t|     39    \t|\n",
    "|  A >> 3     \t|   0  \t|   0  \t|   0  \t|   1  \t|   0  \t|   0  \t|   1  \t|   1  \t|     19    \t|\n",
    "\n",
    "para exemplificar, veja este mesmo exemplo em Python:"
   ]
  },
  {
   "cell_type": "code",
   "execution_count": 49,
   "metadata": {},
   "outputs": [
    {
     "name": "stdout",
     "output_type": "stream",
     "text": [
      "A (156) = 0b10011100\n",
      "A >> 1 (78) = 0b1001110\n",
      "A >> 2 (39) = 0b100111\n",
      "A >> 3 (19) = 0b10011\n"
     ]
    }
   ],
   "source": [
    "a = 156\n",
    "print(f\"A ({a}) = {bin(a)}\")\n",
    "print(f\"A >> 1 ({a >> 1}) = {bin(a >> 1)}\")\n",
    "print(f\"A >> 2 ({a >> 2}) = {bin(a >> 2)}\")\n",
    "print(f\"A >> 3 ({a >> 3}) = {bin(a >> 3)}\")"
   ]
  },
  {
   "cell_type": "markdown",
   "metadata": {},
   "source": [
    "##### Bitwise Masking\n",
    "\n",
    "Masking consiste em mascarar os bits, para fazer operações especificas nesses bits, um exemplo seriam os Shifts Limitados a uma janela de bits.\n",
    "\n",
    "![BITMASKED_LEFT_SHIFT](./images/BITMASKED_LEFT_SHIFT.gif)\n",
    "![BITMASKED_RIGHT_SHIFT](./images/BITMASKED_RIGHT_SHIFT.gif)\n",
    "\n",
    "você usa o `AND` com o comprimento em bits da janela"
   ]
  },
  {
   "cell_type": "code",
   "execution_count": 58,
   "metadata": {},
   "outputs": [
    {
     "name": "stdout",
     "output_type": "stream",
     "text": [
      "A << 3 (312): 0b100111000\n",
      "(A << 3) & 255 (56): 0b111000\n"
     ]
    }
   ],
   "source": [
    "A = 39\n",
    "print(f\"A << 3 ({A << 3}): {bin(A << 3)}\")\n",
    "print(f\"(A << 3) & 255 ({(A << 3) & 255}): {bin((A << 3) & 255)}\")"
   ]
  },
  {
   "cell_type": "markdown",
   "metadata": {},
   "source": [
    "##### Associativos\n",
    "\n",
    "Os associativos são bem simples, eles funcionam como abreviação dos outros operadores, eles servem para performar uma ação e reassocia a mesma variavel, pois sua ordem de operação é da direita pra esquerda.\n",
    "\n",
    "eles são os seguntes:\n",
    "\n",
    "- Igual `=`\n",
    "- Mais-Igual `+=`\n",
    "- Menos-Igual `-=`\n",
    "- Multiplicação-Igual `*=`\n",
    "- Divisão-Igual `/=`\n",
    "- Modulo-Igual `%=`\n",
    "- Potencia-Igual `**=`\n",
    "- TrueDiv-Igual `//=`\n",
    "- AND-Igual `&=` (Bitwise)\n",
    "- OR-Igual `|=` (Bitwise)\n",
    "- XOR-Igual `^=` (Bitwise)\n",
    "- RightShift-Igual `>>=` (Bitwise)\n",
    "- LeftShift-Igual `<<=` (Bitwise)\n",
    "- Associação de expressão (Walrus Operator) `:=`\n",
    "\n",
    "eu vou explicar apenas 3 operadores, entendendo eles você entende o resto.\n",
    "\n",
    "##### Igual\n",
    "\n",
    "O igual `=`, é o operador associativo em si, é ele quem diz o que é o que."
   ]
  },
  {
   "cell_type": "code",
   "execution_count": 70,
   "metadata": {},
   "outputs": [
    {
     "name": "stdout",
     "output_type": "stream",
     "text": [
      "3 ye True\n"
     ]
    }
   ],
   "source": [
    "x = 3  # x é igual a 3\n",
    "a = \"ye\"  # a é igual a \"ye\"\n",
    "v = True  # v é igual a True\n",
    "\n",
    "print(x, a, v)"
   ]
  },
  {
   "cell_type": "markdown",
   "metadata": {},
   "source": [
    "##### Mais-Igual\n",
    "\n",
    "A lógica usada aqui se aplica aos demais (menos ao Walrus Operator).\n",
    "\n",
    "basicamente o operador Mais-Igual `+=` é a versão reduzida/equivalente a `x = x + y`, você adiciona o valor de forma reassociativa, veja um exemplo:"
   ]
  },
  {
   "cell_type": "code",
   "execution_count": 61,
   "metadata": {},
   "outputs": [
    {
     "name": "stdout",
     "output_type": "stream",
     "text": [
      "9\n",
      "42\n"
     ]
    }
   ],
   "source": [
    "x = 9\n",
    "print(x)\n",
    "x += 33\n",
    "print(x)"
   ]
  },
  {
   "cell_type": "markdown",
   "metadata": {},
   "source": [
    "essencialmente, pegamos o valor inicial de `x`, somamos `33` e reassociamos o resultado a variavel novamente, exemplificando em etapas:\n",
    "\n",
    "- 1. `x = 9`\n",
    "- 2. `x = x + 33`\n",
    "- 3. `x = 9 + 33`\n",
    "- 4. `x = 42`\n",
    "\n",
    "##### Associação de expressão (Walrus Operator)\n",
    "\n",
    "O operador de associação de expressão `:=` (Walrus Operator) foi introduzindo no Python 3.8, seu uso é bastante peculiar.\n",
    "\n",
    "ele permite executarmos e associarmos expressões em uma mesma linha.\n",
    "\n",
    "por exemplo, veja o seguinte codigo:"
   ]
  },
  {
   "cell_type": "code",
   "execution_count": 63,
   "metadata": {},
   "outputs": [
    {
     "data": {
      "text/plain": [
       "6"
      ]
     },
     "execution_count": 63,
     "metadata": {},
     "output_type": "execute_result"
    }
   ],
   "source": [
    "2 + 4  # Uma expressão é executada"
   ]
  },
  {
   "cell_type": "markdown",
   "metadata": {},
   "source": [
    "ao rodarmos o codigo recebemos o numero 6, pois, expressões são codigos que retornam um valor, associações não. Contudo, podemos associar o valor resultante de uma expressão a uma variavel."
   ]
  },
  {
   "cell_type": "code",
   "execution_count": 64,
   "metadata": {},
   "outputs": [],
   "source": [
    "n = (\n",
    "    2 + 5\n",
    ")  # Uma expressão é  de soma executada e tem seu valor associado a uma variavel n"
   ]
  },
  {
   "cell_type": "markdown",
   "metadata": {},
   "source": [
    "para vermos o valor, precisamos acessa-lo através de funções como a `print()`"
   ]
  },
  {
   "cell_type": "code",
   "execution_count": 65,
   "metadata": {},
   "outputs": [
    {
     "name": "stdout",
     "output_type": "stream",
     "text": [
      "7\n"
     ]
    }
   ],
   "source": [
    "n = 2 + 5\n",
    "print(n)"
   ]
  },
  {
   "cell_type": "markdown",
   "metadata": {},
   "source": [
    "se nós tentarmos acessar o valor e executar a expressão ao mesmo erro teremos um erro."
   ]
  },
  {
   "cell_type": "code",
   "execution_count": null,
   "metadata": {},
   "outputs": [],
   "source": [
    "print(n=3 + 8)\n",
    "# TypeError: 'n' is an invalid keyword argument for print()"
   ]
  },
  {
   "cell_type": "markdown",
   "metadata": {},
   "source": [
    "O Walrus Operator nos permite fazer isso."
   ]
  },
  {
   "cell_type": "code",
   "execution_count": 69,
   "metadata": {},
   "outputs": [
    {
     "name": "stdout",
     "output_type": "stream",
     "text": [
      "11\n",
      "11\n"
     ]
    }
   ],
   "source": [
    "print(n := 3 + 8)\n",
    "print(n)"
   ]
  },
  {
   "cell_type": "markdown",
   "metadata": {},
   "source": [
    "Ele nos permite acessar o valor enquanto ele esta sendo associado, e mais a frente podemos acessar a variavel contendo o valor.\n",
    "\n",
    "##### Precedencia de Operadores\n",
    "\n",
    "O Python segue uma precedencia de operadores especifica, eis aqui a lista:\n",
    "\n",
    "\n"
   ]
  }
 ],
 "metadata": {
  "kernelspec": {
   "display_name": "Python 3.10.5 64-bit",
   "language": "python",
   "name": "python3"
  },
  "language_info": {
   "codemirror_mode": {
    "name": "ipython",
    "version": 3
   },
   "file_extension": ".py",
   "mimetype": "text/x-python",
   "name": "python",
   "nbconvert_exporter": "python",
   "pygments_lexer": "ipython3",
   "version": "3.10.5"
  },
  "orig_nbformat": 4,
  "vscode": {
   "interpreter": {
    "hash": "e7370f93d1d0cde622a1f8e1c04877d8463912d04d973331ad4851f04de6915a"
   }
  }
 },
 "nbformat": 4,
 "nbformat_minor": 2
}
