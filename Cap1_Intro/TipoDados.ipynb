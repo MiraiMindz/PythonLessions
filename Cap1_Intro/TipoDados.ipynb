{
 "cells": [
  {
   "cell_type": "markdown",
   "metadata": {},
   "source": [
    "# Tipos de Dado\n",
    "\n",
    "## O que é um Dado?\n",
    "\n",
    "Dado é tudo aquilo que guarda informação, ou seja, um numero, um texto, Verdadeiro ou Falso, uma letra, qualquer coisa que seja informação\n",
    "\n",
    "Eles são divididos entre Primitivos (ou Simples, ou Básicos) e Compostos (ou Agrupados, ou Complexos)\n",
    "\n",
    "## Dados Primitivos\n",
    "\n",
    "Dados Primitivos guardam apenas uma informação, ou seja, um numero, um texto, um Verdadeiro\n",
    "\n",
    "Eles são divididos em 3 tipos:\n",
    "\n",
    "- Strings (str)\n",
    "- Integers e Floats (int & float)\n",
    "- Booleans (bool)\n",
    "\n",
    "### String (Textos)\n",
    "\n",
    "#### Declaração\n",
    "\n",
    "As Strings representam os textos, sua declaração é feita através de aspas duplas (\"\") ou unicas ('')"
   ]
  },
  {
   "cell_type": "code",
   "execution_count": 5,
   "metadata": {},
   "outputs": [
    {
     "name": "stdout",
     "output_type": "stream",
     "text": [
      "Mirai Python\n"
     ]
    }
   ],
   "source": [
    "nome = \"Mirai\"\n",
    "linguagem = 'Python'\n",
    "print(nome, linguagem)"
   ]
  },
  {
   "cell_type": "markdown",
   "metadata": {},
   "source": [
    "Nós não podemos misturar as aspas, isto é, começar uma declaração com aspas duplas (\"\") e terminar com aspas unicas ('')\n",
    "\n",
    "nós podemos dentro da string usar a aspa que não foi usada durante a declaração, isto se torna util em texto em Ingles"
   ]
  },
  {
   "cell_type": "code",
   "execution_count": 4,
   "metadata": {},
   "outputs": [
    {
     "name": "stdout",
     "output_type": "stream",
     "text": [
      "Hi, my name is Mirai, I'm a Developer Pois então ela disse, \"Não se dirija mais a mim\"...\n"
     ]
    }
   ],
   "source": [
    "apresentacao = \"Hi, my name is Mirai, I'm a Developer\" # Note o uso das aspas unicas dentro da string\n",
    "citacao = 'Pois então ela disse, \"Não se dirija mais a mim\"...' # Note o uso das aspas duplas dentro da string\n",
    "\n",
    "# repare que envolta do texto usamos o mesmo tipo de aspas\n",
    "print(apresentacao, citacao)"
   ]
  },
  {
   "cell_type": "markdown",
   "metadata": {},
   "source": [
    "porém, nos podemos sim usar o mesmo tipo de aspas dentro e fora da string, basta ultilizarmos o caractere de escapagem (\\\\)"
   ]
  },
  {
   "cell_type": "code",
   "execution_count": 3,
   "metadata": {},
   "outputs": [
    {
     "name": "stdout",
     "output_type": "stream",
     "text": [
      "Hi, my name is Mirai, I'm a Developer Pois então ela disse, \"Não se dirija mais a mim\"...\n"
     ]
    }
   ],
   "source": [
    "apresentacao = 'Hi, my name is Mirai, I\\'m a Developer'\n",
    "citacao = \"Pois então ela disse, \\\"Não se dirija mais a mim\\\"...\"\n",
    "print(apresentacao, citacao)"
   ]
  },
  {
   "cell_type": "markdown",
   "metadata": {},
   "source": [
    "#### Multi-Line\n",
    "\n",
    "Tambem temos as \"Multi-line Strings\", elas são declaradas através de 3 aspas, sejam elas unicas ou duplas, elas são textos que se espalham por multiplas linhas, preservando espaços"
   ]
  },
  {
   "cell_type": "code",
   "execution_count": 2,
   "metadata": {},
   "outputs": [
    {
     "name": "stdout",
     "output_type": "stream",
     "text": [
      "Olá, eu sou um texto de multiplas linhasl, eu fui declarado usando aspas duplas \"\"\n",
      "\n",
      "  eu preservo os espaços\n",
      "\n",
      "    eba\n",
      "\n",
      "Olá, eu sou um texto de multiplas linhas, eu fui declarado usando aspas unicas ''\n",
      "\n",
      "  eu preservo os espaços\n",
      "\n",
      "    eba\n",
      "\n"
     ]
    }
   ],
   "source": [
    "multi_line1 = \"\"\"Olá, eu sou um texto de multiplas linhasl, eu fui declarado usando aspas duplas \\\"\\\"\n",
    "\n",
    "  eu preservo os espaços\n",
    "\n",
    "    eba\n",
    "\"\"\"\n",
    "\n",
    "multi_line2 = '''Olá, eu sou um texto de multiplas linhas, eu fui declarado usando aspas unicas \\'\\'\n",
    "\n",
    "  eu preservo os espaços\n",
    "\n",
    "    eba\n",
    "'''\n",
    "\n",
    "print(multi_line1)\n",
    "print(multi_line2)"
   ]
  },
  {
   "cell_type": "markdown",
   "metadata": {},
   "source": [
    "#### fStrings (Formatted Strings)\n",
    "\n",
    "as fStrings, são strings formatadas, isto é, strings que contém codigo, sua declaração é feita adicionando um `f` a frente das aspas, e envolvendo os codigos em chaves `{}`"
   ]
  },
  {
   "cell_type": "code",
   "execution_count": 7,
   "metadata": {},
   "outputs": [
    {
     "name": "stdout",
     "output_type": "stream",
     "text": [
      "Olá, meu nome é Mirai, eu tenho 17 anos e sei programar em Python\n"
     ]
    }
   ],
   "source": [
    "nome = \"Mirai\"\n",
    "linguagem = \"Python\"\n",
    "idade = 17\n",
    "apresentacao = f\"Olá, meu nome é {nome}, eu tenho {idade} anos e sei programar em {linguagem}\"\n",
    "print(apresentacao)"
   ]
  },
  {
   "cell_type": "markdown",
   "metadata": {},
   "source": [
    "eu disse codigo, pois podemos adicionar coisas além de variaveis, como funções, operações aritmeticas, metodos, etc...\n",
    "\n",
    "Eis aqui um exemplo:"
   ]
  },
  {
   "cell_type": "code",
   "execution_count": 8,
   "metadata": {},
   "outputs": [
    {
     "name": "stdout",
     "output_type": "stream",
     "text": [
      "Olá, meu nome é MIRAI, eu nasci em 2005 e sei programar em Python\n"
     ]
    }
   ],
   "source": [
    "nome = \"Mirai\"\n",
    "linguagem = \"Python\"\n",
    "idade = 17\n",
    "apresentacao = f'Olá, meu nome é {nome.upper()}, eu nasci em {2022 - idade} e sei programar em {linguagem}'\n",
    "print(apresentacao)"
   ]
  },
  {
   "cell_type": "markdown",
   "metadata": {},
   "source": [
    "As fStrings, podem ser misturadas com as Multi-Line strings, basta adicionar um `f` a frente\n",
    "\n",
    "elas tambem podem ser feitas através do string.format(), este metodo pega os argumentos providos e substutui nos espaços reservados em chaves `{}`"
   ]
  },
  {
   "cell_type": "code",
   "execution_count": 9,
   "metadata": {},
   "outputs": [
    {
     "name": "stdout",
     "output_type": "stream",
     "text": [
      "Olá, meu nome é Mirai, eu nasci em 17 e sei programar em Python\n"
     ]
    }
   ],
   "source": [
    "apresentacao = 'Olá, meu nome é {}, eu nasci em {} e sei programar em {}'\n",
    "nome = \"Mirai\"\n",
    "linguagem = \"Python\"\n",
    "idade = 17\n",
    "print(apresentacao.format(nome, idade, linguagem))"
   ]
  },
  {
   "cell_type": "markdown",
   "metadata": {},
   "source": [
    "#### Concatenação\n",
    "\n",
    "Concatenação é o ato de juntar duas Strings, veja o mesmo exemplo anterior porém concatenado"
   ]
  },
  {
   "cell_type": "code",
   "execution_count": 10,
   "metadata": {},
   "outputs": [
    {
     "name": "stdout",
     "output_type": "stream",
     "text": [
      "Olá, meu nome é Mirai, eu tenho 17 anos e sei programar em Python\n"
     ]
    }
   ],
   "source": [
    "nome = \"Mirai\"\n",
    "linguagem = \"Python\"\n",
    "idade = 17\n",
    "apresentacao = \"Olá, meu nome é \" + nome + \", eu tenho \" + str(idade) + \" anos e sei programar em \" + linguagem\n",
    "print(apresentacao)"
   ]
  },
  {
   "cell_type": "markdown",
   "metadata": {},
   "source": [
    "Note que nós devemos fazer a devida conversão para o tipo string (str), e devemos manejar os espaços manualmente, o que pode ser deveras entediante"
   ]
  },
  {
   "cell_type": "markdown",
   "metadata": {},
   "source": [
    "### Numeros (Ints & Floats) e Operações Aritméticas\n",
    "\n",
    "#### Ints\n",
    "\n",
    "INTs, Integers ou Integros, são quaisquer numeros inteiros, eles são passiveis de operações aritmeticas"
   ]
  },
  {
   "cell_type": "code",
   "execution_count": 13,
   "metadata": {},
   "outputs": [
    {
     "name": "stdout",
     "output_type": "stream",
     "text": [
      "<class 'int'>\n"
     ]
    }
   ],
   "source": [
    "idade = 17\n",
    "ano_de_nascimento = 2005\n",
    "ano_atual = 2022\n",
    "print(type(idade))"
   ]
  },
  {
   "cell_type": "markdown",
   "metadata": {},
   "source": [
    "#### Floats\n",
    "\n",
    "FLOATs, Floating Point Numbers ou Numeros de Pontos Flutuantes, são quaisquer numeros com casas decimais, ou um ponto (`.`) em sua declaração"
   ]
  },
  {
   "cell_type": "code",
   "execution_count": 14,
   "metadata": {},
   "outputs": [
    {
     "name": "stdout",
     "output_type": "stream",
     "text": [
      "<class 'float'>\n"
     ]
    }
   ],
   "source": [
    "PI = 3.1415\n",
    "print(type(PI))"
   ]
  },
  {
   "cell_type": "markdown",
   "metadata": {},
   "source": [
    "#### Operações Aritméticas\n",
    "\n",
    "Em Python se é possivel exercer operações aritméticas, eis aqui uma lista das possiveis operações\n",
    "\n",
    "- \\+ -> soma\n",
    "- \\- -> subtração\n",
    "- ** -> potencia\n",
    "- \\* -> mutiplicação\n",
    "- / -> divisão\n",
    "- // -> \"divisão verdadeira\"\n",
    "- % -> modulo\n",
    "\n",
    "Python segue sua própria ordem de precedencia baseada nos metodos BODMAS e PEMDAS, eis aqui sua ordem:\n",
    "\n",
    "- 1 - PARENTESES ((())) -> DE DENTRO PRA FORA\n",
    "- 2 - POTENCIA\n",
    "- 3 - RAIZES\n",
    "- 4 - MUTIPLICAÇÃO\n",
    "- 5 - DIVISÃO\n",
    "- 6 - SOMA\n",
    "- 7 - SUBTRAÇÃO\n",
    "\n",
    "As operações aritméticas são as mesmas aprendidas na escola, porém irei ressaltar 3, divisão, \"divisão verdadeira\" e modulo\n",
    "\n",
    "##### Divisão\n",
    "\n",
    "Em Python uma Divisão sempre resultará em um float, mesmo que o resultado seja inteiro:"
   ]
  },
  {
   "cell_type": "code",
   "execution_count": 17,
   "metadata": {},
   "outputs": [
    {
     "name": "stdout",
     "output_type": "stream",
     "text": [
      "2.0 <class 'float'>\n",
      "0.3333333333333333 <class 'float'>\n"
     ]
    }
   ],
   "source": [
    "print(4/2, type(4/2))\n",
    "print(1/3, type(1/3))"
   ]
  },
  {
   "cell_type": "markdown",
   "metadata": {},
   "source": [
    "Isso pode te levar a problemas caso necessite de um numero de tipo `int`, para isso se existe a \"Divisão Verdadeira\"\n",
    "\n",
    "##### \"Divisão Verdadeira\"\n",
    "\n",
    "A \"divisão verdadeira\" também é conhecida como \"divisão arredondada\" ou \"divisão exclusiva\", é uma operação de divisão que converte o resultado para Int\n",
    "\n",
    "o que ela essencialmente faz é cortar os numeros após o ponto, \"arredondando\" assim o numero"
   ]
  },
  {
   "cell_type": "code",
   "execution_count": 1,
   "metadata": {},
   "outputs": [
    {
     "name": "stdout",
     "output_type": "stream",
     "text": [
      "2 <class 'int'>\n",
      "0 <class 'int'>\n"
     ]
    }
   ],
   "source": [
    "print(4//2, type(4//2))\n",
    "print(1//3, type(4//2))"
   ]
  },
  {
   "cell_type": "markdown",
   "metadata": {},
   "source": [
    "##### Problemas com Numeros de Ponto Flutuante"
   ]
  }
 ],
 "metadata": {
  "interpreter": {
   "hash": "e7370f93d1d0cde622a1f8e1c04877d8463912d04d973331ad4851f04de6915a"
  },
  "kernelspec": {
   "display_name": "Python 3.10.4 64-bit",
   "language": "python",
   "name": "python3"
  },
  "language_info": {
   "codemirror_mode": {
    "name": "ipython",
    "version": 3
   },
   "file_extension": ".py",
   "mimetype": "text/x-python",
   "name": "python",
   "nbconvert_exporter": "python",
   "pygments_lexer": "ipython3",
   "version": "3.10.4"
  },
  "orig_nbformat": 4
 },
 "nbformat": 4,
 "nbformat_minor": 2
}
