{
 "cells": [
  {
   "cell_type": "markdown",
   "metadata": {},
   "source": [
    "# Variaveis, Comentários, print() e input()\n",
    "\n",
    "## Variaveis\n",
    "\n",
    "A declaração de variaveis em Python é bem simples, basta associar o nome da variavel ao valor desejado, seguindo este modelo:\n",
    "\n",
    "`{NOME_DA_VARIAVEL} = {VALOR}`\n",
    "\n",
    "o nome de uma variavel não deve conter espaços, virgulas ou pontos\n",
    "\n",
    "veja alguns exemplos no bloco de codigo a seguir: "
   ]
  },
  {
   "cell_type": "code",
   "execution_count": 5,
   "metadata": {},
   "outputs": [],
   "source": [
    "nome = \"Mirai\"\n",
    "idade = 17\n",
    "linguagem = \"Python\""
   ]
  },
  {
   "cell_type": "markdown",
   "metadata": {},
   "source": [
    "Também se é possivel associar varios valores a varias variaveis em uma mesma linha, assim como tambem se é possivel associar variaveis a outras variaveis"
   ]
  },
  {
   "cell_type": "code",
   "execution_count": 4,
   "metadata": {},
   "outputs": [],
   "source": [
    "nome, idade = \"Mirai\", 17\n",
    "nome1 = nome"
   ]
  },
  {
   "cell_type": "markdown",
   "metadata": {},
   "source": [
    "### Constantes\n",
    "\n",
    "Em programação, constantes são variaveis que não devem ser alteradas durante o programa, vide o nome, elas são CONSTANTES\n",
    "\n",
    "uma constante em Python é bem parecida com uma variavel em sua declaração, a unica diferença é que uma constante será sempre toda em MAIUSCULO"
   ]
  },
  {
   "cell_type": "code",
   "execution_count": 3,
   "metadata": {},
   "outputs": [],
   "source": [
    "PI = 3.1415\n",
    "NUMERO_SEIS = 6"
   ]
  },
  {
   "cell_type": "markdown",
   "metadata": {},
   "source": [
    "## Comentários\n",
    "\n",
    "Os comentários são uma funcionalidade das linguagens de programação, eles são linhas que serão ignoradas na execução do código\n",
    "\n",
    "em Python, os comentários começam com `#`, após isso, tudo será ignorado"
   ]
  },
  {
   "cell_type": "code",
   "execution_count": null,
   "metadata": {},
   "outputs": [],
   "source": [
    "# Podemos escrever qualquer coisa que ela não será executada\n",
    "nome = \"Mirai\" # Os comentários não precisam estar no inicio da linha, mas perceba, mesmo que coloquemos um codigo aqui, ele será ignorado"
   ]
  },
  {
   "cell_type": "markdown",
   "metadata": {},
   "source": [
    "Uma das ultilidades dos comentários é, além de comentar e adicionar informações ao codigo, a de \"salvar\" um codigo, frequentemente você irá se deparar com a seguinte situação:\n",
    "\n",
    "_\"Preciso que este pedaço de codigo não execute, mas não posso apaga-lo pois certamente irei perde-lo, o que devo fazer?\"_\n",
    "\n",
    "A resposta é simples, comente o codigo, isso mesmo, adicione `#` no inicio das linhas, assim o codigo não irá ser executado e você ainda o terá"
   ]
  },
  {
   "cell_type": "code",
   "execution_count": 2,
   "metadata": {},
   "outputs": [],
   "source": [
    "# nome = \"Mirai\""
   ]
  },
  {
   "cell_type": "markdown",
   "metadata": {},
   "source": [
    "### SheBang (Sistemas UNIX)\n",
    "\n",
    "Esta parte não tem muito a ver com a linguagem, mas você verá este comentário especial na primeira linha de meus scripts então irei explica-lo\n",
    "\n",
    "os SheBangs são comentários especiais que começam com `#!` adicionados na primeira linha de um script em sistemas baseados em UNIX (Linux e MacOS)\n",
    "\n",
    "eles apontam para o executavel a ser usado pelo script, um exemplo seria:\n",
    "\n",
    "`#!/usr/bin/env python3.10` neste SheBang nós usamos o programa `env` para localizar um executavel para o `python3.10`, dessa forma asseguramos compatibilidade dentre as plataformas UNIX"
   ]
  },
  {
   "cell_type": "markdown",
   "metadata": {},
   "source": [
    "## print()\n",
    "\n",
    "As funções em são reconhecidas pela adição de `()` ao seu final, essas funções, como o nome sugere, performam funções, funcionalidades, ações\n",
    "\n",
    "a função `print()` é usada quando queremos mostrar algo ao usuário, um exemplo seria:"
   ]
  },
  {
   "cell_type": "code",
   "execution_count": 1,
   "metadata": {},
   "outputs": [
    {
     "name": "stdout",
     "output_type": "stream",
     "text": [
      "Olá Mundo\n",
      "Tambem funciona com variaveis\n"
     ]
    }
   ],
   "source": [
    "print(\"Olá Mundo\") # Aqui Mostramos a mensagem \"Olá Mundo\"\n",
    "\n",
    "mensagem = \"Tambem funciona com variaveis\"\n",
    "\n",
    "print(mensagem) # após temos associado a um valor a variavel `mensagem` nós a exibimos ao usuário"
   ]
  },
  {
   "cell_type": "markdown",
   "metadata": {},
   "source": [
    "## input()\n",
    "\n",
    "A função `input()`, de certa forma é \"oposta\" a função `print()`, o `input()` serve para pegar uma informação do usuário, enquanto a `print()` serve para exibir"
   ]
  },
  {
   "cell_type": "code",
   "execution_count": null,
   "metadata": {},
   "outputs": [],
   "source": [
    "input() # ao executar este bloco, o programa irá esperar que o usuário aperte a tecla ENTER para enviar a informação digitada\n",
    "input(\"Insira seu nome: \") # Ao adicionarmos um texto dentro dos parenteses, este texto será exibido antes do cursor do usuário"
   ]
  },
  {
   "cell_type": "markdown",
   "metadata": {},
   "source": [
    "caso nós queiramos guardar as informações providas pelo `input()`, nós devemos associa-lo a uma variavel"
   ]
  },
  {
   "cell_type": "code",
   "execution_count": null,
   "metadata": {},
   "outputs": [],
   "source": [
    "idade = input(\"Insira sua idade: \")\n",
    "print(\"Sua idade é: \", idade)"
   ]
  },
  {
   "cell_type": "markdown",
   "metadata": {},
   "source": [
    "### Pequena curiosidade\n",
    "\n",
    "nós podemos associar funções a variaveis, e usar as variaveis ao invés da função (mas isso não é recomendado por ser extremamente desnecessario)\n",
    "\n",
    "exemplo:"
   ]
  },
  {
   "cell_type": "code",
   "execution_count": 7,
   "metadata": {},
   "outputs": [
    {
     "name": "stdout",
     "output_type": "stream",
     "text": [
      "Olá mundo\n"
     ]
    }
   ],
   "source": [
    "imprimir = print\n",
    "\n",
    "imprimir(\"Olá mundo\")"
   ]
  },
  {
   "cell_type": "markdown",
   "metadata": {},
   "source": [
    "e com isso terminamos nossa primeira aula escrita, o proximo arquivo ira lhe introduzir aos dados"
   ]
  }
 ],
 "metadata": {
  "interpreter": {
   "hash": "e7370f93d1d0cde622a1f8e1c04877d8463912d04d973331ad4851f04de6915a"
  },
  "kernelspec": {
   "display_name": "Python 3.10.4 64-bit",
   "language": "python",
   "name": "python3"
  },
  "language_info": {
   "codemirror_mode": {
    "name": "ipython",
    "version": 3
   },
   "file_extension": ".py",
   "mimetype": "text/x-python",
   "name": "python",
   "nbconvert_exporter": "python",
   "pygments_lexer": "ipython3",
   "version": "3.10.5"
  },
  "orig_nbformat": 4
 },
 "nbformat": 4,
 "nbformat_minor": 2
}
