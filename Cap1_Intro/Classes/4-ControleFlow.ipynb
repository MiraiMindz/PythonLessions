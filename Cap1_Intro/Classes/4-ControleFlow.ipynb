{
 "cells": [
  {
   "cell_type": "markdown",
   "metadata": {},
   "source": [
    "## Tipos de Controle de Flow e Escopo\n",
    "\n",
    "### Controle de Fluxo (Control Flow)\n",
    "\n",
    "o Controle de Fluxo (Control Flow) de um programa determina a forma como o código será executado, existem 4 tipos essenciais, isto é, destes quatro surgem variações\n",
    "\n",
    "- Sequencial: o código é executado de forma sequencial, cima a baixo\n",
    "\n",
    "- Decisivo: o código é executado baseado em uma decisão, `if` statements\n",
    "\n",
    "- Repetitivo: o código é executado em loop, `while` e `for` loops\n",
    "\n",
    "- Funcional: o código é dividido e executado em forma de funções (veremos mais a frente)\n",
    "\n",
    "#### Sequencial\n",
    "\n",
    "é essencialmente a forma como viemos escrevendo código até agora, os comandos são providos e executados de forma sequencial"
   ]
  },
  {
   "cell_type": "code",
   "execution_count": 1,
   "metadata": {},
   "outputs": [
    {
     "name": "stdout",
     "output_type": "stream",
     "text": [
      "executado primeiro\n",
      "executado depois\n",
      "executado por ultimo\n"
     ]
    }
   ],
   "source": [
    "print(\"executado primeiro\")\n",
    "print(\"executado depois\")\n",
    "print(\"executado por ultimo\")"
   ]
  },
  {
   "cell_type": "markdown",
   "metadata": {},
   "source": [
    "#### Decisivo\n",
    "\n",
    "O decisivo é usado quando queremos executar um codigo quando algo for verdadeiro ou falso, ou seja, quando tomamos uma decisão\n",
    "\n",
    "em Python nós duas formas de tomar decisões, `match-case` e cadeias de `elif`s\n",
    "\n",
    "começarei pelas cadeias de `elif`s pois elas constituem a lógica básica de um `if statement`\n",
    "\n",
    "a sintaxe de um `if statement` é a seguinte:\n",
    "\n",
    "```py\n",
    "if (condição):\n",
    "    {codigo}\n",
    "```\n",
    "\n",
    "irei desestruturar o código e explicar cada parte:\n",
    "\n",
    "`if` -> é a keyword, em uma tradução literal significa \"se\"\n",
    "\n",
    "`(condição)` -> é onde você coloca a condição para a execução do codigo e nós usamos os operadores condicionais para isto, os parenteses são opcionais\n",
    "\n",
    "`:` (dois pontos) -> eles são ESTRITAMENTE NECESSÁRIOS, pois dão inicio ao escopo do bloco, sem eles o código nunca será executado como esperado\n",
    "\n",
    "`    ` (indentação) -> seu tamanho pode variar dependendo das configurações da IDE, porém ela é o delimitador de escopo, ou seja, uma indentação mal feita torna o codigo impossivel de ser executado\n",
    "\n",
    "`{codigo}` -> é o codigo que você deseja executar\n",
    "\n",
    "vejamos alguns exemplos:"
   ]
  },
  {
   "cell_type": "code",
   "execution_count": 8,
   "metadata": {},
   "outputs": [
    {
     "name": "stdout",
     "output_type": "stream",
     "text": [
      "x é igual a 2\n",
      "x não é igual a y\n"
     ]
    }
   ],
   "source": [
    "x, y = 2, 3\n",
    "\n",
    "if x == 2:\n",
    "    print(f\"x é igual a {x}\")\n",
    "\n",
    "if (x != y):\n",
    "    print(f\"x não é igual a y\")"
   ]
  },
  {
   "cell_type": "markdown",
   "metadata": {},
   "source": [
    "suponhamos que você queria executar um código caso algo seja verdade e outro caso não seja verdade, bom, para isto temos a keyword `else`, ela não recebe nenhuma condição, pois só serve para executar o código caso o `if` não se concretize"
   ]
  },
  {
   "cell_type": "code",
   "execution_count": 9,
   "metadata": {},
   "outputs": [
    {
     "name": "stdout",
     "output_type": "stream",
     "text": [
      "x é igual a 2\n",
      "x é igual a y\n"
     ]
    }
   ],
   "source": [
    "x, y = 2, 2\n",
    "\n",
    "if x == 2:\n",
    "    print(f\"x é igual a {x}\")\n",
    "else:\n",
    "    print(f\"x não é igual a {x}\")\n",
    "\n",
    "if (x != y):\n",
    "    print(f\"x não é igual a {y}\")\n",
    "else:\n",
    "    print(f\"x é igual a y\")"
   ]
  },
  {
   "cell_type": "markdown",
   "metadata": {},
   "source": [
    "até agora nós conseguimos executar duas funções com base em uma variavel, mas e se quisermos tomar mais decisões?\n",
    "\n",
    "bom, se raciocinarmos um pouco podemos perceber que basta juntar `if`s e `else`s para termos mais de uma decisão, deste modo:"
   ]
  },
  {
   "cell_type": "code",
   "execution_count": 1,
   "metadata": {},
   "outputs": [
    {
     "name": "stdout",
     "output_type": "stream",
     "text": [
      "x é igual a 2\n"
     ]
    }
   ],
   "source": [
    "x, y = 2, 2\n",
    "\n",
    "if x == 2:\n",
    "    print(f\"x é igual a {x}\")\n",
    "else:\n",
    "    if (x != y):\n",
    "        print(f\"x não é igual a {y}\")\n",
    "    else:\n",
    "        print(f\"x é igual a y\")"
   ]
  },
  {
   "cell_type": "markdown",
   "metadata": {},
   "source": [
    "os desenvolvedores de Python perceberam este padrão e criaram uma keyword especifica para a união de `else`s e `if`s, chamada de `elif`\n",
    "\n",
    "ela é usada entre o `if` e o `else` em uma especie de cadeia, veja o exemplo:"
   ]
  },
  {
   "cell_type": "code",
   "execution_count": 2,
   "metadata": {},
   "outputs": [
    {
     "name": "stdout",
     "output_type": "stream",
     "text": [
      "x é igual a 1\n"
     ]
    }
   ],
   "source": [
    "x = 1\n",
    "\n",
    "if (x == 1):\n",
    "    print(f\"x é igual a {x}\")\n",
    "elif (x == 2):\n",
    "    print(f\"x é igual a {x}\")\n",
    "elif (x == 3):\n",
    "    print(f\"x é igual a {x}\")\n",
    "elif (x == 4):\n",
    "    print(f\"x é igual a {x}\")\n",
    "else:\n",
    "    print(f\"x é igual a {x}\")\n"
   ]
  },
  {
   "cell_type": "markdown",
   "metadata": {},
   "source": [
    "em cadeias de `elif`s nós podemos ter quantos `elif` forem necessários, porém, devemos ter APENAS um `if` no inicio e um `else` no fim para termos a cadeia\n",
    "\n",
    "tendo em vista o constante uso dessas cadeias em versões posteriores ao Python 3.10 nós temos a adição de duas keywords para este fim, `match` e `case`\n",
    "\n",
    "a sintaxe de um `match-case` é a seguinte:\n",
    "\n",
    "```py\n",
    "match (variavel):\n",
    "    case (opção):\n",
    "        {codigo}\n",
    "    case _:\n",
    "        {codigo}\n",
    "```\n",
    "\n",
    "`match` -> keyword\n",
    "\n",
    "`(variavel)` -> variavel usada na cadeia\n",
    "\n",
    "`case` -> keyword \n",
    "\n",
    "`(opção)` -> valor esperado, podemos ter quantos `case (opção)` quisermos\n",
    "\n",
    "`case _` -> valor universal, equivale ao `else` nas cadeias de `elif`s, executado caso todos os outros sejam falso\n"
   ]
  },
  {
   "cell_type": "code",
   "execution_count": 4,
   "metadata": {},
   "outputs": [
    {
     "name": "stdout",
     "output_type": "stream",
     "text": [
      "x é igual a 3\n"
     ]
    }
   ],
   "source": [
    "x = 3\n",
    "\n",
    "match x:\n",
    "    case 1:\n",
    "        print(f\"x é igual a {x}\")\n",
    "    case 2:\n",
    "        print(f\"x é igual a {x}\")\n",
    "    case 3:\n",
    "        print(f\"x é igual a {x}\")\n",
    "    case 4:\n",
    "        print(f\"x é igual a {x}\")\n",
    "    case _:\n",
    "        print(f\"x é igual a {x}\")"
   ]
  },
  {
   "cell_type": "markdown",
   "metadata": {},
   "source": [
    "então qual a diferença entre cadeias de `elif` e `match-case`?\n",
    "\n",
    "veja bem, o `match-case` está restrito aos valores de uma unica variavel, enquanto os `elif`s estão restritos a lógica booleana, ou seja, logicas que retornam verdadeiro ou falso\n",
    "\n",
    "basicamente, `elif`s são independentes entre si e podem ter lógicas complexas, enquanto `match-case` não\n",
    "\n",
    "veja um exemplo:"
   ]
  },
  {
   "cell_type": "code",
   "execution_count": 5,
   "metadata": {},
   "outputs": [
    {
     "name": "stdout",
     "output_type": "stream",
     "text": [
      "2\n",
      "a\n"
     ]
    }
   ],
   "source": [
    "x, y, z = 1, 2, 3\n",
    "\n",
    "if (x & y == 2):\n",
    "    print(1)\n",
    "elif (z + y != 6):\n",
    "    print(2)\n",
    "elif (y > x):\n",
    "    print(3)\n",
    "else:\n",
    "    print(4)\n",
    "\n",
    "match x:\n",
    "    case 1:\n",
    "        print(\"a\")\n",
    "    case 2:\n",
    "        print(\"b\")\n",
    "    case 3:\n",
    "        print(\"c\")\n",
    "    case _:\n",
    "        print(\"d\")"
   ]
  },
  {
   "cell_type": "markdown",
   "metadata": {},
   "source": [
    "#### Repetitivo (Recursivo)\n",
    "\n",
    "Flows repetitivos, como o nome sugere servem para repetir linhas de código, em Python nós temos duas keywords para isto, `while` e `for`\n",
    "\n",
    "o `while` serve para executar um codigo enquanto uma condição for verdadeira\n",
    "\n",
    "veja a sintaxe de um `while loop`:\n",
    "\n",
    "```py\n",
    "while (condição):\n",
    "    {codigo}\n",
    "```\n",
    "\n",
    "a unica diferença entre a estrutura basica de um `if`, é a keyword e o fato de termos apenas ela, não existem \"cadeias de `while`\"\n",
    "\n",
    "obs: os parenteses na declaração são opcionais, tanto no `while`, quanto no `for`\n",
    "\n",
    "veja o exemplo:"
   ]
  },
  {
   "cell_type": "code",
   "execution_count": 11,
   "metadata": {},
   "outputs": [
    {
     "name": "stdout",
     "output_type": "stream",
     "text": [
      "valor de x: 0\n",
      "valor de x: 1\n",
      "valor de x: 2\n",
      "valor de x: 3\n",
      "valor de x: 4\n",
      "valor de x: 5\n",
      "valor de x: 6\n",
      "valor de x: 7\n",
      "valor de x: 8\n",
      "valor de x: 9\n"
     ]
    }
   ],
   "source": [
    "x = 0\n",
    "\n",
    "while (x < 10):\n",
    "    print(f\"valor de x: {x}\")\n",
    "    x += 1"
   ]
  },
  {
   "cell_type": "markdown",
   "metadata": {},
   "source": [
    "enquanto `x` for menor que 10, exiba o valor de `x`, e incremente x por 1\n",
    "\n",
    "já o `for` serve para repetir em um \"raio\", de `x` a `y`, veja a sintaxe de um `for loop`:\n",
    "\n",
    "```py\n",
    "for {index} in (raio):\n",
    "    {codigo}\n",
    "```\n",
    "\n",
    "`for` -> keyword\n",
    "\n",
    "`{index}` -> variavel usada para o loop\n",
    "\n",
    "`in` -> operador membro, \"em tal grupo\"\n",
    "\n",
    "`(raio)` -> item iteravel\n",
    "\n",
    "veja o exemplo:"
   ]
  },
  {
   "cell_type": "code",
   "execution_count": 12,
   "metadata": {},
   "outputs": [
    {
     "name": "stdout",
     "output_type": "stream",
     "text": [
      "0\n",
      "1\n",
      "2\n",
      "3\n",
      "4\n",
      "5\n",
      "6\n",
      "7\n",
      "8\n",
      "9\n"
     ]
    }
   ],
   "source": [
    "for i in (range(10)):\n",
    "    print(i)"
   ]
  },
  {
   "cell_type": "markdown",
   "metadata": {},
   "source": [
    "para `i` em um raio de 10 digitos, exiba `i`\n",
    "\n",
    "essencialmente o `for` loop é um `while` delimitado, e ele é especialmente usado para iterar sob tipos compostos"
   ]
  },
  {
   "cell_type": "code",
   "execution_count": 13,
   "metadata": {},
   "outputs": [
    {
     "name": "stdout",
     "output_type": "stream",
     "text": [
      "a\n",
      "b\n",
      "c\n",
      "d\n"
     ]
    }
   ],
   "source": [
    "lista_legal = [\"a\", \"b\", \"c\", \"d\"]\n",
    "\n",
    "for i in (lista_legal):\n",
    "    print(i)"
   ]
  },
  {
   "cell_type": "markdown",
   "metadata": {},
   "source": [
    "### Desestruturação (Packing & Unpacking)\n",
    "\n",
    "A desestruturação em Python consiste em assimilar aos valores de um iterável a variaveis.\n",
    "\n",
    "por exemplo se voce lembra da [aula sobre variaveis](./2-VariaveisPrintInput_Aula1.ipynb#variaveis) certamente lembrará que podemos associar multiplas variaveis a multiplos valores em uma unica linha\n",
    "\n",
    "O que eu não lhe contei naquele momento é que isto é um exemplo de `unpacking`, nós estamos associando os valores de uma [tuple](./3-TipoDados.ipynb#tuples) a variaveis correspondentes, pois se você lembra, parenteses são opcionais, então ao fazermos:\n",
    "\n",
    "```py\n",
    "x, y = 1, 2\n",
    "```\n",
    "\n",
    "estamos fazendo o mesmo que:\n",
    "\n",
    "```py\n",
    "x, y = (1, 2)\n",
    "```\n",
    "\n",
    "ou até mesmo:\n",
    "\n",
    "```py\n",
    "(x, y) = (1, 2)\n",
    "```\n",
    "\n",
    "### Desestruturação em `for` loops\n",
    "\n",
    "a desestruturação em `for` loops consiste em uma variavel de index e uma variavel de valor\n",
    "\n",
    "para isso nós usamos a função `enumerate()`\n",
    "\n",
    "veja um exemplo:"
   ]
  },
  {
   "cell_type": "code",
   "execution_count": 3,
   "metadata": {},
   "outputs": [
    {
     "name": "stdout",
     "output_type": "stream",
     "text": [
      "O amigo1 está na posição 0\n",
      "O amigo2 está na posição 1\n",
      "O amigo3 está na posição 2\n"
     ]
    }
   ],
   "source": [
    "lista_amigos = ['amigo1', 'amigo2', 'amigo3']\n",
    "\n",
    "for index, valor in enumerate(lista_amigos):\n",
    "    print(f\"O {valor} está na posição {index}\")"
   ]
  },
  {
   "cell_type": "markdown",
   "metadata": {},
   "source": [
    "a função `enumerate()`"
   ]
  }
 ],
 "metadata": {
  "kernelspec": {
   "display_name": "Python 3.10.4 64-bit",
   "language": "python",
   "name": "python3"
  },
  "language_info": {
   "codemirror_mode": {
    "name": "ipython",
    "version": 3
   },
   "file_extension": ".py",
   "mimetype": "text/x-python",
   "name": "python",
   "nbconvert_exporter": "python",
   "pygments_lexer": "ipython3",
   "version": "3.10.5"
  },
  "orig_nbformat": 4,
  "vscode": {
   "interpreter": {
    "hash": "e7370f93d1d0cde622a1f8e1c04877d8463912d04d973331ad4851f04de6915a"
   }
  }
 },
 "nbformat": 4,
 "nbformat_minor": 2
}
